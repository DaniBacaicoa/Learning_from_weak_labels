{
 "cells": [
  {
   "cell_type": "code",
   "execution_count": 2,
   "metadata": {
    "collapsed": true
   },
   "outputs": [],
   "source": [
    "import torch\n",
    "import torch.nn as nn\n",
    "import numpy as np\n",
    "\n",
    "from datasets.openml_datasets import OpenML_Dataset\n",
    "from datasets.torch_datasets import Torch_Dataset\n",
    "from utils.weakener import Weakener\n",
    "from models.model import MLP\n",
    "from utils.losses import PartialLoss,EMLoss\n",
    "from utils.trainig_testing import train_and_evaluate,warm_up"
   ]
  },
  {
   "cell_type": "code",
   "execution_count": 3,
   "outputs": [],
   "source": [
    "Data = OpenML_Dataset('iris', batch_size=64)\n",
    "Weak = Weakener(Data.num_classes)\n",
    "#Weak.generate_M(model_class='pll')"
   ],
   "metadata": {
    "collapsed": false
   }
  },
  {
   "cell_type": "code",
   "execution_count": 4,
   "outputs": [
    {
     "name": "stdout",
     "output_type": "stream",
     "text": [
      "Methods for Data Class \n",
      " ['get_data', 'get_dataloader', 'include_weak'] \n",
      "Instances for Data Class \n",
      " ['batch_size', 'dataset', 'num_classes', 'num_features', 'shuffle', 'splitting_seed', 'test_dataset', 'test_num_samples', 'tr_size', 'train_dataset', 'train_num_samples', 'virtual_labels', 'weak_labels'] \n",
      "\n",
      "Methods for Weak Class \n",
      " ['generate_M', 'generate_weak', 'generate_wl_priors', 'label_matrix', 'pll_weights', 'virtual_labels', 'virtual_matrix'] \n",
      "Instances for Weak Class \n",
      " ['M', 'c', 'd', 'w', 'z']\n"
     ]
    }
   ],
   "source": [
    "print('Methods for Data Class','\\n',[method for method in dir(Data) if (method[0] != '_') & callable(getattr(Data, method)) ],'\\n'\n",
    "      'Instances for Data Class','\\n',[method for method in dir(Data) if (method[0] != '_') & (method not in [method for method in dir(Data) if (method[0] != '_') & callable(getattr(Data, method)) ]) ],'\\n\\n'\n",
    "      'Methods for Weak Class','\\n',[method for method in dir(Weak) if (method[0] != '_') & callable(getattr(Weak, method)) ],'\\n'\n",
    "      'Instances for Weak Class','\\n',[method for method in dir(Weak) if (method[0] != '_') & (method not in [method for method in dir(Weak) if (method[0] != '_') & callable(getattr(Weak, method)) ]) ])"
   ],
   "metadata": {
    "collapsed": false
   }
  },
  {
   "cell_type": "code",
   "execution_count": 5,
   "outputs": [
    {
     "data": {
      "text/plain": "(array([[0.   , 0.375, 0.375],\n        [0.375, 0.   , 0.375],\n        [0.375, 0.375, 0.   ],\n        [0.25 , 0.25 , 0.25 ]]),\n array([[0, 1, 1],\n        [1, 0, 1],\n        [1, 1, 0],\n        [1, 1, 1]]))"
     },
     "execution_count": 5,
     "metadata": {},
     "output_type": "execute_result"
    }
   ],
   "source": [
    "Weak.generate_M('pll',pll_p=0.5)\n",
    "Weak.M[:5,:],Weak.Z[:5,:]"
   ],
   "metadata": {
    "collapsed": false
   }
  },
  {
   "cell_type": "code",
   "execution_count": 6,
   "outputs": [
    {
     "name": "stdout",
     "output_type": "stream",
     "text": [
      "torch.Size([105, 4])\n"
     ]
    }
   ],
   "source": [
    "train_X,train_y,test_X,test_y =  Data.get_data()\n",
    "print(train_X.shape)"
   ],
   "metadata": {
    "collapsed": false
   }
  },
  {
   "cell_type": "code",
   "execution_count": 7,
   "outputs": [
    {
     "data": {
      "text/plain": "(tensor([1, 0, 0, 0, 3, 2, 2, 3, 1, 2, 3, 2, 3, 1, 3, 0, 1, 2, 1, 1, 0, 2, 2, 2,\n         0, 2, 3, 3, 3, 1, 2, 2, 2, 3, 1, 2, 2, 1, 3, 2, 2, 2, 0, 2, 2, 1, 2, 0,\n         1, 2, 3, 3, 0, 0, 0, 2, 0, 3, 0, 2, 1, 3, 3, 1, 2, 0, 1, 3, 0, 1, 3, 2,\n         3, 1, 2, 1, 3, 3, 2, 1, 2, 0, 2, 0, 0, 0, 3, 0, 0, 3, 1, 0, 1, 3, 3, 3,\n         0, 3, 0, 1, 0, 0, 0, 3, 0], dtype=torch.int32),\n tensor([[1., 0., 1.],\n         [0., 1., 1.],\n         [0., 1., 1.],\n         [0., 1., 1.],\n         [1., 1., 1.],\n         [1., 1., 0.],\n         [1., 1., 0.],\n         [1., 1., 1.],\n         [1., 0., 1.],\n         [1., 1., 0.],\n         [1., 1., 1.],\n         [1., 1., 0.],\n         [1., 1., 1.],\n         [1., 0., 1.],\n         [1., 1., 1.],\n         [0., 1., 1.],\n         [1., 0., 1.],\n         [1., 1., 0.],\n         [1., 0., 1.],\n         [1., 0., 1.],\n         [0., 1., 1.],\n         [1., 1., 0.],\n         [1., 1., 0.],\n         [1., 1., 0.],\n         [0., 1., 1.],\n         [1., 1., 0.],\n         [1., 1., 1.],\n         [1., 1., 1.],\n         [1., 1., 1.],\n         [1., 0., 1.],\n         [1., 1., 0.],\n         [1., 1., 0.],\n         [1., 1., 0.],\n         [1., 1., 1.],\n         [1., 0., 1.],\n         [1., 1., 0.],\n         [1., 1., 0.],\n         [1., 0., 1.],\n         [1., 1., 1.],\n         [1., 1., 0.],\n         [1., 1., 0.],\n         [1., 1., 0.],\n         [0., 1., 1.],\n         [1., 1., 0.],\n         [1., 1., 0.],\n         [1., 0., 1.],\n         [1., 1., 0.],\n         [0., 1., 1.],\n         [1., 0., 1.],\n         [1., 1., 0.],\n         [1., 1., 1.],\n         [1., 1., 1.],\n         [0., 1., 1.],\n         [0., 1., 1.],\n         [0., 1., 1.],\n         [1., 1., 0.],\n         [0., 1., 1.],\n         [1., 1., 1.],\n         [0., 1., 1.],\n         [1., 1., 0.],\n         [1., 0., 1.],\n         [1., 1., 1.],\n         [1., 1., 1.],\n         [1., 0., 1.],\n         [1., 1., 0.],\n         [0., 1., 1.],\n         [1., 0., 1.],\n         [1., 1., 1.],\n         [0., 1., 1.],\n         [1., 0., 1.],\n         [1., 1., 1.],\n         [1., 1., 0.],\n         [1., 1., 1.],\n         [1., 0., 1.],\n         [1., 1., 0.],\n         [1., 0., 1.],\n         [1., 1., 1.],\n         [1., 1., 1.],\n         [1., 1., 0.],\n         [1., 0., 1.],\n         [1., 1., 0.],\n         [0., 1., 1.],\n         [1., 1., 0.],\n         [0., 1., 1.],\n         [0., 1., 1.],\n         [0., 1., 1.],\n         [1., 1., 1.],\n         [0., 1., 1.],\n         [0., 1., 1.],\n         [1., 1., 1.],\n         [1., 0., 1.],\n         [0., 1., 1.],\n         [1., 0., 1.],\n         [1., 1., 1.],\n         [1., 1., 1.],\n         [1., 1., 1.],\n         [0., 1., 1.],\n         [1., 1., 1.],\n         [0., 1., 1.],\n         [1., 0., 1.],\n         [0., 1., 1.],\n         [0., 1., 1.],\n         [0., 1., 1.],\n         [1., 1., 1.],\n         [0., 1., 1.]], dtype=torch.float64))"
     },
     "execution_count": 7,
     "metadata": {},
     "output_type": "execute_result"
    }
   ],
   "source": [
    "Weak.generate_weak(train_y)"
   ],
   "metadata": {
    "collapsed": false
   }
  },
  {
   "cell_type": "code",
   "execution_count": 8,
   "outputs": [
    {
     "data": {
      "text/plain": "(tensor([[0., 0., 1.],\n         [0., 1., 0.],\n         [0., 0., 1.],\n         [0., 1., 0.],\n         [1., 0., 0.]]),\n tensor([1, 0, 0, 0, 3], dtype=torch.int32),\n tensor([[1., 0., 1.],\n         [0., 1., 1.],\n         [0., 1., 1.],\n         [0., 1., 1.],\n         [1., 1., 1.]], dtype=torch.float64))"
     },
     "execution_count": 8,
     "metadata": {},
     "output_type": "execute_result"
    }
   ],
   "source": [
    "train_y[:5,:],Weak.z[:5],Weak.w[:5,:]"
   ],
   "metadata": {
    "collapsed": false
   }
  },
  {
   "cell_type": "code",
   "execution_count": 9,
   "outputs": [],
   "source": [
    "Data.include_weak(Weak.z)"
   ],
   "metadata": {
    "collapsed": false
   }
  },
  {
   "cell_type": "code",
   "execution_count": 10,
   "outputs": [],
   "source": [
    "trainloader,testloader = Data.get_dataloader()"
   ],
   "metadata": {
    "collapsed": false
   }
  },
  {
   "cell_type": "code",
   "execution_count": 11,
   "outputs": [
    {
     "name": "stdout",
     "output_type": "stream",
     "text": [
      "Methods for MLP Class \n",
      " ['add_module', 'apply', 'bfloat16', 'buffers', 'children', 'cpu', 'cuda', 'double', 'eval', 'extra_repr', 'float', 'forward', 'get_buffer', 'get_extra_state', 'get_parameter', 'get_submodule', 'half', 'ipu', 'load_state_dict', 'modules', 'named_buffers', 'named_children', 'named_modules', 'named_parameters', 'parameters', 'register_backward_hook', 'register_buffer', 'register_forward_hook', 'register_forward_pre_hook', 'register_full_backward_hook', 'register_load_state_dict_post_hook', 'register_module', 'register_parameter', 'requires_grad_', 'set_extra_state', 'share_memory', 'state_dict', 'to', 'to_empty', 'train', 'type', 'xpu', 'zero_grad'] \n",
      "Instances for MLP Class \n",
      " ['T_destination', 'dump_patches']\n"
     ]
    }
   ],
   "source": [
    "print('Methods for MLP Class','\\n',[method for method in dir(MLP) if (method[0] != '_') & callable(getattr(MLP, method)) ],'\\n'\n",
    "      'Instances for MLP Class','\\n',[method for method in dir(MLP) if (method[0] != '_') & (method not in [method for method in dir(MLP) if (method[0] != '_') & callable(getattr(MLP, method))])])"
   ],
   "metadata": {
    "collapsed": false
   }
  },
  {
   "cell_type": "markdown",
   "source": [],
   "metadata": {
    "collapsed": false
   }
  },
  {
   "cell_type": "markdown",
   "source": [],
   "metadata": {
    "collapsed": false
   }
  },
  {
   "cell_type": "code",
   "execution_count": 12,
   "outputs": [],
   "source": [
    "mlp = MLP(Data.num_features,[Data.num_features],Data.num_classes, dropout_p=0.5, bn=True, activation =  'gelu')"
   ],
   "metadata": {
    "collapsed": false
   }
  },
  {
   "cell_type": "code",
   "execution_count": 13,
   "outputs": [
    {
     "data": {
      "text/plain": "MLP(\n  (layers): ModuleList(\n    (0): Linear(in_features=4, out_features=4, bias=True)\n    (1): Linear(in_features=4, out_features=3, bias=True)\n  )\n  (batch_norms): ModuleList(\n    (0): BatchNorm1d(4, eps=1e-05, momentum=0.1, affine=True, track_running_stats=True)\n  )\n  (dropout): Dropout(p=0.5, inplace=False)\n)"
     },
     "execution_count": 13,
     "metadata": {},
     "output_type": "execute_result"
    }
   ],
   "source": [
    "mlp"
   ],
   "metadata": {
    "collapsed": false
   }
  },
  {
   "cell_type": "code",
   "execution_count": 14,
   "outputs": [],
   "source": [
    "logsoftmax = nn.LogSoftmax(dim=1)\n",
    "inputs, vl, trues, ind = next(iter(trainloader))\n",
    "v = mlp(inputs)\n",
    "logp = logsoftmax(v)\n",
    "p = torch.exp(logp)"
   ],
   "metadata": {
    "collapsed": false
   }
  },
  {
   "cell_type": "code",
   "execution_count": 15,
   "outputs": [
    {
     "data": {
      "text/plain": "4"
     },
     "execution_count": 15,
     "metadata": {},
     "output_type": "execute_result"
    }
   ],
   "source": [
    "Weak.d"
   ],
   "metadata": {
    "collapsed": false
   }
  },
  {
   "cell_type": "code",
   "execution_count": 16,
   "outputs": [
    {
     "data": {
      "text/plain": "tensor([[0.2500, 0.2500, 0.2500],\n        [0.2500, 0.2500, 0.2500],\n        [0.2500, 0.2500, 0.2500],\n        [0.2500, 0.2500, 0.2500]])"
     },
     "execution_count": 16,
     "metadata": {},
     "output_type": "execute_result"
    }
   ],
   "source": [
    "MM = torch.ones((Weak.d,Weak.c)) / Weak.d\n",
    "MM"
   ],
   "metadata": {
    "collapsed": false
   }
  },
  {
   "cell_type": "code",
   "execution_count": 17,
   "outputs": [],
   "source": [
    "vl = vl.type(torch.LongTensor)"
   ],
   "metadata": {
    "collapsed": false
   }
  },
  {
   "cell_type": "code",
   "execution_count": 23,
   "outputs": [],
   "source": [
    "Q = p*MM[vl]"
   ],
   "metadata": {
    "collapsed": false
   }
  },
  {
   "cell_type": "code",
   "execution_count": 24,
   "outputs": [
    {
     "data": {
      "text/plain": "tensor([[0.0164, 0.0452, 0.1884],\n        [0.0850, 0.0846, 0.0804],\n        [0.0276, 0.0826, 0.1398],\n        [0.1047, 0.0817, 0.0636],\n        [0.0227, 0.0317, 0.1956],\n        [0.0941, 0.0310, 0.1249],\n        [0.0529, 0.0030, 0.1941],\n        [0.0582, 0.0440, 0.1478],\n        [0.1025, 0.0936, 0.0539],\n        [0.0207, 0.0399, 0.1894],\n        [0.0063, 0.2281, 0.0156],\n        [0.0353, 0.1001, 0.1145],\n        [0.1228, 0.0637, 0.0636],\n        [0.0235, 0.1951, 0.0314],\n        [0.1188, 0.0805, 0.0508],\n        [0.1043, 0.0844, 0.0613],\n        [0.1173, 0.0805, 0.0523],\n        [0.0572, 0.0335, 0.1593],\n        [0.1047, 0.0817, 0.0636],\n        [0.0206, 0.2056, 0.0239],\n        [0.0832, 0.0397, 0.1272],\n        [0.1133, 0.0755, 0.0612],\n        [0.1056, 0.0684, 0.0760],\n        [0.0188, 0.0407, 0.1906],\n        [0.1155, 0.0687, 0.0658],\n        [0.1185, 0.0804, 0.0511],\n        [0.0188, 0.0765, 0.1547],\n        [0.1153, 0.0438, 0.0910],\n        [0.0988, 0.0197, 0.1315],\n        [0.1152, 0.0729, 0.0620],\n        [0.1216, 0.0762, 0.0522],\n        [0.0819, 0.0942, 0.0739],\n        [0.0891, 0.0420, 0.1189],\n        [0.0784, 0.0730, 0.0986],\n        [0.0177, 0.0755, 0.1568],\n        [0.1067, 0.0642, 0.0792],\n        [0.0250, 0.1201, 0.1049],\n        [0.0203, 0.2007, 0.0290],\n        [0.0899, 0.0544, 0.1057],\n        [0.1054, 0.0870, 0.0576],\n        [0.0206, 0.1317, 0.0977],\n        [0.1216, 0.0648, 0.0636],\n        [0.0378, 0.0648, 0.1474],\n        [0.0503, 0.0889, 0.1108],\n        [0.1190, 0.0660, 0.0650],\n        [0.0641, 0.0095, 0.1765],\n        [0.1031, 0.0909, 0.0560],\n        [0.1209, 0.0796, 0.0496],\n        [0.0167, 0.2097, 0.0236],\n        [0.0845, 0.0581, 0.1074],\n        [0.0269, 0.1075, 0.1156],\n        [0.1084, 0.0837, 0.0579],\n        [0.1210, 0.0789, 0.0500],\n        [0.1175, 0.0723, 0.0602],\n        [0.1016, 0.0971, 0.0513],\n        [0.1056, 0.0743, 0.0702],\n        [0.0439, 0.0881, 0.1180],\n        [0.0864, 0.0786, 0.0850],\n        [0.0844, 0.0867, 0.0790],\n        [0.0711, 0.0886, 0.0903],\n        [0.0076, 0.0277, 0.2147],\n        [0.1223, 0.0800, 0.0477],\n        [0.1047, 0.0817, 0.0636],\n        [0.0232, 0.0925, 0.1343]], grad_fn=<MulBackward0>)"
     },
     "execution_count": 24,
     "metadata": {},
     "output_type": "execute_result"
    }
   ],
   "source": [
    "Q"
   ],
   "metadata": {
    "collapsed": false
   }
  },
  {
   "cell_type": "code",
   "execution_count": 22,
   "outputs": [
    {
     "data": {
      "text/plain": "tensor([0.1999, 0.4277, 0.3724], grad_fn=<DivBackward0>)"
     },
     "execution_count": 22,
     "metadata": {},
     "output_type": "execute_result"
    }
   ],
   "source": [
    "torch.mean(Q[vl==1,:],0)/torch.sum(torch.mean(Q[vl==1,:],0))"
   ],
   "metadata": {
    "collapsed": false
   }
  },
  {
   "cell_type": "code",
   "execution_count": 19,
   "outputs": [
    {
     "data": {
      "text/plain": "tensor(0.2500, grad_fn=<SumBackward0>)"
     },
     "execution_count": 19,
     "metadata": {},
     "output_type": "execute_result"
    }
   ],
   "source": [
    "torch.sum(torch.mean(Q[vl==1,:],0))"
   ],
   "metadata": {
    "collapsed": false
   }
  },
  {
   "cell_type": "code",
   "execution_count": 20,
   "outputs": [
    {
     "ename": "SyntaxError",
     "evalue": "invalid syntax (1527260333.py, line 1)",
     "output_type": "error",
     "traceback": [
      "\u001B[1;36m  Cell \u001B[1;32mIn[20], line 1\u001B[1;36m\u001B[0m\n\u001B[1;33m    for\u001B[0m\n\u001B[1;37m       ^\u001B[0m\n\u001B[1;31mSyntaxError\u001B[0m\u001B[1;31m:\u001B[0m invalid syntax\n"
     ]
    }
   ],
   "source": [
    "for\n",
    "Q"
   ],
   "metadata": {
    "collapsed": false
   }
  },
  {
   "cell_type": "code",
   "execution_count": null,
   "outputs": [],
   "source": [
    "optim = torch.optim.Adam(mlp.parameters(),lr=1e-2)\n",
    "loss = EMLoss(Weak.M)"
   ],
   "metadata": {
    "collapsed": false
   }
  },
  {
   "cell_type": "code",
   "execution_count": null,
   "outputs": [],
   "source": [
    "mlp, results = train_and_evaluate(mlp,trainloader,testloader,optimizer=optim,loss_fn=loss,num_epochs=50,sound = 1)"
   ],
   "metadata": {
    "collapsed": false
   }
  },
  {
   "cell_type": "code",
   "execution_count": null,
   "outputs": [],
   "source": [
    "import matplotlib.pyplot as plt\n",
    "fig, (ax1, ax2) = plt.subplots(1, 2, figsize=(10, 5))\n",
    "\n",
    "# Plot the first subplot (Train Loss)\n",
    "ax1.plot(results['train_loss'])\n",
    "ax1.set_xlabel('Epoch')\n",
    "ax1.set_ylabel('Loss')\n",
    "ax1.set_title('Train Loss')\n",
    "\n",
    "# Plot the second subplot (Accuracies)\n",
    "ax2.plot(results['train_acc'], label='Train Accuracy')\n",
    "ax2.plot(results['test_acc'], label='Test Accuracy')\n",
    "ax2.set_xlabel('Epoch')\n",
    "ax2.set_ylabel('Accuracy')\n",
    "ax2.set_title('Accuracies')\n",
    "ax2.legend()\n",
    "\n",
    "fig.suptitle('EM Learning Results', fontsize=18, fontweight='bold', y=1.05)\n",
    "# Show the plot\n",
    "plt.show()"
   ],
   "metadata": {
    "collapsed": false
   }
  },
  {
   "cell_type": "code",
   "execution_count": null,
   "outputs": [],
   "source": [
    "torch.mean(results['test_acc'][45:])"
   ],
   "metadata": {
    "collapsed": false
   }
  },
  {
   "cell_type": "code",
   "execution_count": null,
   "outputs": [],
   "source": [],
   "metadata": {
    "collapsed": false
   }
  }
 ],
 "metadata": {
  "kernelspec": {
   "display_name": "Python 3",
   "language": "python",
   "name": "python3"
  },
  "language_info": {
   "codemirror_mode": {
    "name": "ipython",
    "version": 2
   },
   "file_extension": ".py",
   "mimetype": "text/x-python",
   "name": "python",
   "nbconvert_exporter": "python",
   "pygments_lexer": "ipython2",
   "version": "2.7.6"
  }
 },
 "nbformat": 4,
 "nbformat_minor": 0
}
