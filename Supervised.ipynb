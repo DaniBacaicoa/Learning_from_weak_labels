{
 "cells": [
  {
   "cell_type": "markdown",
   "source": [
    "# Quick example of Supervised\n",
    "## with CE and using the Moore Penrose inverse as the Virtual Label matrix\n",
    "This example tries to show the usage of the classes and methods\n",
    "proposed here to show classification with weakly labeled datasets.\n",
    "In this case we use the **CE** loss."
   ],
   "metadata": {
    "collapsed": false
   }
  },
  {
   "cell_type": "code",
   "execution_count": 1,
   "outputs": [],
   "source": [
    "# Importing general libraries\n",
    "import torch\n",
    "import torch.nn as nn\n",
    "import torchvision\n",
    "import numpy as np\n",
    "\n",
    "# Importing specific classes and functions\n",
    "from utils.weakener import Weakener\n",
    "\n",
    "#Importing drawing tools\n",
    "import matplotlib.pyplot as plt\n",
    "\n",
    "#importing dataloaders\n",
    "from datasets.openml_datasets import OpenML_Dataset\n",
    "from datasets.torch_datasets import Torch_Dataset\n",
    "from models.model import MLP\n",
    "from utils.trainig_testing import train_model,evaluate_model,train_and_evaluate\n",
    "from utils.losses import EMLoss, CELoss"
   ],
   "metadata": {
    "collapsed": false,
    "pycharm": {
     "name": "#%%\n"
    }
   }
  },
  {
   "cell_type": "code",
   "execution_count": 2,
   "outputs": [],
   "source": [
    "# DS stores the dataset and its related attributes\n",
    "DS = Torch_Dataset('mnist')\n",
    "train_x, train_y, test_x, test_y = DS.get_data()\n",
    "# WL stores pocesses relative to the Weakening process\n",
    "WL = Weakener(DS.num_classes)\n"
   ],
   "metadata": {
    "collapsed": false,
    "pycharm": {
     "name": "#%%\n"
    }
   }
  },
  {
   "cell_type": "code",
   "execution_count": 3,
   "outputs": [
    {
     "name": "stdout",
     "output_type": "stream",
     "text": [
      "[[1. 0. 0. 0. 0. 0. 0. 0. 0. 0.]\n",
      " [0. 1. 0. 0. 0. 0. 0. 0. 0. 0.]\n",
      " [0. 0. 1. 0. 0. 0. 0. 0. 0. 0.]\n",
      " [0. 0. 0. 1. 0. 0. 0. 0. 0. 0.]\n",
      " [0. 0. 0. 0. 1. 0. 0. 0. 0. 0.]\n",
      " [0. 0. 0. 0. 0. 1. 0. 0. 0. 0.]\n",
      " [0. 0. 0. 0. 0. 0. 1. 0. 0. 0.]\n",
      " [0. 0. 0. 0. 0. 0. 0. 1. 0. 0.]\n",
      " [0. 0. 0. 0. 0. 0. 0. 0. 1. 0.]\n",
      " [0. 0. 0. 0. 0. 0. 0. 0. 0. 1.]]\n",
      "{0: '1000000000', 1: '0100000000', 2: '0010000000', 3: '0001000000', 4: '0000100000', 5: '0000010000', 6: '0000001000', 7: '0000000100', 8: '0000000010', 9: '0000000001'}\n"
     ]
    }
   ],
   "source": [
    "# Generation of the mixing matrix according to the model\n",
    "#  we've chosen.\n",
    "WL.generate_M(model_class='supervised')\n",
    "print(WL.M)\n",
    "print(WL.labels)"
   ],
   "metadata": {
    "collapsed": false,
    "pycharm": {
     "name": "#%%\n"
    }
   }
  },
  {
   "cell_type": "code",
   "execution_count": 4,
   "outputs": [],
   "source": [
    "# We generate the weak labels (this step is optional as WL.virtual_labels(train_y) can do it)\n",
    "z, w = WL.generate_weak(train_y)"
   ],
   "metadata": {
    "collapsed": false,
    "pycharm": {
     "name": "#%%\n"
    }
   }
  },
  {
   "cell_type": "markdown",
   "source": [
    "z is the numerical encodig of the weak label while w is a one-hot\n",
    "representation of that variable. z also encodes the row of the M matrix\n",
    "for that given weak label.\n",
    "\n",
    "Let's consider the example of partial label learning for the iris dataset.\n",
    "labels are encoded as ```{0: '011', 1: '101', 2: '110', 3: '111'}```\n",
    "so having an isntance with `z=3` means `w=[1,1,1]`, i.e., the weak label contains every label."
   ],
   "metadata": {
    "collapsed": false
   }
  },
  {
   "cell_type": "code",
   "execution_count": 5,
   "outputs": [
    {
     "data": {
      "text/plain": "array([[0., 0., 0., 0., 0., 1., 0., 0., 0., 0.],\n       [1., 0., 0., 0., 0., 0., 0., 0., 0., 0.],\n       [0., 0., 0., 0., 1., 0., 0., 0., 0., 0.],\n       [0., 1., 0., 0., 0., 0., 0., 0., 0., 0.],\n       [0., 0., 0., 0., 0., 0., 0., 0., 0., 1.],\n       [0., 0., 1., 0., 0., 0., 0., 0., 0., 0.],\n       [0., 1., 0., 0., 0., 0., 0., 0., 0., 0.],\n       [0., 0., 0., 1., 0., 0., 0., 0., 0., 0.],\n       [0., 1., 0., 0., 0., 0., 0., 0., 0., 0.],\n       [0., 0., 0., 0., 1., 0., 0., 0., 0., 0.]])"
     },
     "execution_count": 5,
     "metadata": {},
     "output_type": "execute_result"
    }
   ],
   "source": [
    "# We generate the weak labels (this step is optional as WL.virtual_labels(train_y) can do it)\n",
    "WL.virtual_matrix(convex=True)\n",
    "#And we generate the virtual labels\n",
    "WL.virtual_labels(train_y)\n",
    "WL.v[:10,:]\n"
   ],
   "metadata": {
    "collapsed": false,
    "pycharm": {
     "name": "#%%\n"
    }
   }
  },
  {
   "cell_type": "code",
   "execution_count": 6,
   "outputs": [
    {
     "name": "stdout",
     "output_type": "stream",
     "text": [
      "10000\n",
      "60000\n"
     ]
    }
   ],
   "source": [
    "#We need to include this Weak Labels into the dataset,\n",
    "# we need to include w to mantain the coherence. z will only be used\n",
    "# in the loss for the EM\n",
    "DS.include_weak(WL.v)\n",
    "# Once we have our dataset with all the labels we need we can create the dataloaders.\n",
    "trainloader, testloader = DS.get_dataloader()\n",
    "\n",
    "print(len(testloader.dataset))\n",
    "print(len(trainloader.dataset))"
   ],
   "metadata": {
    "collapsed": false,
    "pycharm": {
     "name": "#%%\n"
    }
   }
  },
  {
   "cell_type": "markdown",
   "source": [
    "Now we have a trainloader containing (X,v,y) and a testloader containig (X,y)\n",
    "so we can just establish our model and train it.\n",
    "\n"
   ],
   "metadata": {
    "collapsed": false
   }
  },
  {
   "cell_type": "code",
   "execution_count": 7,
   "outputs": [
    {
     "name": "stdout",
     "output_type": "stream",
     "text": [
      "Epoch 1/40: Train Loss: 4.1254, Train Acc: 0.7370, Test Acc: 0.9269\n",
      "Epoch 2/40: Train Loss: 0.5502, Train Acc: 0.8560, Test Acc: 0.9360\n",
      "Epoch 3/40: Train Loss: 0.4447, Train Acc: 0.8847, Test Acc: 0.9482\n",
      "Epoch 4/40: Train Loss: 0.4167, Train Acc: 0.8911, Test Acc: 0.9479\n",
      "Epoch 5/40: Train Loss: 0.4298, Train Acc: 0.8932, Test Acc: 0.9432\n",
      "Epoch 6/40: Train Loss: 0.4501, Train Acc: 0.8926, Test Acc: 0.9474\n",
      "Epoch 7/40: Train Loss: 0.4801, Train Acc: 0.8879, Test Acc: 0.9480\n",
      "Epoch 8/40: Train Loss: 0.4663, Train Acc: 0.8922, Test Acc: 0.9486\n",
      "Epoch 9/40: Train Loss: 0.4899, Train Acc: 0.8906, Test Acc: 0.9398\n",
      "Epoch 10/40: Train Loss: 0.4959, Train Acc: 0.8895, Test Acc: 0.9460\n",
      "Epoch 11/40: Train Loss: 0.4833, Train Acc: 0.8955, Test Acc: 0.9459\n",
      "Epoch 12/40: Train Loss: 0.4794, Train Acc: 0.8958, Test Acc: 0.9506\n",
      "Epoch 13/40: Train Loss: 0.4915, Train Acc: 0.8965, Test Acc: 0.9504\n",
      "Epoch 14/40: Train Loss: 0.4819, Train Acc: 0.8991, Test Acc: 0.9518\n",
      "Epoch 15/40: Train Loss: 0.4916, Train Acc: 0.8975, Test Acc: 0.9487\n",
      "Epoch 16/40: Train Loss: 0.4749, Train Acc: 0.9028, Test Acc: 0.9507\n",
      "Epoch 17/40: Train Loss: 0.4836, Train Acc: 0.8991, Test Acc: 0.9429\n",
      "Epoch 18/40: Train Loss: 0.4719, Train Acc: 0.8988, Test Acc: 0.9484\n",
      "Epoch 19/40: Train Loss: 0.5179, Train Acc: 0.8948, Test Acc: 0.9460\n",
      "Epoch 20/40: Train Loss: 0.5315, Train Acc: 0.8948, Test Acc: 0.9447\n",
      "Epoch 21/40: Train Loss: 0.4881, Train Acc: 0.8982, Test Acc: 0.9458\n",
      "Epoch 22/40: Train Loss: 0.5246, Train Acc: 0.8955, Test Acc: 0.9518\n",
      "Epoch 23/40: Train Loss: 0.5114, Train Acc: 0.8957, Test Acc: 0.9434\n",
      "Epoch 24/40: Train Loss: 0.5336, Train Acc: 0.8910, Test Acc: 0.9452\n",
      "Epoch 25/40: Train Loss: 0.5642, Train Acc: 0.8904, Test Acc: 0.9422\n",
      "Epoch 26/40: Train Loss: 0.5149, Train Acc: 0.8960, Test Acc: 0.9347\n",
      "Epoch 27/40: Train Loss: 0.5510, Train Acc: 0.8931, Test Acc: 0.9330\n",
      "Epoch 28/40: Train Loss: 0.5612, Train Acc: 0.8838, Test Acc: 0.9420\n",
      "Epoch 29/40: Train Loss: 0.5527, Train Acc: 0.8940, Test Acc: 0.9376\n",
      "Epoch 30/40: Train Loss: 0.5985, Train Acc: 0.8794, Test Acc: 0.9497\n",
      "Epoch 31/40: Train Loss: 0.5838, Train Acc: 0.8844, Test Acc: 0.9478\n",
      "Epoch 32/40: Train Loss: 0.5582, Train Acc: 0.8890, Test Acc: 0.9459\n",
      "Epoch 33/40: Train Loss: 0.5458, Train Acc: 0.8922, Test Acc: 0.9431\n",
      "Epoch 34/40: Train Loss: 0.5863, Train Acc: 0.8872, Test Acc: 0.9456\n",
      "Epoch 35/40: Train Loss: 0.5716, Train Acc: 0.8852, Test Acc: 0.9443\n",
      "Epoch 36/40: Train Loss: 0.5958, Train Acc: 0.8872, Test Acc: 0.9460\n",
      "Epoch 37/40: Train Loss: 0.5639, Train Acc: 0.8900, Test Acc: 0.9319\n",
      "Epoch 38/40: Train Loss: 0.5423, Train Acc: 0.8891, Test Acc: 0.9409\n",
      "Epoch 39/40: Train Loss: 0.5586, Train Acc: 0.8892, Test Acc: 0.9361\n",
      "Epoch 40/40: Train Loss: 0.5939, Train Acc: 0.8840, Test Acc: 0.9294\n",
      "Train Loss: 0.5938790836544625\n",
      "Train Accuracy: tensor(0.8840, dtype=torch.float64)\n",
      "Test Accuracy: tensor(0.9294, dtype=torch.float64)\n"
     ]
    }
   ],
   "source": [
    "# Create an instance of the MLP class\n",
    "mlp = MLP(input_size=DS.num_features, hidden_sizes=[DS.num_features,DS.num_features,DS.num_features],\n",
    "          output_size=DS.num_classes, dropout_p=0.5)\n",
    "\n",
    "# Define the optimizer and loss function\n",
    "optimizer = torch.optim.Adam(mlp.parameters(), lr=0.001)\n",
    "loss_fn = CELoss()\n",
    "\n",
    "# Train and evaluate the MLP on the training data, test data, and get the results\n",
    "mlp, results = train_and_evaluate(mlp, trainloader, testloader,\n",
    "                                  optimizer, loss_fn, num_epochs=40)\n",
    "\n",
    "# Print the results\n",
    "print('Train Loss:', results['train_loss'][-1])\n",
    "print('Train Accuracy:', results['train_acc'][-1])\n",
    "print('Test Accuracy:', results['test_acc'][-1])"
   ],
   "metadata": {
    "collapsed": false,
    "pycharm": {
     "name": "#%%\n"
    }
   }
  },
  {
   "cell_type": "code",
   "execution_count": 8,
   "outputs": [
    {
     "data": {
      "text/plain": "<Figure size 640x480 with 2 Axes>",
      "image/png": "[encoded data removed]"
     },
     "metadata": {},
     "output_type": "display_data"
    }
   ],
   "source": [
    "figure, axis = plt.subplots(1, 2)\n",
    "\n",
    "# For Sine Function\n",
    "axis[0].plot(results['train_loss'])\n",
    "axis[0].set_title(\"Train_loss\")\n",
    "\n",
    "# For Cosine Function\n",
    "axis[1].plot(results['train_acc'])\n",
    "axis[1].plot(results['test_acc'])\n",
    "axis[1].set_title(\"Accuracy\")\n",
    "plt.show()"
   ],
   "metadata": {
    "collapsed": false,
    "pycharm": {
     "name": "#%%\n"
    }
   }
  },
  {
   "cell_type": "code",
   "execution_count": 8,
   "outputs": [],
   "source": [],
   "metadata": {
    "collapsed": false,
    "pycharm": {
     "name": "#%%\n"
    }
   }
  }
 ],
 "metadata": {
  "kernelspec": {
   "name": "pycharm-2fb0f616",
   "language": "python",
   "display_name": "PyCharm (Learning_from_weak_labels)"
  },
  "language_info": {
   "codemirror_mode": {
    "name": "ipython",
    "version": 2
   },
   "file_extension": ".py",
   "mimetype": "text/x-python",
   "name": "python",
   "nbconvert_exporter": "python",
   "pygments_lexer": "ipython2",
   "version": "2.7.6"
  }
 },
 "nbformat": 4,
 "nbformat_minor": 0
}