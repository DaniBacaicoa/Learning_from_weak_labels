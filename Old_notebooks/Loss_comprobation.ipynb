{
 "cells": [
  {
   "cell_type": "code",
   "execution_count": 2,
   "metadata": {},
   "outputs": [],
   "source": [
    "import utils.losses as loss\n",
    "import datasets.datasets as dtset"
   ]
  },
  {
   "cell_type": "code",
   "execution_count": 3,
   "metadata": {},
   "outputs": [],
   "source": [
    "#Data = dtset.OpenML_Dataset('iris')\n",
    "Data = dtset.Torch_Dataset('mnist')"
   ]
  },
  {
   "cell_type": "code",
   "execution_count": 4,
   "metadata": {},
   "outputs": [
    {
     "data": {
      "text/plain": [
       "'MNIST'"
      ]
     },
     "execution_count": 4,
     "metadata": {},
     "output_type": "execute_result"
    }
   ],
   "source": [
    "Data."
   ]
  },
  {
   "cell_type": "code",
   "execution_count": 85,
   "metadata": {},
   "outputs": [
    {
     "name": "stdout",
     "output_type": "stream",
     "text": [
      "torch.Size([105, 4])\n"
     ]
    }
   ],
   "source": [
    "train_X,train_y,test_X,test_y =  Data.get_data()\n",
    "print(train_X.shape)"
   ]
  },
  {
   "cell_type": "code",
   "execution_count": 86,
   "metadata": {},
   "outputs": [
    {
     "name": "stdout",
     "output_type": "stream",
     "text": [
      "tensor([[5.6000, 2.8000, 4.9000, 2.0000],\n",
      "        [5.6000, 2.9000, 3.6000, 1.3000],\n",
      "        [6.7000, 2.5000, 5.8000, 1.8000],\n",
      "        [6.7000, 3.0000, 5.0000, 1.7000],\n",
      "        [4.4000, 2.9000, 1.4000, 0.2000]])\n",
      "tensor([[0., 0., 1.],\n",
      "        [0., 1., 0.],\n",
      "        [0., 0., 1.],\n",
      "        [0., 1., 0.],\n",
      "        [1., 0., 0.]])\n"
     ]
    }
   ],
   "source": [
    "print(train_X[:5,:])\n",
    "print(train_y[:5,:])"
   ]
  },
  {
   "cell_type": "code",
   "execution_count": 87,
   "metadata": {},
   "outputs": [
    {
     "name": "stdout",
     "output_type": "stream",
     "text": [
      "tensor([[-0.6728,  0.1304,  0.5010],\n",
      "        [-0.6728,  0.1304,  0.5010],\n",
      "        [-0.6728,  0.1304,  0.5010],\n",
      "        [-0.6728,  0.1304,  0.5010],\n",
      "        [-0.6728,  0.1304,  0.5010]], grad_fn=<SliceBackward0>)\n"
     ]
    }
   ],
   "source": [
    "import torch\n",
    "import torch.nn as nn\n",
    "\n",
    "# Define the MLP class\n",
    "class MLP(nn.Module):\n",
    "  def __init__(self, input_size, hidden_size, output_size):\n",
    "    super().__init__()\n",
    "    # Define layers\n",
    "    self.fc1 = nn.Linear(input_size, hidden_size)\n",
    "    self.relu = nn.ReLU()\n",
    "    self.fc2 = nn.Linear(hidden_size, output_size)\n",
    "    self.softmax = nn.Softmax(dim=1)  # For classification tasks\n",
    "\n",
    "  def forward(self, x):\n",
    "    # Forward pass through the layers\n",
    "    x = self.fc1(x)\n",
    "    x = self.relu(x)\n",
    "    x = self.fc2(x)\n",
    "    return x\n",
    "\n",
    "model = MLP(4, 2, 3)\n",
    "\n",
    "prediction = model(train_X)\n",
    "print(prediction[:5,:])\n"
   ]
  },
  {
   "cell_type": "code",
   "execution_count": 88,
   "metadata": {},
   "outputs": [],
   "source": [
    "train_dataloader,test_dataloader =  Data.get_dataloader()"
   ]
  },
  {
   "cell_type": "code",
   "execution_count": 89,
   "metadata": {},
   "outputs": [],
   "source": [
    "optimizer = torch.optim.Adam(model.parameters(), lr=0.01)\n",
    "#EM = True\n",
    "#criterion = loss.EMLoss(torch.eye(3))\n",
    "EM = False\n",
    "#criterion = loss.OSLCELoss()\n",
    "criterion = loss.OSLBrierLoss()\n"
   ]
  },
  {
   "cell_type": "code",
   "execution_count": 90,
   "metadata": {},
   "outputs": [
    {
     "name": "stdout",
     "output_type": "stream",
     "text": [
      "37.35705089569092\n",
      "37.00782871246338\n",
      "36.090139389038086\n",
      "35.46928024291992\n",
      "34.77353477478027\n",
      "33.979498863220215\n",
      "33.11699295043945\n",
      "32.20557689666748\n",
      "31.25935935974121\n",
      "30.29146957397461\n",
      "29.316728591918945\n",
      "28.354249954223633\n",
      "27.450151443481445\n",
      "26.608169555664062\n",
      "25.823309898376465\n",
      "25.119680404663086\n",
      "24.508974075317383\n",
      "23.97327995300293\n",
      "23.503533363342285\n",
      "23.087461471557617\n",
      "22.72182559967041\n",
      "22.39901638031006\n",
      "22.11386489868164\n",
      "21.858572959899902\n",
      "21.63170623779297\n",
      "21.43064785003662\n",
      "21.25201416015625\n",
      "21.090481758117676\n",
      "20.943129539489746\n",
      "20.807109832763672\n",
      "20.683472633361816\n",
      "20.569812774658203\n",
      "20.464648246765137\n",
      "20.36759853363037\n",
      "20.27753257751465\n",
      "20.194068908691406\n",
      "20.1168155670166\n",
      "20.04537296295166\n",
      "19.979132652282715\n",
      "19.91779136657715\n",
      "19.860902786254883\n",
      "19.807905197143555\n",
      "19.758337020874023\n",
      "19.711816787719727\n",
      "19.667977333068848\n",
      "19.626835823059082\n",
      "19.588027954101562\n",
      "19.551359176635742\n",
      "19.516657829284668\n",
      "19.483769416809082\n",
      "19.452558517456055\n",
      "19.422897338867188\n",
      "19.394676208496094\n",
      "19.367788314819336\n",
      "19.342147827148438\n",
      "19.317665100097656\n",
      "19.29426383972168\n",
      "19.271883964538574\n",
      "19.250383377075195\n",
      "19.229790687561035\n",
      "19.21012592315674\n",
      "19.19122314453125\n",
      "19.173049926757812\n",
      "19.155473709106445\n",
      "19.138534545898438\n",
      "19.12218952178955\n",
      "19.106416702270508\n",
      "19.09120464324951\n",
      "19.07645606994629\n",
      "19.062143325805664\n",
      "19.04824447631836\n",
      "19.034733772277832\n",
      "19.021580696105957\n",
      "19.008749961853027\n",
      "18.996211051940918\n",
      "18.983932495117188\n",
      "18.971882820129395\n",
      "18.960026741027832\n",
      "18.948328971862793\n",
      "18.936750411987305\n",
      "18.925249099731445\n",
      "18.913777351379395\n",
      "18.90228843688965\n",
      "18.890602111816406\n",
      "18.8784236907959\n",
      "18.86551570892334\n",
      "18.851346015930176\n",
      "18.83455467224121\n",
      "18.81576633453369\n",
      "18.79426860809326\n",
      "18.76822280883789\n",
      "18.734150886535645\n",
      "18.689073085784912\n",
      "18.633810997009277\n",
      "18.55750846862793\n",
      "18.439587593078613\n",
      "18.28618049621582\n",
      "18.11730432510376\n",
      "17.913684844970703\n",
      "17.662060737609863\n",
      "17.37843084335327\n",
      "Finished training!\n"
     ]
    }
   ],
   "source": [
    "# Training loop (with improvements):\n",
    "for epoch in range(101):\n",
    "    running_loss = 0.0\n",
    "    for i, data in enumerate(train_dataloader, 0):\n",
    "        # Get the inputs; forward pass:\n",
    "        inputs, labels = data\n",
    "        #print(torch.max(labels,1).indices)\n",
    "        outputs = model(inputs)\n",
    "        if EM == True:\n",
    "            loss = criterion(outputs,(torch.max(labels,1).indices))\n",
    "        else:\n",
    "            loss = criterion(outputs, labels)\n",
    "\n",
    "        optimizer.zero_grad()\n",
    "\n",
    "        loss.backward()\n",
    "        optimizer.step()\n",
    "\n",
    "        running_loss += loss.item()\n",
    "    print(running_loss)\n",
    "    \n",
    "print('Finished training!')"
   ]
  },
  {
   "cell_type": "code",
   "execution_count": 91,
   "metadata": {},
   "outputs": [
    {
     "name": "stdout",
     "output_type": "stream",
     "text": [
      "torch.return_types.max(\n",
      "values=tensor([0.6144, 2.7397, 0.3232, 0.6144, 0.6144, 2.1129, 0.6144, 2.5614, 0.6144,\n",
      "        1.9886, 2.2009, 2.5325, 0.6144, 0.6144, 0.3179, 0.5732, 0.5055, 2.5647,\n",
      "        2.7056, 1.8507, 0.6144, 2.5071, 0.2641, 2.5479, 0.5399, 0.6144, 2.1435,\n",
      "        0.6144, 1.9751, 0.6144, 2.5665, 2.2811, 2.0809, 0.6144, 0.5141, 2.4033,\n",
      "        0.6144, 0.6144, 2.3574, 0.3067, 0.5380, 0.6144, 0.3923, 2.5497, 0.3346]),\n",
      "indices=tensor([1, 0, 1, 1, 1, 0, 1, 0, 1, 0, 0, 0, 1, 1, 1, 1, 1, 0, 0, 0, 1, 0, 1, 0,\n",
      "        1, 1, 0, 1, 0, 1, 0, 0, 0, 1, 1, 0, 1, 1, 0, 1, 1, 1, 1, 0, 1]))\n"
     ]
    }
   ],
   "source": [
    "for images, labels in test_dataloader:\n",
    "    outputs = model(images)\n",
    "    outputs\n",
    "    print(torch.max(outputs.data, 1))"
   ]
  },
  {
   "cell_type": "code",
   "execution_count": 92,
   "metadata": {},
   "outputs": [
    {
     "name": "stdout",
     "output_type": "stream",
     "text": [
      "tensor([1, 0, 1, 1, 1, 0, 1, 0, 1, 0, 0, 0, 1, 1, 1, 1, 1, 0, 0, 0, 1, 0, 1, 0,\n",
      "        1, 1, 0, 1, 0, 1, 0, 0, 0, 1, 1, 0, 1, 1, 0, 1, 1, 1, 1, 0, 1])\n",
      "tensor([2, 0, 1, 2, 2, 0, 2, 0, 2, 0, 0, 0, 2, 2, 1, 1, 1, 0, 0, 0, 2, 0, 1, 0,\n",
      "        1, 2, 0, 2, 0, 2, 0, 0, 0, 2, 1, 0, 2, 2, 0, 1, 1, 2, 1, 0, 1])\n",
      "Accuracy of the network on the test images: 66 %\n"
     ]
    }
   ],
   "source": [
    "\n",
    "# Evaluate the model:\n",
    "total_correct = 0\n",
    "total_data = 0\n",
    "with torch.no_grad():  # Disable gradient calculation for testing\n",
    "    for images, labels in test_dataloader:\n",
    "        outputs = model(images)\n",
    "        _, predicted = torch.max(outputs.data, 1)  # Get the predicted class label\n",
    "        print(predicted)\n",
    "        print(torch.max(labels,1)[1])\n",
    "        total_correct += (predicted == torch.max(labels,1)[1]).sum().item()  # Count correct predictions\n",
    "        total_data += labels.size(0)\n",
    "\n",
    "accuracy = total_correct / total_data\n",
    "print('Accuracy of the network on the test images: %d %%' % (100 * accuracy))\n"
   ]
  },
  {
   "cell_type": "code",
   "execution_count": null,
   "metadata": {},
   "outputs": [],
   "source": []
  }
 ],
 "metadata": {
  "kernelspec": {
   "display_name": ".venv",
   "language": "python",
   "name": "python3"
  },
  "language_info": {
   "codemirror_mode": {
    "name": "ipython",
    "version": 3
   },
   "file_extension": ".py",
   "mimetype": "text/x-python",
   "name": "python",
   "nbconvert_exporter": "python",
   "pygments_lexer": "ipython3",
   "version": "3.10.5"
  }
 },
 "nbformat": 4,
 "nbformat_minor": 2
}
