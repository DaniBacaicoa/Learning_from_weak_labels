{
 "cells": [
  {
   "cell_type": "code",
   "execution_count": 1,
   "metadata": {
    "collapsed": true
   },
   "outputs": [],
   "source": [
    "import torch\n",
    "import torch.nn as nn\n",
    "import numpy as np\n",
    "import math\n",
    "\n",
    "from datasets.openml_datasets import OpenML_Dataset\n",
    "from datasets.torch_datasets import Torch_Dataset\n",
    "from utils.weakener import Weakener\n",
    "from models.model import MLP\n",
    "from utils.losses import PartialLoss,CELoss,LBLoss\n",
    "from utils.trainig_testing import train_and_evaluate,warm_up,ES_train_and_evaluate"
   ]
  },
  {
   "cell_type": "markdown",
   "source": [
    "In this case we will create 4 data structures so they contain the 4 Weak structures that support the 4 reconstruction matrices"
   ],
   "metadata": {
    "collapsed": false
   }
  },
  {
   "cell_type": "code",
   "execution_count": 2,
   "outputs": [],
   "source": [
    "rec_names = ['_pinv', '_opt', '_conv', '_optconv']\n",
    "batch_size = 16\n",
    "dataset_objects = []\n",
    "weakener_objects = []\n",
    "\n",
    "# Create dataset objects\n",
    "for name in rec_names:\n",
    "    dataset_name = 'Data' + name\n",
    "    dataset = Torch_Dataset('mnist', batch_size=batch_size)\n",
    "    dataset_objects.append(dataset)\n",
    "    globals()[dataset_name] = dataset  # store dataset object in a variable with the corresponding name\n",
    "\n",
    "# Create weakener objects\n",
    "for name in rec_names:\n",
    "    dataset_name = 'Data' + name\n",
    "    weakener_name = 'Weak' + name\n",
    "    weakener = Weakener(globals()[dataset_name].num_classes)\n",
    "    weakener_objects.append(weakener)\n",
    "    globals()[weakener_name] = weakener"
   ],
   "metadata": {
    "collapsed": false
   }
  },
  {
   "cell_type": "code",
   "execution_count": 3,
   "outputs": [
    {
     "ename": "KeyboardInterrupt",
     "evalue": "",
     "output_type": "error",
     "traceback": [
      "\u001B[1;31m---------------------------------------------------------------------------\u001B[0m",
      "\u001B[1;31mKeyboardInterrupt\u001B[0m                         Traceback (most recent call last)",
      "Cell \u001B[1;32mIn[3], line 15\u001B[0m\n\u001B[0;32m     11\u001B[0m \u001B[38;5;28mglobals\u001B[39m()[\u001B[38;5;124m'\u001B[39m\u001B[38;5;124mWeak\u001B[39m\u001B[38;5;124m'\u001B[39m\u001B[38;5;241m+\u001B[39mname]\u001B[38;5;241m.\u001B[39mvirtual_matrix(convex\u001B[38;5;241m=\u001B[39mrec_params[name][\u001B[38;5;124m'\u001B[39m\u001B[38;5;124mconvex\u001B[39m\u001B[38;5;124m'\u001B[39m],\n\u001B[0;32m     12\u001B[0m                                    optimize\u001B[38;5;241m=\u001B[39mrec_params[name][\u001B[38;5;124m'\u001B[39m\u001B[38;5;124moptimize\u001B[39m\u001B[38;5;124m'\u001B[39m])\n\u001B[0;32m     13\u001B[0m \u001B[38;5;66;03m#weakener_objects[i].virtual_matrix(convex=rec_params[name]['convex'],\u001B[39;00m\n\u001B[0;32m     14\u001B[0m \u001B[38;5;66;03m#                                   optimize=rec_params[name]['optimize'])\u001B[39;00m\n\u001B[1;32m---> 15\u001B[0m \u001B[38;5;28;43mglobals\u001B[39;49m\u001B[43m(\u001B[49m\u001B[43m)\u001B[49m\u001B[43m[\u001B[49m\u001B[38;5;124;43m'\u001B[39;49m\u001B[38;5;124;43mWeak\u001B[39;49m\u001B[38;5;124;43m'\u001B[39;49m\u001B[38;5;241;43m+\u001B[39;49m\u001B[43mname\u001B[49m\u001B[43m]\u001B[49m\u001B[38;5;241;43m.\u001B[39;49m\u001B[43mvirtual_labels\u001B[49m\u001B[43m(\u001B[49m\u001B[43m)\u001B[49m\n\u001B[0;32m     16\u001B[0m \u001B[38;5;66;03m#weakener_objects[i].virtual_labels()\u001B[39;00m\n\u001B[0;32m     17\u001B[0m \u001B[38;5;28mglobals\u001B[39m()[\u001B[38;5;124m'\u001B[39m\u001B[38;5;124mData\u001B[39m\u001B[38;5;124m'\u001B[39m\u001B[38;5;241m+\u001B[39mname]\u001B[38;5;241m.\u001B[39minclude_weak(\u001B[38;5;28mglobals\u001B[39m()[\u001B[38;5;124m'\u001B[39m\u001B[38;5;124mWeak\u001B[39m\u001B[38;5;124m'\u001B[39m\u001B[38;5;241m+\u001B[39mname]\u001B[38;5;241m.\u001B[39mv)\n",
      "File \u001B[1;32m~\\PycharmProjects\\Learning_from_weak_labels\\utils\\weakener.py:214\u001B[0m, in \u001B[0;36mWeakener.virtual_labels\u001B[1;34m(self, y)\u001B[0m\n\u001B[0;32m    212\u001B[0m         \u001B[38;5;28;01mraise\u001B[39;00m \u001B[38;5;167;01mNameError\u001B[39;00m(\u001B[38;5;124m'\u001B[39m\u001B[38;5;124mThe weak labels have not been yet created. You shuold give the true labels. Try:\u001B[39m\u001B[38;5;130;01m\\n\u001B[39;00m\u001B[38;5;124m  class.virtual_labels(y)\u001B[39m\u001B[38;5;130;01m\\n\u001B[39;00m\u001B[38;5;124m instead\u001B[39m\u001B[38;5;124m'\u001B[39m)\n\u001B[0;32m    213\u001B[0m     _,_ \u001B[38;5;241m=\u001B[39m \u001B[38;5;28mself\u001B[39m\u001B[38;5;241m.\u001B[39mgenerate_weak(y)\n\u001B[1;32m--> 214\u001B[0m \u001B[38;5;28;43mself\u001B[39;49m\u001B[38;5;241;43m.\u001B[39;49m\u001B[43mvirtual_matrix\u001B[49m\u001B[43m(\u001B[49m\u001B[43m)\u001B[49m\n\u001B[0;32m    215\u001B[0m \u001B[38;5;28mself\u001B[39m\u001B[38;5;241m.\u001B[39mv \u001B[38;5;241m=\u001B[39m \u001B[38;5;28mself\u001B[39m\u001B[38;5;241m.\u001B[39mY\u001B[38;5;241m.\u001B[39mT[\u001B[38;5;28mself\u001B[39m\u001B[38;5;241m.\u001B[39mz]\n\u001B[0;32m    216\u001B[0m \u001B[38;5;28;01mreturn\u001B[39;00m\n",
      "File \u001B[1;32m~\\PycharmProjects\\Learning_from_weak_labels\\utils\\weakener.py:192\u001B[0m, in \u001B[0;36mWeakener.virtual_matrix\u001B[1;34m(self, p, optimize, convex)\u001B[0m\n\u001B[0;32m    186\u001B[0m \u001B[38;5;28;01melif\u001B[39;00m convex:\n\u001B[0;32m    187\u001B[0m     prob \u001B[38;5;241m=\u001B[39m cvxpy\u001B[38;5;241m.\u001B[39mProblem(cvxpy\u001B[38;5;241m.\u001B[39mMinimize(\n\u001B[0;32m    188\u001B[0m         cvxpy\u001B[38;5;241m.\u001B[39mnorm(cvxpy\u001B[38;5;241m.\u001B[39mhstack([cvxpy\u001B[38;5;241m.\u001B[39mnorm(hat_Y[:, i])\u001B[38;5;241m*\u001B[39m\u001B[38;5;241m*\u001B[39m\u001B[38;5;241m2\u001B[39m \u001B[38;5;241m*\u001B[39m p[i] \u001B[38;5;28;01mfor\u001B[39;00m i \u001B[38;5;129;01min\u001B[39;00m \u001B[38;5;28mrange\u001B[39m(d)]),\u001B[38;5;241m1\u001B[39m)\n\u001B[0;32m    189\u001B[0m     ),\n\u001B[0;32m    190\u001B[0m         [hat_Y \u001B[38;5;241m@\u001B[39m \u001B[38;5;28mself\u001B[39m\u001B[38;5;241m.\u001B[39mM \u001B[38;5;241m==\u001B[39m I_c, hat_Y\u001B[38;5;241m.\u001B[39mT \u001B[38;5;241m@\u001B[39m c_1 \u001B[38;5;241m==\u001B[39m d_1]\n\u001B[0;32m    191\u001B[0m     )\n\u001B[1;32m--> 192\u001B[0m     \u001B[43mprob\u001B[49m\u001B[38;5;241;43m.\u001B[39;49m\u001B[43msolve\u001B[49m\u001B[43m(\u001B[49m\u001B[43m)\u001B[49m\n\u001B[0;32m    193\u001B[0m     \u001B[38;5;28mself\u001B[39m\u001B[38;5;241m.\u001B[39mY \u001B[38;5;241m=\u001B[39m hat_Y\u001B[38;5;241m.\u001B[39mvalue\n\u001B[0;32m    194\u001B[0m \u001B[38;5;28;01melse\u001B[39;00m:\n",
      "File \u001B[1;32m~\\Anaconda3\\envs\\Weak_Label_Learning\\lib\\site-packages\\cvxpy\\problems\\problem.py:493\u001B[0m, in \u001B[0;36mProblem.solve\u001B[1;34m(self, *args, **kwargs)\u001B[0m\n\u001B[0;32m    491\u001B[0m \u001B[38;5;28;01melse\u001B[39;00m:\n\u001B[0;32m    492\u001B[0m     solve_func \u001B[38;5;241m=\u001B[39m Problem\u001B[38;5;241m.\u001B[39m_solve\n\u001B[1;32m--> 493\u001B[0m \u001B[38;5;28;01mreturn\u001B[39;00m solve_func(\u001B[38;5;28mself\u001B[39m, \u001B[38;5;241m*\u001B[39margs, \u001B[38;5;241m*\u001B[39m\u001B[38;5;241m*\u001B[39mkwargs)\n",
      "File \u001B[1;32m~\\Anaconda3\\envs\\Weak_Label_Learning\\lib\\site-packages\\cvxpy\\problems\\problem.py:1054\u001B[0m, in \u001B[0;36mProblem._solve\u001B[1;34m(self, solver, warm_start, verbose, gp, qcp, requires_grad, enforce_dpp, ignore_dpp, canon_backend, **kwargs)\u001B[0m\n\u001B[0;32m   1051\u001B[0m         \u001B[38;5;28mself\u001B[39m\u001B[38;5;241m.\u001B[39munpack(chain\u001B[38;5;241m.\u001B[39mretrieve(soln))\n\u001B[0;32m   1052\u001B[0m         \u001B[38;5;28;01mreturn\u001B[39;00m \u001B[38;5;28mself\u001B[39m\u001B[38;5;241m.\u001B[39mvalue\n\u001B[1;32m-> 1054\u001B[0m data, solving_chain, inverse_data \u001B[38;5;241m=\u001B[39m \u001B[38;5;28;43mself\u001B[39;49m\u001B[38;5;241;43m.\u001B[39;49m\u001B[43mget_problem_data\u001B[49m\u001B[43m(\u001B[49m\n\u001B[0;32m   1055\u001B[0m \u001B[43m    \u001B[49m\u001B[43msolver\u001B[49m\u001B[43m,\u001B[49m\u001B[43m \u001B[49m\u001B[43mgp\u001B[49m\u001B[43m,\u001B[49m\u001B[43m \u001B[49m\u001B[43menforce_dpp\u001B[49m\u001B[43m,\u001B[49m\u001B[43m \u001B[49m\u001B[43mignore_dpp\u001B[49m\u001B[43m,\u001B[49m\u001B[43m \u001B[49m\u001B[43mverbose\u001B[49m\u001B[43m,\u001B[49m\u001B[43m \u001B[49m\u001B[43mcanon_backend\u001B[49m\u001B[43m,\u001B[49m\u001B[43m \u001B[49m\u001B[43mkwargs\u001B[49m\n\u001B[0;32m   1056\u001B[0m \u001B[43m\u001B[49m\u001B[43m)\u001B[49m\n\u001B[0;32m   1058\u001B[0m \u001B[38;5;28;01mif\u001B[39;00m verbose:\n\u001B[0;32m   1059\u001B[0m     \u001B[38;5;28mprint\u001B[39m(_NUM_SOLVER_STR)\n",
      "File \u001B[1;32m~\\Anaconda3\\envs\\Weak_Label_Learning\\lib\\site-packages\\cvxpy\\problems\\problem.py:681\u001B[0m, in \u001B[0;36mProblem.get_problem_data\u001B[1;34m(self, solver, gp, enforce_dpp, ignore_dpp, verbose, canon_backend, solver_opts)\u001B[0m\n\u001B[0;32m    678\u001B[0m     s\u001B[38;5;241m.\u001B[39mLOGGER\u001B[38;5;241m.\u001B[39minfo(\n\u001B[0;32m    679\u001B[0m              \u001B[38;5;124m'\u001B[39m\u001B[38;5;124mCompiling problem (target solver=\u001B[39m\u001B[38;5;132;01m%s\u001B[39;00m\u001B[38;5;124m).\u001B[39m\u001B[38;5;124m'\u001B[39m, solver_name)\n\u001B[0;32m    680\u001B[0m     s\u001B[38;5;241m.\u001B[39mLOGGER\u001B[38;5;241m.\u001B[39minfo(\u001B[38;5;124m'\u001B[39m\u001B[38;5;124mReduction chain: \u001B[39m\u001B[38;5;132;01m%s\u001B[39;00m\u001B[38;5;124m'\u001B[39m, reduction_chain_str)\n\u001B[1;32m--> 681\u001B[0m data, inverse_data \u001B[38;5;241m=\u001B[39m \u001B[43msolving_chain\u001B[49m\u001B[38;5;241;43m.\u001B[39;49m\u001B[43mapply\u001B[49m\u001B[43m(\u001B[49m\u001B[38;5;28;43mself\u001B[39;49m\u001B[43m,\u001B[49m\u001B[43m \u001B[49m\u001B[43mverbose\u001B[49m\u001B[43m)\u001B[49m\n\u001B[0;32m    682\u001B[0m safe_to_cache \u001B[38;5;241m=\u001B[39m (\n\u001B[0;32m    683\u001B[0m     \u001B[38;5;28misinstance\u001B[39m(data, \u001B[38;5;28mdict\u001B[39m)\n\u001B[0;32m    684\u001B[0m     \u001B[38;5;129;01mand\u001B[39;00m s\u001B[38;5;241m.\u001B[39mPARAM_PROB \u001B[38;5;129;01min\u001B[39;00m data\n\u001B[0;32m    685\u001B[0m     \u001B[38;5;129;01mand\u001B[39;00m \u001B[38;5;129;01mnot\u001B[39;00m \u001B[38;5;28many\u001B[39m(\u001B[38;5;28misinstance\u001B[39m(reduction, EvalParams)\n\u001B[0;32m    686\u001B[0m                 \u001B[38;5;28;01mfor\u001B[39;00m reduction \u001B[38;5;129;01min\u001B[39;00m solving_chain\u001B[38;5;241m.\u001B[39mreductions)\n\u001B[0;32m    687\u001B[0m )\n\u001B[0;32m    688\u001B[0m \u001B[38;5;28mself\u001B[39m\u001B[38;5;241m.\u001B[39m_compilation_time \u001B[38;5;241m=\u001B[39m time\u001B[38;5;241m.\u001B[39mtime() \u001B[38;5;241m-\u001B[39m start\n",
      "File \u001B[1;32m~\\Anaconda3\\envs\\Weak_Label_Learning\\lib\\site-packages\\cvxpy\\reductions\\chain.py:76\u001B[0m, in \u001B[0;36mChain.apply\u001B[1;34m(self, problem, verbose)\u001B[0m\n\u001B[0;32m     74\u001B[0m     \u001B[38;5;28;01mif\u001B[39;00m verbose:\n\u001B[0;32m     75\u001B[0m         s\u001B[38;5;241m.\u001B[39mLOGGER\u001B[38;5;241m.\u001B[39minfo(\u001B[38;5;124m'\u001B[39m\u001B[38;5;124mApplying reduction \u001B[39m\u001B[38;5;132;01m%s\u001B[39;00m\u001B[38;5;124m'\u001B[39m, \u001B[38;5;28mtype\u001B[39m(r)\u001B[38;5;241m.\u001B[39m\u001B[38;5;18m__name__\u001B[39m)\n\u001B[1;32m---> 76\u001B[0m     problem, inv \u001B[38;5;241m=\u001B[39m \u001B[43mr\u001B[49m\u001B[38;5;241;43m.\u001B[39;49m\u001B[43mapply\u001B[49m\u001B[43m(\u001B[49m\u001B[43mproblem\u001B[49m\u001B[43m)\u001B[49m\n\u001B[0;32m     77\u001B[0m     inverse_data\u001B[38;5;241m.\u001B[39mappend(inv)\n\u001B[0;32m     78\u001B[0m \u001B[38;5;28;01mreturn\u001B[39;00m problem, inverse_data\n",
      "File \u001B[1;32m~\\Anaconda3\\envs\\Weak_Label_Learning\\lib\\site-packages\\cvxpy\\reductions\\solvers\\conic_solvers\\ecos_conif.py:103\u001B[0m, in \u001B[0;36mECOS.apply\u001B[1;34m(self, problem)\u001B[0m\n\u001B[0;32m     95\u001B[0m \u001B[38;5;66;03m# Format constraints\u001B[39;00m\n\u001B[0;32m     96\u001B[0m \u001B[38;5;66;03m#\u001B[39;00m\n\u001B[0;32m     97\u001B[0m \u001B[38;5;66;03m# ECOS requires constraints to be specified in the following order:\u001B[39;00m\n\u001B[1;32m   (...)\u001B[0m\n\u001B[0;32m    100\u001B[0m \u001B[38;5;66;03m# 3. soc\u001B[39;00m\n\u001B[0;32m    101\u001B[0m \u001B[38;5;66;03m# 4. exponential\u001B[39;00m\n\u001B[0;32m    102\u001B[0m \u001B[38;5;28;01mif\u001B[39;00m \u001B[38;5;129;01mnot\u001B[39;00m problem\u001B[38;5;241m.\u001B[39mformatted:\n\u001B[1;32m--> 103\u001B[0m     problem \u001B[38;5;241m=\u001B[39m \u001B[38;5;28;43mself\u001B[39;49m\u001B[38;5;241;43m.\u001B[39;49m\u001B[43mformat_constraints\u001B[49m\u001B[43m(\u001B[49m\u001B[43mproblem\u001B[49m\u001B[43m,\u001B[49m\u001B[43m \u001B[49m\u001B[38;5;28;43mself\u001B[39;49m\u001B[38;5;241;43m.\u001B[39;49m\u001B[43mEXP_CONE_ORDER\u001B[49m\u001B[43m)\u001B[49m\n\u001B[0;32m    104\u001B[0m data[s\u001B[38;5;241m.\u001B[39mPARAM_PROB] \u001B[38;5;241m=\u001B[39m problem\n\u001B[0;32m    105\u001B[0m data[\u001B[38;5;28mself\u001B[39m\u001B[38;5;241m.\u001B[39mDIMS] \u001B[38;5;241m=\u001B[39m problem\u001B[38;5;241m.\u001B[39mcone_dims\n",
      "File \u001B[1;32m~\\Anaconda3\\envs\\Weak_Label_Learning\\lib\\site-packages\\cvxpy\\reductions\\solvers\\conic_solvers\\conic_solver.py:261\u001B[0m, in \u001B[0;36mConicSolver.format_constraints\u001B[1;34m(self, problem, exp_cone_order)\u001B[0m\n\u001B[0;32m    259\u001B[0m     restructured_A\u001B[38;5;241m.\u001B[39mrow \u001B[38;5;241m=\u001B[39m restructured_A\u001B[38;5;241m.\u001B[39mrow\u001B[38;5;241m.\u001B[39mastype(np\u001B[38;5;241m.\u001B[39mint64)\n\u001B[0;32m    260\u001B[0m     restructured_A\u001B[38;5;241m.\u001B[39mcol \u001B[38;5;241m=\u001B[39m restructured_A\u001B[38;5;241m.\u001B[39mcol\u001B[38;5;241m.\u001B[39mastype(np\u001B[38;5;241m.\u001B[39mint64)\n\u001B[1;32m--> 261\u001B[0m     restructured_A \u001B[38;5;241m=\u001B[39m \u001B[43mrestructured_A\u001B[49m\u001B[38;5;241;43m.\u001B[39;49m\u001B[43mreshape\u001B[49m\u001B[43m(\u001B[49m\n\u001B[0;32m    262\u001B[0m \u001B[43m        \u001B[49m\u001B[43mnp\u001B[49m\u001B[38;5;241;43m.\u001B[39;49m\u001B[43mint64\u001B[49m\u001B[43m(\u001B[49m\u001B[43mrestruct_mat\u001B[49m\u001B[38;5;241;43m.\u001B[39;49m\u001B[43mshape\u001B[49m\u001B[43m[\u001B[49m\u001B[38;5;241;43m0\u001B[39;49m\u001B[43m]\u001B[49m\u001B[43m)\u001B[49m\u001B[43m \u001B[49m\u001B[38;5;241;43m*\u001B[39;49m\u001B[43m \u001B[49m\u001B[43m(\u001B[49m\u001B[43mnp\u001B[49m\u001B[38;5;241;43m.\u001B[39;49m\u001B[43mint64\u001B[49m\u001B[43m(\u001B[49m\u001B[43mproblem\u001B[49m\u001B[38;5;241;43m.\u001B[39;49m\u001B[43mx\u001B[49m\u001B[38;5;241;43m.\u001B[39;49m\u001B[43msize\u001B[49m\u001B[43m)\u001B[49m\u001B[43m \u001B[49m\u001B[38;5;241;43m+\u001B[39;49m\u001B[43m \u001B[49m\u001B[38;5;241;43m1\u001B[39;49m\u001B[43m)\u001B[49m\u001B[43m,\u001B[49m\n\u001B[0;32m    263\u001B[0m \u001B[43m        \u001B[49m\u001B[43mproblem\u001B[49m\u001B[38;5;241;43m.\u001B[39;49m\u001B[43mA\u001B[49m\u001B[38;5;241;43m.\u001B[39;49m\u001B[43mshape\u001B[49m\u001B[43m[\u001B[49m\u001B[38;5;241;43m1\u001B[39;49m\u001B[43m]\u001B[49m\u001B[43m,\u001B[49m\u001B[43m \u001B[49m\u001B[43morder\u001B[49m\u001B[38;5;241;43m=\u001B[39;49m\u001B[38;5;124;43m'\u001B[39;49m\u001B[38;5;124;43mF\u001B[39;49m\u001B[38;5;124;43m'\u001B[39;49m\u001B[43m)\u001B[49m\n\u001B[0;32m    264\u001B[0m \u001B[38;5;28;01melse\u001B[39;00m:\n\u001B[0;32m    265\u001B[0m     restructured_A \u001B[38;5;241m=\u001B[39m problem\u001B[38;5;241m.\u001B[39mA\n",
      "File \u001B[1;32m~\\Anaconda3\\envs\\Weak_Label_Learning\\lib\\site-packages\\scipy\\sparse\\_coo.py:224\u001B[0m, in \u001B[0;36mcoo_matrix.reshape\u001B[1;34m(self, *args, **kwargs)\u001B[0m\n\u001B[0;32m    221\u001B[0m     dtype \u001B[38;5;241m=\u001B[39m get_index_dtype(maxval\u001B[38;5;241m=\u001B[39m(nrows \u001B[38;5;241m*\u001B[39m \u001B[38;5;28mmax\u001B[39m(\u001B[38;5;241m0\u001B[39m, ncols \u001B[38;5;241m-\u001B[39m \u001B[38;5;241m1\u001B[39m) \u001B[38;5;241m+\u001B[39m \u001B[38;5;28mmax\u001B[39m(\u001B[38;5;241m0\u001B[39m, nrows \u001B[38;5;241m-\u001B[39m \u001B[38;5;241m1\u001B[39m)))\n\u001B[0;32m    223\u001B[0m     flat_indices \u001B[38;5;241m=\u001B[39m np\u001B[38;5;241m.\u001B[39mmultiply(nrows, \u001B[38;5;28mself\u001B[39m\u001B[38;5;241m.\u001B[39mcol, dtype\u001B[38;5;241m=\u001B[39mdtype) \u001B[38;5;241m+\u001B[39m \u001B[38;5;28mself\u001B[39m\u001B[38;5;241m.\u001B[39mrow\n\u001B[1;32m--> 224\u001B[0m     new_col, new_row \u001B[38;5;241m=\u001B[39m \u001B[38;5;28;43mdivmod\u001B[39;49m\u001B[43m(\u001B[49m\u001B[43mflat_indices\u001B[49m\u001B[43m,\u001B[49m\u001B[43m \u001B[49m\u001B[43mshape\u001B[49m\u001B[43m[\u001B[49m\u001B[38;5;241;43m0\u001B[39;49m\u001B[43m]\u001B[49m\u001B[43m)\u001B[49m\n\u001B[0;32m    225\u001B[0m \u001B[38;5;28;01melse\u001B[39;00m:\n\u001B[0;32m    226\u001B[0m     \u001B[38;5;28;01mraise\u001B[39;00m \u001B[38;5;167;01mValueError\u001B[39;00m(\u001B[38;5;124m\"\u001B[39m\u001B[38;5;124m'\u001B[39m\u001B[38;5;124morder\u001B[39m\u001B[38;5;124m'\u001B[39m\u001B[38;5;124m must be \u001B[39m\u001B[38;5;124m'\u001B[39m\u001B[38;5;124mC\u001B[39m\u001B[38;5;124m'\u001B[39m\u001B[38;5;124m or \u001B[39m\u001B[38;5;124m'\u001B[39m\u001B[38;5;124mF\u001B[39m\u001B[38;5;124m'\u001B[39m\u001B[38;5;124m\"\u001B[39m)\n",
      "\u001B[1;31mKeyboardInterrupt\u001B[0m: "
     ]
    }
   ],
   "source": [
    "rec_params = {'_pinv':{'optimize':False,'convex':False},\n",
    "              '_opt':{'optimize':True,'convex':False},\n",
    "              '_conv':{'optimize':False,'convex':True},\n",
    "              '_optconv':{'optimize':True,'convex':True}}\n",
    "for i,name in enumerate(rec_names):\n",
    "    weakener_objects[i].generate_M('pll')\n",
    "    _,train_y,_,_ =  globals()['Data'+name].get_data()\n",
    "    #_,train_y,_,_ =  dataset_objects[i].get_data()\n",
    "    _,_ = globals()['Weak'+name].generate_weak(train_y)\n",
    "    #_,_ = weakener_objects[i].generate_weak(train_y)\n",
    "    globals()['Weak'+name].virtual_matrix(convex=rec_params[name]['convex'],\n",
    "                                       optimize=rec_params[name]['optimize'])\n",
    "    #weakener_objects[i].virtual_matrix(convex=rec_params[name]['convex'],\n",
    "    #                                   optimize=rec_params[name]['optimize'])\n",
    "    globals()['Weak'+name].virtual_labels()\n",
    "    #weakener_objects[i].virtual_labels()\n",
    "    globals()['Data'+name].include_weak(globals()['Weak'+name].v)\n",
    "    #dataset_objects[i].include_weak(weakener_objects[i].v)"
   ],
   "metadata": {
    "collapsed": false
   }
  },
  {
   "cell_type": "code",
   "execution_count": null,
   "outputs": [],
   "source": [
    "def weight_allocation(net,weights):\n",
    "    for name, param in net.named_parameters():\n",
    "        w = name.split('.')\n",
    "        w_name = 'fc'+str(int(w[1])+1)+'.'+w[2]\n",
    "        param.data = weights[w_name]\n",
    "    return net"
   ],
   "metadata": {
    "collapsed": false
   }
  },
  {
   "cell_type": "code",
   "execution_count": null,
   "outputs": [],
   "source": [
    "#We will do the trainig for all the models\n",
    "all_result = {}\n",
    "all_model = {}\n",
    "for i,name in enumerate(rec_names):\n",
    "    trainloader, testloader = globals()['Data'+name].get_dataloader()\n",
    "    mlp_feature = MLP(globals()['Data'+name].num_features,\n",
    "                      [globals()['Data'+name].num_features, globals()['Data'+name].num_features, globals()['Data'+name].num_features],\n",
    "                      globals()['Data'+name].num_classes, dropout_p = 0.0, bn = False, seed = 1,\n",
    "                  layer_init = lambda x: nn.init.kaiming_uniform_(x, a=math.sqrt(5))\n",
    "                      )\n",
    "    optim = torch.optim.Adam(mlp_feature.parameters(),lr=1e-2)\n",
    "    loss = LBLoss(k=0.5,beta=1.1)\n",
    "    print('\\nTraining for'+ name +'reconstruction starts:\\n')\n",
    "    mlp_feature, results = ES_train_and_evaluate(mlp_feature,trainloader,testloader,\n",
    "                                      optimizer=optim,loss_fn=loss,num_epochs=100,)\n",
    "    all_model[name] = {'model':mlp_feature,'optimizer':optim,'loss':loss}\n",
    "    all_result[name] = results\n"
   ],
   "metadata": {
    "collapsed": false
   }
  },
  {
   "cell_type": "code",
   "execution_count": null,
   "outputs": [],
   "source": [
    "import matplotlib.pyplot as plt\n",
    "import matplotlib.colors as mcolors\n",
    "from matplotlib.lines import Line2D\n",
    "\n",
    "tableau_palette = mcolors.TABLEAU_COLORS\n",
    "\n",
    "fig, (ax1, ax2) = plt.subplots(1, 2, figsize=(10, 5))\n",
    "colors = list(tableau_palette.values())\n",
    "\n",
    "# Plot the first subplot (Train Loss)\n",
    "for i,name in enumerate(rec_names):\n",
    "    ax1.plot(all_result[name]['train_loss'],label='Train'+name,color=colors[i])\n",
    "ax1.set_xlabel('Epoch')\n",
    "ax1.set_ylabel('Loss')\n",
    "ax1.legend()\n",
    "ax1.set_title('Train Loss')\n",
    "\n",
    "\n",
    "# Plot the second subplot (Accuracies)\n",
    "for i,name in enumerate(rec_names):\n",
    "    ax2.plot(all_result[name]['train_acc'], label='Train Accuracy'+name,\n",
    "             color=colors[i])\n",
    "    ax2.plot(all_result[name]['test_acc'], label='Test Accuracy'+name,\n",
    "             color=colors[i],linestyle='--')\n",
    "ax2.set_xlabel('Epoch')\n",
    "ax2.set_ylabel('Accuracy')\n",
    "ax2.set_title('Accuracies')\n",
    "#ax2.legend()\n",
    "legend_elements = [Line2D([0], [0], linestyle='-', color='black', label='Train Accuracy'),\n",
    "                   Line2D([0], [0], linestyle='--', color='black', label='Test Accuracy')]\n",
    "ax2.legend(handles=legend_elements)\n",
    "\n",
    "fig.suptitle('CE Learning Results', fontsize=18, fontweight='bold', y=1.05)\n",
    "# Show the plot\n",
    "plt.show()"
   ],
   "metadata": {
    "collapsed": false
   }
  },
  {
   "cell_type": "code",
   "execution_count": null,
   "outputs": [],
   "source": [],
   "metadata": {
    "collapsed": false
   }
  }
 ],
 "metadata": {
  "kernelspec": {
   "display_name": "Python 3",
   "language": "python",
   "name": "python3"
  },
  "language_info": {
   "codemirror_mode": {
    "name": "ipython",
    "version": 2
   },
   "file_extension": ".py",
   "mimetype": "text/x-python",
   "name": "python",
   "nbconvert_exporter": "python",
   "pygments_lexer": "ipython2",
   "version": "2.7.6"
  }
 },
 "nbformat": 4,
 "nbformat_minor": 0
}
