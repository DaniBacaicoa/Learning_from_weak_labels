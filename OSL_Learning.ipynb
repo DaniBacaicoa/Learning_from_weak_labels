{
 "cells": [
  {
   "cell_type": "markdown",
   "metadata": {
    "pycharm": {
     "name": "#%% md\n"
    }
   },
   "source": [
    "# Example code for OSL Learning\n",
    "We will use the"
   ]
  },
  {
   "cell_type": "code",
   "execution_count": 1,
   "metadata": {
    "pycharm": {
     "name": "#%%\n"
    }
   },
   "outputs": [],
   "source": [
    "import torch\n",
    "\n",
    "import matplotlib.pyplot as plt\n",
    "\n",
    "from datasets.openml_datasets import OpenML_Dataset\n",
    "from datasets.torch_datasets import Torch_Dataset\n",
    "from utils.weakener import Weakener\n",
    "from models.model import MLP\n",
    "from utils.losses import PartialLoss,CELoss,BrierLoss,LBLoss,EMLoss,OSLCELoss,OSLBrierLoss\n",
    "from utils.trainig_testing import train_model,evaluate_model,train_and_evaluate"
   ]
  },
  {
   "cell_type": "markdown",
   "metadata": {
    "pycharm": {
     "name": "#%% md\n"
    }
   },
   "source": [
    "The steps you might want to take for running the full 'weakening - learning - evaluating' experience\n",
    "<ol>\n",
    "<li> Loading the clean dataset: <code>Data = OpemML_Dataset('name')</code></li>\n",
    "<li> Setting the Weakener class: <code>Weak = Weakener(Data.num_classes)</code></li>\n",
    "<ol>\n",
    "<li> Generate the mixing matrix: <code>WL.generate_M(model_class='pll')</code></li>\n",
    "<li> Generate the weak labels <em>(z=index,w=one_hot)</em>: <code>z, w = WL.generate_weak(train_y)</code></li>\n",
    "<ul style=\"list-style: none;\">\n",
    " <li>Generating virtual label matrix or virtual labels is not necessary when training an OSL Learning algorithm as it only uses the weak labels</li>\n",
    "</ul>\n",
    "</ol>\n",
    "<li>Generate the dataloaders (trainloader/testloader) for the dataset enhaced with the weak labels</li>\n",
    "<ol>\n",
    "<li> Include weak labels into the dataset: <code>Data.include_weak(Weak.w)</code></li>\n",
    "<li> Generate the dataloaders: <code>trainloader, testloader = Data.get_dataloader()</code></li>\n",
    "</ol>\n",
    "<li> We create the mlp: <code>mlp = MLP(Data.num_features,[Data.num_features],Data.num_classes,dropout_p=0.5)</code></li>\n",
    "</ol>\n",
    "\n",
    "Fasten your seatbelt!"
   ]
  },
  {
   "cell_type": "code",
   "execution_count": 2,
   "metadata": {
    "pycharm": {
     "name": "#%%\n"
    }
   },
   "outputs": [
    {
     "name": "stdout",
     "output_type": "stream",
     "text": [
      "Downloading http://codh.rois.ac.jp/kmnist/dataset/kmnist/train-images-idx3-ubyte.gz\n",
      "Downloading http://codh.rois.ac.jp/kmnist/dataset/kmnist/train-images-idx3-ubyte.gz to ./data\\KMNIST\\raw\\train-images-idx3-ubyte.gz\n",
      "Extracting ./data\\KMNIST\\raw\\train-images-idx3-ubyte.gz to ./data\\KMNIST\\raw\n",
      "\n",
      "Downloading http://codh.rois.ac.jp/kmnist/dataset/kmnist/train-labels-idx1-ubyte.gz\n",
      "Downloading http://codh.rois.ac.jp/kmnist/dataset/kmnist/train-labels-idx1-ubyte.gz to ./data\\KMNIST\\raw\\train-labels-idx1-ubyte.gz\n",
      "Extracting ./data\\KMNIST\\raw\\train-labels-idx1-ubyte.gz to ./data\\KMNIST\\raw\n",
      "\n",
      "Downloading http://codh.rois.ac.jp/kmnist/dataset/kmnist/t10k-images-idx3-ubyte.gz\n",
      "Downloading http://codh.rois.ac.jp/kmnist/dataset/kmnist/t10k-images-idx3-ubyte.gz to ./data\\KMNIST\\raw\\t10k-images-idx3-ubyte.gz\n",
      "Extracting ./data\\KMNIST\\raw\\t10k-images-idx3-ubyte.gz to ./data\\KMNIST\\raw\n",
      "\n",
      "Downloading http://codh.rois.ac.jp/kmnist/dataset/kmnist/t10k-labels-idx1-ubyte.gz\n",
      "Downloading http://codh.rois.ac.jp/kmnist/dataset/kmnist/t10k-labels-idx1-ubyte.gz to ./data\\KMNIST\\raw\\t10k-labels-idx1-ubyte.gz\n",
      "Extracting ./data\\KMNIST\\raw\\t10k-labels-idx1-ubyte.gz to ./data\\KMNIST\\raw\n",
      "\n"
     ]
    },
    {
     "name": "stderr",
     "output_type": "stream",
     "text": [
      "100.0%\n",
      "100.0%\n",
      "100.0%\n",
      "100.0%\n"
     ]
    }
   ],
   "source": [
    "#Data = OpenML_Dataset('iris')\n",
    "Data = Torch_Dataset('kmnist')\n",
    "train_x, train_y, test_x, test_y = Data.get_data()\n",
    "# WL stores processes relative to the Weakening process\n",
    "Weak = Weakener(Data.num_classes)\n",
    "Weak.generate_M(model_class='pll')"
   ]
  },
  {
   "cell_type": "code",
   "execution_count": 3,
   "metadata": {
    "pycharm": {
     "name": "#%%\n"
    }
   },
   "outputs": [],
   "source": [
    "z, w = Weak.generate_weak(train_y)"
   ]
  },
  {
   "cell_type": "code",
   "execution_count": 4,
   "metadata": {
    "pycharm": {
     "name": "#%%\n"
    }
   },
   "outputs": [],
   "source": [
    "Data.include_weak(Weak.w)"
   ]
  },
  {
   "cell_type": "code",
   "execution_count": 5,
   "metadata": {
    "pycharm": {
     "name": "#%%\n"
    }
   },
   "outputs": [],
   "source": [
    "trainloader, testloader = Data.get_dataloader()\n",
    "\n"
   ]
  },
  {
   "cell_type": "code",
   "execution_count": 6,
   "metadata": {
    "pycharm": {
     "name": "#%%\n"
    }
   },
   "outputs": [
    {
     "name": "stdout",
     "output_type": "stream",
     "text": [
      "Epoch 1/10: Train Loss: 0.1322, Train Acc: 0.6754, Test Acc: 0.6749\n",
      "Epoch 2/10: Train Loss: 0.0573, Train Acc: 0.8627, Test Acc: 0.7787\n",
      "Epoch 3/10: Train Loss: 0.0378, Train Acc: 0.9067, Test Acc: 0.7955\n",
      "Epoch 4/10: Train Loss: 0.0308, Train Acc: 0.9162, Test Acc: 0.8045\n",
      "Epoch 5/10: Train Loss: 0.0257, Train Acc: 0.9270, Test Acc: 0.8170\n",
      "Epoch 6/10: Train Loss: 0.0221, Train Acc: 0.9322, Test Acc: 0.8280\n",
      "Epoch 7/10: Train Loss: 0.0197, Train Acc: 0.9358, Test Acc: 0.8333\n",
      "Epoch 8/10: Train Loss: 0.0175, Train Acc: 0.9397, Test Acc: 0.8324\n",
      "Epoch 9/10: Train Loss: 0.0158, Train Acc: 0.9415, Test Acc: 0.8428\n",
      "Epoch 10/10: Train Loss: 0.0153, Train Acc: 0.9429, Test Acc: 0.8384\n"
     ]
    }
   ],
   "source": [
    "mlp = MLP(Data.num_features,[Data.num_features],Data.num_classes,dropout_p=0.)\n",
    "optimizer = torch.optim.Adam(mlp.parameters(), lr=0.001)\n",
    "loss_fn = OSLBrierLoss()\n",
    "\n",
    "mlp,results = train_and_evaluate(mlp,trainloader,testloader,optimizer,loss_fn,num_epochs=10)"
   ]
  },
  {
   "cell_type": "code",
   "execution_count": 7,
   "metadata": {
    "pycharm": {
     "name": "#%%\n"
    }
   },
   "outputs": [
    {
     "data": {
      "text/plain": "[<matplotlib.lines.Line2D at 0x2b8e05adb80>]"
     },
     "execution_count": 7,
     "metadata": {},
     "output_type": "execute_result"
    },
    {
     "data": {
      "text/plain": "<Figure size 640x480 with 1 Axes>",
      "image/png": "[encoded data removed]"
     },
     "metadata": {},
     "output_type": "display_data"
    }
   ],
   "source": [
    "plt.plot(results['train_loss'])"
   ]
  },
  {
   "cell_type": "code",
   "execution_count": 8,
   "metadata": {
    "pycharm": {
     "name": "#%%\n"
    }
   },
   "outputs": [
    {
     "data": {
      "text/plain": "[<matplotlib.lines.Line2D at 0x2b8e0219fd0>]"
     },
     "execution_count": 8,
     "metadata": {},
     "output_type": "execute_result"
    },
    {
     "data": {
      "text/plain": "<Figure size 640x480 with 1 Axes>",
      "image/png": "[encoded data removed]"
     },
     "metadata": {},
     "output_type": "display_data"
    }
   ],
   "source": [
    "plt.plot(results['train_acc'])\n",
    "plt.plot(results['test_acc'])"
   ]
  },
  {
   "cell_type": "code",
   "execution_count": 9,
   "metadata": {
    "pycharm": {
     "name": "#%%\n"
    }
   },
   "outputs": [
    {
     "data": {
      "text/plain": "{'train_loss': [0.13224467548529306,\n  0.057251057521502176,\n  0.03780477564036846,\n  0.03081488476296266,\n  0.025669079627158743,\n  0.022071643599122764,\n  0.019740446915555123,\n  0.01747072384835143,\n  0.015772191583784297,\n  0.015298347660773046],\n 'train_acc': [tensor(0.6754, dtype=torch.float64),\n  tensor(0.8627, dtype=torch.float64),\n  tensor(0.9067, dtype=torch.float64),\n  tensor(0.9162, dtype=torch.float64),\n  tensor(0.9270, dtype=torch.float64),\n  tensor(0.9322, dtype=torch.float64),\n  tensor(0.9358, dtype=torch.float64),\n  tensor(0.9397, dtype=torch.float64),\n  tensor(0.9415, dtype=torch.float64),\n  tensor(0.9429, dtype=torch.float64)],\n 'test_acc': [tensor(0.6749, dtype=torch.float64),\n  tensor(0.7787, dtype=torch.float64),\n  tensor(0.7955, dtype=torch.float64),\n  tensor(0.8045, dtype=torch.float64),\n  tensor(0.8170, dtype=torch.float64),\n  tensor(0.8280, dtype=torch.float64),\n  tensor(0.8333, dtype=torch.float64),\n  tensor(0.8324, dtype=torch.float64),\n  tensor(0.8428, dtype=torch.float64),\n  tensor(0.8384, dtype=torch.float64)]}"
     },
     "execution_count": 9,
     "metadata": {},
     "output_type": "execute_result"
    }
   ],
   "source": [
    "results"
   ]
  },
  {
   "cell_type": "code",
   "execution_count": 9,
   "metadata": {
    "pycharm": {
     "name": "#%%\n"
    }
   },
   "outputs": [],
   "source": []
  }
 ],
 "metadata": {
  "kernelspec": {
   "display_name": "PyCharm (Learning_from_weak_labels)",
   "language": "python",
   "name": "pycharm-2fb0f616"
  },
  "language_info": {
   "codemirror_mode": {
    "name": "ipython",
    "version": 3
   },
   "file_extension": ".py",
   "mimetype": "text/x-python",
   "name": "python",
   "nbconvert_exporter": "python",
   "pygments_lexer": "ipython3",
   "version": "3.9.16"
  }
 },
 "nbformat": 4,
 "nbformat_minor": 1
}