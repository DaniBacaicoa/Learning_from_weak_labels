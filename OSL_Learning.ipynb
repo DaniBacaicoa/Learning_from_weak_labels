{
 "cells": [
  {
   "cell_type": "markdown",
   "source": [
    "# Example code for OSL Learning\n",
    "We will use the"
   ],
   "metadata": {
    "collapsed": false,
    "pycharm": {
     "name": "#%% md\n"
    }
   }
  },
  {
   "cell_type": "code",
   "execution_count": 4,
   "outputs": [],
   "source": [
    "from datasets.openml_datasets import OpenML_Dataset\n",
    "from utils.weakener import Weakener"
   ],
   "metadata": {
    "collapsed": false,
    "pycharm": {
     "name": "#%%\n"
    }
   }
  },
  {
   "cell_type": "markdown",
   "source": [
    "The steps you might want to take for running the full 'weakening - learning - evaluating' experience\n",
    "<ol>\n",
    "<li> Loading the clean dataset: <code>Data = OpemML_Dataset('name')</code></li>\n",
    "<li> Setting the Weakener class <code>Weak = Weakener(Data.num_classes)</code></li>\n",
    "<ol>\n",
    "<li> Weakening the train dataset</li>\n",
    "</ol>\n",
    "</ol>\n",
    "\n",
    "Fasten your seatbelt!"
   ],
   "metadata": {
    "collapsed": false,
    "pycharm": {
     "name": "#%% md\n"
    }
   }
  },
  {
   "cell_type": "markdown",
   "source": [
    "| Syntax      | Description | Test Text     |\n",
    "| :---        |    :----:   |          ---: |\n",
    "| Header      | Title       | Here's this   |\n",
    "| Paragraph   | Text        | And more      |"
   ],
   "metadata": {
    "collapsed": false,
    "pycharm": {
     "name": "#%% md\n"
    }
   }
  },
  {
   "cell_type": "code",
   "execution_count": 5,
   "outputs": [],
   "source": [
    "Data = OpenML_Dataset('iris')\n",
    "train_x, train_y, test_x, test_y = Data.get_data()\n",
    "# WL stores pocesses relative to the Weakening process\n",
    "Weak = Weakener(Data.num_classes)"
   ],
   "metadata": {
    "collapsed": false,
    "pycharm": {
     "name": "#%%\n"
    }
   }
  },
  {
   "cell_type": "code",
   "execution_count": null,
   "outputs": [],
   "source": [],
   "metadata": {
    "collapsed": false,
    "pycharm": {
     "name": "#%%\n"
    }
   }
  }
 ],
 "metadata": {
  "kernelspec": {
   "display_name": "Python 3",
   "language": "python",
   "name": "python3"
  },
  "language_info": {
   "codemirror_mode": {
    "name": "ipython",
    "version": 2
   },
   "file_extension": ".py",
   "mimetype": "text/x-python",
   "name": "python",
   "nbconvert_exporter": "python",
   "pygments_lexer": "ipython2",
   "version": "2.7.6"
  }
 },
 "nbformat": 4,
 "nbformat_minor": 0
}