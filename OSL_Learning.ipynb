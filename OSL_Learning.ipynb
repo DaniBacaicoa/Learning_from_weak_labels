{
 "cells": [
  {
   "cell_type": "markdown",
   "metadata": {
    "pycharm": {
     "name": "#%% md\n"
    }
   },
   "source": [
    "# Example code for OSL Learning\n",
    "We will use the"
   ]
  },
  {
   "cell_type": "code",
   "execution_count": null,
   "outputs": [],
   "source": [
    "import torch\n",
    "\n",
    "import matplotlib.pyplot as plt\n",
    "\n",
    "from datasets.openml_datasets import OpenML_Dataset\n",
    "from datasets.torch_datasets import Torch_Dataset\n",
    "from utils.weakener import Weakener\n",
    "from models.model import MLP\n",
    "from utils.losses import PartialLoss,LBLoss,EMLoss,OSLCELoss,OSLBrierLoss\n",
    "from utils.trainig_testing import train_model,evaluate_model,train_and_evaluate"
   ],
   "metadata": {
    "collapsed": false,
    "pycharm": {
     "name": "#%%\n"
    }
   }
  },
  {
   "cell_type": "markdown",
   "source": [
    "The steps you might want to take for running the full 'weakening - learning - evaluating' experience\n",
    "<ol>\n",
    "<li> Loading the clean dataset: <code>Data = OpemML_Dataset('name')</code></li>\n",
    "<li> Setting the Weakener class: <code>Weak = Weakener(Data.num_classes)</code></li>\n",
    "<ol>\n",
    "<li> Generate the mixing matrix: <code>WL.generate_M(model_class='pll')</code></li>\n",
    "<li> Generate the weak labels <em>(z=index,w=one_hot)</em>: <code>z, w = WL.generate_weak(train_y)</code></li>\n",
    "<ul style=\"list-style: none;\">\n",
    " <li>Generating virtual label matrix or virtual labels is not necessary when training an OSL Learning algorithm as it only uses the weak labels</li>\n",
    "</ul>\n",
    "</ol>\n",
    "<li>Generate the dataloaders (trainloader/testloader) for the dataset enhaced with the weak labels</li>\n",
    "<ol>\n",
    "<li> Include weak labels into the dataset: <code>Data.include_weak(Weak.w)</code></li>\n",
    "<li> Generate the dataloaders: <code>trainloader, testloader = Data.get_dataloader()</code></li>\n",
    "</ol>\n",
    "<li> We create the mlp: <code>mlp = MLP(Data.num_features,[Data.num_features],Data.num_classes,dropout_p=0.5)</code></li>\n",
    "</ol>\n",
    "\n",
    "Fasten your seatbelt!"
   ],
   "metadata": {
    "collapsed": false,
    "pycharm": {
     "name": "#%% md\n"
    }
   }
  },
  {
   "cell_type": "code",
   "execution_count": null,
   "outputs": [],
   "source": [
    "#Data = OpenML_Dataset('iris')\n",
    "Data = Torch_Dataset('kmnist')\n",
    "train_x, train_y, test_x, test_y = Data.get_data()\n",
    "# WL stores processes relative to the Weakening process\n",
    "Weak = Weakener(Data.num_classes)\n",
    "Weak.generate_M(model_class='pll')"
   ],
   "metadata": {
    "collapsed": false,
    "pycharm": {
     "name": "#%%\n"
    }
   }
  },
  {
   "cell_type": "code",
   "execution_count": null,
   "outputs": [],
   "source": [
    "z, w = Weak.generate_weak(train_y)"
   ],
   "metadata": {
    "collapsed": false,
    "pycharm": {
     "name": "#%%\n"
    }
   }
  },
  {
   "cell_type": "code",
   "execution_count": null,
   "outputs": [],
   "source": [
    "Data.include_weak(Weak.w)"
   ],
   "metadata": {
    "collapsed": false,
    "pycharm": {
     "name": "#%%\n"
    }
   }
  },
  {
   "cell_type": "code",
   "execution_count": null,
   "outputs": [],
   "source": [
    "trainloader, testloader = Data.get_dataloader()\n",
    "\n"
   ],
   "metadata": {
    "collapsed": false,
    "pycharm": {
     "name": "#%%\n"
    }
   }
  },
  {
   "cell_type": "code",
   "execution_count": null,
   "outputs": [],
   "source": [
    "mlp = MLP(Data.num_features,[Data.num_features],Data.num_classes,dropout_p=0.)\n",
    "optimizer = torch.optim.Adam(mlp.parameters(), lr=0.001)\n",
    "loss_fn = PartialLoss(Weak.w)\n",
    "\n",
    "mlp,results = train_and_evaluate(mlp,trainloader,testloader,optimizer,loss_fn,num_epochs=10)"
   ],
   "metadata": {
    "collapsed": false,
    "pycharm": {
     "name": "#%%\n"
    }
   }
  },
  {
   "cell_type": "code",
   "execution_count": null,
   "outputs": [],
   "source": [
    "plt.plot(results['train_loss'])"
   ],
   "metadata": {
    "collapsed": false,
    "pycharm": {
     "name": "#%%\n"
    }
   }
  },
  {
   "cell_type": "code",
   "execution_count": null,
   "outputs": [],
   "source": [
    "plt.plot(results['train_acc'])\n",
    "plt.plot(results['test_acc'])"
   ],
   "metadata": {
    "collapsed": false,
    "pycharm": {
     "name": "#%%\n"
    }
   }
  },
  {
   "cell_type": "code",
   "execution_count": 5,
   "metadata": {
    "pycharm": {
     "name": "#%%\n"
    }
   },
   "outputs": [],
   "source": [
    "trainloader, testloader = Data.get_dataloader()\n",
    "\n"
   ]
  },
  {
   "cell_type": "code",
   "execution_count": 6,
   "metadata": {
    "pycharm": {
     "name": "#%%\n"
    }
   },
   "outputs": [
    {
     "name": "stderr",
     "output_type": "stream",
     "text": [
      "C:\\Users\\danibacaicoa\\PycharmProjects\\Learning_from_weak_labels\\utils\\losses.py:34: UserWarning: Implicit dimension choice for log_softmax has been deprecated. Change the call to include dim=X as an argument.\n",
      "  logp = self.logsoftmax(v)\n"
     ]
    },
    {
     "name": "stdout",
     "output_type": "stream",
     "text": [
      "Epoch 1/10: Train Loss: 2.3209, Train Acc: 0.6220, Test Acc: 0.6177\n",
      "Epoch 2/10: Train Loss: 2.1621, Train Acc: 0.8621, Test Acc: 0.7639\n",
      "Epoch 3/10: Train Loss: 1.9381, Train Acc: 0.8999, Test Acc: 0.7961\n",
      "Epoch 4/10: Train Loss: 1.6426, Train Acc: 0.9163, Test Acc: 0.8142\n",
      "Epoch 5/10: Train Loss: 1.3316, Train Acc: 0.9277, Test Acc: 0.8254\n",
      "Epoch 6/10: Train Loss: 1.0517, Train Acc: 0.9360, Test Acc: 0.8444\n",
      "Epoch 7/10: Train Loss: 0.8231, Train Acc: 0.9435, Test Acc: 0.8441\n",
      "Epoch 8/10: Train Loss: 0.6496, Train Acc: 0.9471, Test Acc: 0.8668\n",
      "Epoch 9/10: Train Loss: 0.5219, Train Acc: 0.9509, Test Acc: 0.8563\n",
      "Epoch 10/10: Train Loss: 0.4284, Train Acc: 0.9553, Test Acc: 0.8681\n"
     ]
    }
   ],
   "source": [
    "mlp = MLP(Data.num_features,[Data.num_features],Data.num_classes,dropout_p=0.)\n",
    "optimizer = torch.optim.Adam(mlp.parameters(), lr=0.001)\n",
    "loss_fn = PartialLoss(Weak.w)\n",
    "\n",
    "mlp,results = train_and_evaluate(mlp,trainloader,testloader,optimizer,loss_fn,num_epochs=10)"
   ]
  },
  {
   "cell_type": "code",
   "execution_count": 7,
   "metadata": {
    "pycharm": {
     "name": "#%%\n"
    }
   },
   "outputs": [
    {
     "data": {
      "text/plain": "[<matplotlib.lines.Line2D at 0x21582611640>]"
     },
     "execution_count": 7,
     "metadata": {},
     "output_type": "execute_result"
    },
    {
     "data": {
      "text/plain": "<Figure size 640x480 with 1 Axes>",
      "image/png": "[encoded data removed]"
     },
     "metadata": {},
     "output_type": "display_data"
    }
   ],
   "source": [
    "plt.plot(results['train_loss'])"
   ]
  },
  {
   "cell_type": "code",
   "execution_count": 8,
   "metadata": {
    "pycharm": {
     "name": "#%%\n"
    }
   },
   "outputs": [
    {
     "data": {
      "text/plain": "[<matplotlib.lines.Line2D at 0x215e0ac3fd0>]"
     },
     "execution_count": 8,
     "metadata": {},
     "output_type": "execute_result"
    },
    {
     "data": {
      "text/plain": "<Figure size 640x480 with 1 Axes>",
      "image/png": "[encoded data removed]"
     },
     "metadata": {},
     "output_type": "display_data"
    }
   ],
   "source": [
    "plt.plot(results['train_acc'])\n",
    "plt.plot(results['test_acc'])"
   ]
  }
 ],
 "metadata": {
  "kernelspec": {
   "display_name": "PyCharm (Learning_from_weak_labels)",
   "language": "python",
   "name": "pycharm-2fb0f616"
  },
  "language_info": {
   "codemirror_mode": {
    "name": "ipython",
    "version": 3
   },
   "file_extension": ".py",
   "mimetype": "text/x-python",
   "name": "python",
   "nbconvert_exporter": "python",
   "pygments_lexer": "ipython3",
   "version": "3.9.16"
  }
 },
 "nbformat": 4,
 "nbformat_minor": 1
}