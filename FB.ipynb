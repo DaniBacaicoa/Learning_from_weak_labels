{
 "cells": [
  {
   "cell_type": "code",
   "execution_count": 2,
   "metadata": {},
   "outputs": [],
   "source": [
    "import os\n",
    "import torch\n",
    "import torch.nn as nn\n",
    "import numpy as np\n",
    "import argparse\n",
    "\n",
    "import datasets.datasets as dtset\n",
    "import utils.losses as losses\n",
    "from utils.weakener import Weakener\n",
    "from models.model import MLP\n",
    "from utils.trainig_testing import train_and_evaluate\n",
    "from Dataset_generation import generate_dataset\n",
    "import pickle\n",
    "import json"
   ]
  },
  {
   "cell_type": "code",
   "execution_count": 3,
   "metadata": {},
   "outputs": [],
   "source": [
    "pll_p = 0.2\n",
    "save_dir = f'Experimental_results({pll_p})'\n",
    "#Create save directory if it doesn't exist\n",
    "if not os.path.exists(save_dir):\n",
    "    os.makedirs(save_dir)\n",
    "    #This is for creating an mnist dataset inside the folder if it does'nt exist\n",
    "    generate_dataset(save_dir, pll_p = pll_p,) #This\n",
    "\n",
    "#Reading the mnist dataset so all losses work with the same data\n",
    "f = open(save_dir + \"/Dataset.pkl\",\"rb\")\n",
    "Data,Weak = pickle.load(f)\n",
    "f.close()\n"
   ]
  },
  {
   "cell_type": "code",
   "execution_count": 5,
   "metadata": {},
   "outputs": [
    {
     "data": {
      "text/plain": [
       "(1023, 10)"
      ]
     },
     "execution_count": 5,
     "metadata": {},
     "output_type": "execute_result"
    }
   ],
   "source": [
    "Weak.M.shape"
   ]
  },
  {
   "cell_type": "code",
   "execution_count": 7,
   "metadata": {},
   "outputs": [
    {
     "data": {
      "text/plain": [
       "(10, 1023)"
      ]
     },
     "execution_count": 7,
     "metadata": {},
     "output_type": "execute_result"
    }
   ],
   "source": [
    "Y = np.linalg.pinv(Weak.M)\n",
    "Y.shape"
   ]
  },
  {
   "cell_type": "code",
   "execution_count": null,
   "metadata": {},
   "outputs": [],
   "source": [
    "loss_type == 'ForwardBackward_Y':\n",
    "Weak.V_matrix(Data.num_classes)\n",
    "Y = np.linalg.pinv(Weak.M)\n",
    "loss_fn = losses.FBLoss_gpt4o(Weak.M, Y)\n",
    "Data.include_weak(Weak.z)\n",
    "trainloader,testloader = Data.get_dataloader(weak_labels='weak')"
   ]
  }
 ],
 "metadata": {
  "kernelspec": {
   "display_name": "LfWL",
   "language": "python",
   "name": "python3"
  },
  "language_info": {
   "codemirror_mode": {
    "name": "ipython",
    "version": 3
   },
   "file_extension": ".py",
   "mimetype": "text/x-python",
   "name": "python",
   "nbconvert_exporter": "python",
   "pygments_lexer": "ipython3",
   "version": "3.11.7"
  }
 },
 "nbformat": 4,
 "nbformat_minor": 2
}
