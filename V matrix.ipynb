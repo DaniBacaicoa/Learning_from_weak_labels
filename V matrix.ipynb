{
 "cells": [
  {
   "cell_type": "code",
   "execution_count": 1,
   "metadata": {},
   "outputs": [],
   "source": [
    "import torch\n",
    "import torch.nn as nn\n",
    "import numpy as np\n",
    "import datasets.datasets as dtset\n",
    "import utils.losses as losses\n",
    "\n",
    "from utils.weakener import Weakener"
   ]
  },
  {
   "cell_type": "code",
   "execution_count": 2,
   "metadata": {},
   "outputs": [
    {
     "name": "stderr",
     "output_type": "stream",
     "text": [
      "c:\\Users\\danibacaicoa\\vscode_projects\\Learning_from_weak_labels\\datasets\\datasets.py:89: FutureWarning: Starting from Version 0.15 `download_data`, `download_qualities`, and `download_features_meta_data` will all be ``False`` instead of ``True`` by default to enable lazy loading. To disable this message until version 0.15 explicitly set `download_data`, `download_qualities`, and `download_features_meta_data` to a bool while calling `get_dataset`.\n",
      "  data = openml.datasets.get_dataset(openml_ids[self.dataset])\n"
     ]
    },
    {
     "data": {
      "text/plain": [
       "(tensor([2, 1, 4, 5, 3, 4, 3, 1, 2, 3, 3, 3, 0, 3, 0, 0, 0, 2, 3, 3, 0, 1, 5, 3,\n",
       "         2, 1, 0, 1, 3, 2, 3, 1, 1, 5, 0, 2, 3, 3, 1, 3, 3, 5, 0, 1, 5, 3, 1, 1,\n",
       "         4, 6, 0, 5, 4, 1, 0, 5, 0, 1, 1, 1, 2, 3, 3, 3, 2, 0, 5, 1, 0, 0, 2, 5,\n",
       "         5, 0, 3, 3, 0, 1, 3, 0, 3, 0, 1, 6, 2, 1, 0, 5, 0, 0, 6, 1, 6, 4, 1, 1,\n",
       "         2, 4, 0, 0, 0, 1, 4, 5, 1], dtype=torch.int32),\n",
       " tensor([[0., 1., 1.],\n",
       "         [0., 1., 0.],\n",
       "         [1., 0., 1.],\n",
       "         [1., 1., 0.],\n",
       "         [1., 0., 0.],\n",
       "         [1., 0., 1.],\n",
       "         [1., 0., 0.],\n",
       "         [0., 1., 0.],\n",
       "         [0., 1., 1.],\n",
       "         [1., 0., 0.],\n",
       "         [1., 0., 0.],\n",
       "         [1., 0., 0.],\n",
       "         [0., 0., 1.],\n",
       "         [1., 0., 0.],\n",
       "         [0., 0., 1.],\n",
       "         [0., 0., 1.],\n",
       "         [0., 0., 1.],\n",
       "         [0., 1., 1.],\n",
       "         [1., 0., 0.],\n",
       "         [1., 0., 0.],\n",
       "         [0., 0., 1.],\n",
       "         [0., 1., 0.],\n",
       "         [1., 1., 0.],\n",
       "         [1., 0., 0.],\n",
       "         [0., 1., 1.],\n",
       "         [0., 1., 0.],\n",
       "         [0., 0., 1.],\n",
       "         [0., 1., 0.],\n",
       "         [1., 0., 0.],\n",
       "         [0., 1., 1.],\n",
       "         [1., 0., 0.],\n",
       "         [0., 1., 0.],\n",
       "         [0., 1., 0.],\n",
       "         [1., 1., 0.],\n",
       "         [0., 0., 1.],\n",
       "         [0., 1., 1.],\n",
       "         [1., 0., 0.],\n",
       "         [1., 0., 0.],\n",
       "         [0., 1., 0.],\n",
       "         [1., 0., 0.],\n",
       "         [1., 0., 0.],\n",
       "         [1., 1., 0.],\n",
       "         [0., 0., 1.],\n",
       "         [0., 1., 0.],\n",
       "         [1., 1., 0.],\n",
       "         [1., 0., 0.],\n",
       "         [0., 1., 0.],\n",
       "         [0., 1., 0.],\n",
       "         [1., 0., 1.],\n",
       "         [1., 1., 1.],\n",
       "         [0., 0., 1.],\n",
       "         [1., 1., 0.],\n",
       "         [1., 0., 1.],\n",
       "         [0., 1., 0.],\n",
       "         [0., 0., 1.],\n",
       "         [1., 1., 0.],\n",
       "         [0., 0., 1.],\n",
       "         [0., 1., 0.],\n",
       "         [0., 1., 0.],\n",
       "         [0., 1., 0.],\n",
       "         [0., 1., 1.],\n",
       "         [1., 0., 0.],\n",
       "         [1., 0., 0.],\n",
       "         [1., 0., 0.],\n",
       "         [0., 1., 1.],\n",
       "         [0., 0., 1.],\n",
       "         [1., 1., 0.],\n",
       "         [0., 1., 0.],\n",
       "         [0., 0., 1.],\n",
       "         [0., 0., 1.],\n",
       "         [0., 1., 1.],\n",
       "         [1., 1., 0.],\n",
       "         [1., 1., 0.],\n",
       "         [0., 0., 1.],\n",
       "         [1., 0., 0.],\n",
       "         [1., 0., 0.],\n",
       "         [0., 0., 1.],\n",
       "         [0., 1., 0.],\n",
       "         [1., 0., 0.],\n",
       "         [0., 0., 1.],\n",
       "         [1., 0., 0.],\n",
       "         [0., 0., 1.],\n",
       "         [0., 1., 0.],\n",
       "         [1., 1., 1.],\n",
       "         [0., 1., 1.],\n",
       "         [0., 1., 0.],\n",
       "         [0., 0., 1.],\n",
       "         [1., 1., 0.],\n",
       "         [0., 0., 1.],\n",
       "         [0., 0., 1.],\n",
       "         [1., 1., 1.],\n",
       "         [0., 1., 0.],\n",
       "         [1., 1., 1.],\n",
       "         [1., 0., 1.],\n",
       "         [0., 1., 0.],\n",
       "         [0., 1., 0.],\n",
       "         [0., 1., 1.],\n",
       "         [1., 0., 1.],\n",
       "         [0., 0., 1.],\n",
       "         [0., 0., 1.],\n",
       "         [0., 0., 1.],\n",
       "         [0., 1., 0.],\n",
       "         [1., 0., 1.],\n",
       "         [1., 1., 0.],\n",
       "         [0., 1., 0.]], dtype=torch.float64))"
      ]
     },
     "execution_count": 2,
     "metadata": {},
     "output_type": "execute_result"
    }
   ],
   "source": [
    "Data = dtset.OpenML_Dataset('iris', batch_size = 16)\n",
    "Weak = Weakener(Data.num_classes)\n",
    "Weak.generate_M(model_class='pll',pll_p = 0.2)\n",
    "train_X,train_y,test_X,test_y =  Data.get_data()\n",
    "Weak.generate_weak(train_y) #z and w"
   ]
  },
  {
   "cell_type": "code",
   "execution_count": 4,
   "metadata": {},
   "outputs": [
    {
     "data": {
      "text/plain": [
       "array([[0.  , 0.  , 0.64],\n",
       "       [0.  , 0.64, 0.  ],\n",
       "       [0.  , 0.16, 0.16],\n",
       "       [0.64, 0.  , 0.  ],\n",
       "       [0.16, 0.  , 0.16],\n",
       "       [0.16, 0.16, 0.  ],\n",
       "       [0.04, 0.04, 0.04]])"
      ]
     },
     "execution_count": 4,
     "metadata": {},
     "output_type": "execute_result"
    }
   ],
   "source": [
    "Weak.M"
   ]
  },
  {
   "cell_type": "code",
   "execution_count": 21,
   "metadata": {},
   "outputs": [],
   "source": [
    "Weak.M.T.shape\n",
    "Weak.virtual_matrix()"
   ]
  },
  {
   "cell_type": "code",
   "execution_count": 23,
   "metadata": {},
   "outputs": [
    {
     "data": {
      "text/plain": [
       "(3, 7)"
      ]
     },
     "execution_count": 23,
     "metadata": {},
     "output_type": "execute_result"
    }
   ],
   "source": [
    "Weak.Y.shape"
   ]
  },
  {
   "cell_type": "code",
   "execution_count": 24,
   "metadata": {},
   "outputs": [
    {
     "data": {
      "text/plain": [
       "(7, 3)"
      ]
     },
     "execution_count": 24,
     "metadata": {},
     "output_type": "execute_result"
    }
   ],
   "source": [
    "Weak.M.shape"
   ]
  },
  {
   "cell_type": "code",
   "execution_count": 9,
   "metadata": {},
   "outputs": [
    {
     "name": "stdout",
     "output_type": "stream",
     "text": [
      "[0.   0.64 0.  ]\n",
      "[0.0, 0.9999999999999999, 0.0]\n"
     ]
    }
   ],
   "source": [
    "print(Weak.M[1,:])\n",
    "print(list(rng.dirichlet(Weak.M[1,:], 1).squeeze()))"
   ]
  },
  {
   "cell_type": "code",
   "execution_count": 31,
   "metadata": {},
   "outputs": [
    {
     "name": "stdout",
     "output_type": "stream",
     "text": [
      "[-0.13638621  1.25331976  0.59196748 -0.1281657  -0.13209072  0.55908541\n",
      "  0.34267235]\n",
      "[-0.12947809  1.25331976 -0.12384167]\n",
      "[0.1668978  0.66526104 0.16784116]\n"
     ]
    },
    {
     "ename": "ValueError",
     "evalue": "alpha < 0",
     "output_type": "error",
     "traceback": [
      "\u001b[1;31m---------------------------------------------------------------------------\u001b[0m",
      "\u001b[1;31mValueError\u001b[0m                                Traceback (most recent call last)",
      "Cell \u001b[1;32mIn[31], line 8\u001b[0m\n\u001b[0;32m      6\u001b[0m     \u001b[38;5;28;01mreturn\u001b[39;00m e_x \u001b[38;5;241m/\u001b[39m e_x\u001b[38;5;241m.\u001b[39msum(axis\u001b[38;5;241m=\u001b[39m\u001b[38;5;241m0\u001b[39m) \n\u001b[0;32m      7\u001b[0m \u001b[38;5;28mprint\u001b[39m(softmax(Weak\u001b[38;5;241m.\u001b[39mY[:,\u001b[38;5;241m1\u001b[39m]))\n\u001b[1;32m----> 8\u001b[0m \u001b[38;5;28mprint\u001b[39m(\u001b[38;5;28mlist\u001b[39m(\u001b[43mrng\u001b[49m\u001b[38;5;241;43m.\u001b[39;49m\u001b[43mdirichlet\u001b[49m\u001b[43m(\u001b[49m\u001b[43mWeak\u001b[49m\u001b[38;5;241;43m.\u001b[39;49m\u001b[43mY\u001b[49m\u001b[43m[\u001b[49m\u001b[43m:\u001b[49m\u001b[43m,\u001b[49m\u001b[38;5;241;43m1\u001b[39;49m\u001b[43m]\u001b[49m\u001b[38;5;241;43m.\u001b[39;49m\u001b[43mT\u001b[49m\u001b[43m,\u001b[49m\u001b[43m \u001b[49m\u001b[38;5;241;43m1\u001b[39;49m\u001b[43m)\u001b[49m\u001b[38;5;241m.\u001b[39msqueeze()))\n",
      "File \u001b[1;32mnumpy\\\\random\\\\_generator.pyx:4410\u001b[0m, in \u001b[0;36mnumpy.random._generator.Generator.dirichlet\u001b[1;34m()\u001b[0m\n",
      "\u001b[1;31mValueError\u001b[0m: alpha < 0"
     ]
    }
   ],
   "source": [
    "\n",
    "print(Weak.Y[1,:])\n",
    "print(Weak.Y[:,1])\n",
    "def softmax(x):\n",
    "    \"\"\"Compute softmax values for each sets of scores in x.\"\"\"\n",
    "    e_x = np.exp(x - np.max(x))\n",
    "    return e_x / e_x.sum(axis=0) \n",
    "print(softmax(Weak.Y[:,1]))\n",
    "print(list(rng.dirichlet(Weak.Y[:,1].T, 1).squeeze()))"
   ]
  },
  {
   "cell_type": "code",
   "execution_count": 42,
   "metadata": {},
   "outputs": [
    {
     "name": "stdout",
     "output_type": "stream",
     "text": [
      "(3, 7)\n",
      "[[0.00000000e+00 0.00000000e+00 0.00000000e+00 1.00000000e+00\n",
      "  9.85621186e-01 1.29687812e-01 9.99947485e-01]\n",
      " [0.00000000e+00 1.00000000e+00 7.17144314e-01 0.00000000e+00\n",
      "  0.00000000e+00 8.70312188e-01 8.04887806e-16]\n",
      " [1.00000000e+00 0.00000000e+00 2.82855686e-01 0.00000000e+00\n",
      "  1.43788140e-02 0.00000000e+00 5.25151649e-05]]\n",
      "[1. 1. 1. 1. 1. 1. 1.]\n"
     ]
    }
   ],
   "source": [
    "# Tis is a solution with M\n",
    "rng = np.random.default_rng()\n",
    "V = np.array([list(rng.dirichlet(Weak.M[i,:], 1).squeeze()) for i in range(Weak.M.shape[0])]).T\n",
    "print(V.shape)\n",
    "print(V)\n",
    "print(V.sum(0))\n"
   ]
  },
  {
   "cell_type": "code",
   "execution_count": 43,
   "metadata": {},
   "outputs": [
    {
     "name": "stdout",
     "output_type": "stream",
     "text": [
      "(3, 7)\n",
      "[[0.33496888 0.79582505 0.31097093 0.10189125 0.14122115 0.25008379\n",
      "  0.02287904]\n",
      " [0.13260223 0.0216276  0.10675193 0.25249424 0.41000445 0.3598183\n",
      "  0.12606039]\n",
      " [0.5324289  0.18254735 0.58227714 0.64561451 0.4487744  0.3900979\n",
      "  0.85106057]]\n",
      "[1. 1. 1. 1. 1. 1. 1.]\n"
     ]
    }
   ],
   "source": [
    "#Solution with ones d dim\n",
    "rng = np.random.default_rng()\n",
    "V = np.array([list(rng.dirichlet(Weak.M[i,:]*0+1, 1).squeeze()) for i in range(Weak.M.shape[0])]).T\n",
    "print(V.shape)\n",
    "print(V)\n",
    "print(V.sum(0))"
   ]
  },
  {
   "cell_type": "code",
   "execution_count": 65,
   "metadata": {},
   "outputs": [
    {
     "name": "stdout",
     "output_type": "stream",
     "text": [
      "(3, 7)\n",
      "[[0.06360351 0.41266791 0.058639   0.49727095 0.18405588 0.70895758\n",
      "  0.27247874]\n",
      " [0.75639284 0.47683664 0.40264348 0.42761466 0.27562489 0.22385876\n",
      "  0.29590054]\n",
      " [0.18000366 0.11049545 0.53871751 0.0751144  0.54031923 0.06718366\n",
      "  0.43162072]]\n",
      "[1. 1. 1. 1. 1. 1. 1.]\n"
     ]
    }
   ],
   "source": [
    "#Solution with ones d dim\n",
    "rng = np.random.default_rng()\n",
    "V = np.array([list(rng.dirichlet(np.ones(Weak.c), 1).squeeze()) for i in range(Weak.d)]).T\n",
    "print(V.shape)\n",
    "print(V)\n",
    "print(V.sum(0))"
   ]
  },
  {
   "cell_type": "code",
   "execution_count": 68,
   "metadata": {},
   "outputs": [
    {
     "name": "stdout",
     "output_type": "stream",
     "text": [
      "(7, 7)\n",
      "[[0.02040501 0.21735273 0.12118465 0.24438943 0.03733655 0.09539013\n",
      "  0.16250649]\n",
      " [0.16730682 0.09432863 0.10856293 0.06795872 0.37264874 0.14790287\n",
      "  0.13718985]\n",
      " [0.18635436 0.04494969 0.22379999 0.19126862 0.21178017 0.06171812\n",
      "  0.03847162]\n",
      " [0.26364783 0.2375035  0.02408394 0.1300971  0.13015182 0.049353\n",
      "  0.28661968]\n",
      " [0.03890103 0.05228233 0.16625365 0.0514707  0.13755637 0.11987205\n",
      "  0.07452812]\n",
      " [0.07824343 0.13676282 0.2915184  0.22639147 0.01273587 0.07969569\n",
      "  0.24698433]\n",
      " [0.24514152 0.2168203  0.06459645 0.08842395 0.09779048 0.44606814\n",
      "  0.05369991]]\n",
      "[1. 1. 1. 1. 1. 1. 1.]\n"
     ]
    }
   ],
   "source": [
    "rng = np.random.default_rng()\n",
    "V = np.array([list(rng.dirichlet(np.ones(Weak.d), 1).squeeze()) for i in range(Weak.d)]).T\n",
    "print(V.shape)\n",
    "print(V)\n",
    "print(V.sum(0))"
   ]
  },
  {
   "cell_type": "code",
   "execution_count": 59,
   "metadata": {},
   "outputs": [
    {
     "data": {
      "text/plain": [
       "array([1., 1., 1., 1., 1.])"
      ]
     },
     "execution_count": 59,
     "metadata": {},
     "output_type": "execute_result"
    }
   ],
   "source": [
    "np.ones(h)"
   ]
  },
  {
   "cell_type": "code",
   "execution_count": 60,
   "metadata": {},
   "outputs": [
    {
     "name": "stdout",
     "output_type": "stream",
     "text": [
      "(5, 7)\n",
      "[[0.12760681 0.17115709 0.35028456 0.27296201 0.13750216 0.05098009\n",
      "  0.10927753]\n",
      " [0.14287498 0.04452647 0.13298154 0.24711947 0.48189361 0.17063529\n",
      "  0.0299103 ]\n",
      " [0.04166078 0.33742248 0.20583285 0.05008354 0.06812096 0.11793808\n",
      "  0.63806911]\n",
      " [0.40952847 0.01910471 0.13115539 0.11649068 0.18953081 0.40513969\n",
      "  0.0463956 ]\n",
      " [0.27832896 0.42778925 0.17974566 0.31334429 0.12295247 0.25530685\n",
      "  0.17634747]]\n",
      "[1. 1. 1. 1. 1. 1. 1.]\n"
     ]
    }
   ],
   "source": [
    "h = int((Weak.d+Weak.c)/2)\n",
    "V = np.array([list(rng.dirichlet(np.ones(h), 1).squeeze()) for i in range(Weak.d)]).T\n",
    "print(V.shape)\n",
    "print(V)\n",
    "print(V.sum(0))"
   ]
  },
  {
   "cell_type": "code",
   "execution_count": 49,
   "metadata": {},
   "outputs": [
    {
     "name": "stdout",
     "output_type": "stream",
     "text": [
      "(10, 1023)\n",
      "10\n",
      "[3.53974430e-09 2.94175909e-03 1.49892451e-03 ... 0.00000000e+00\n",
      " 0.00000000e+00 0.00000000e+00]\n"
     ]
    }
   ],
   "source": [
    "print(V.shape)\n",
    "print(np.linalg.matrix_rank(V))\n",
    "print(np.sum(V,0))"
   ]
  },
  {
   "cell_type": "code",
   "execution_count": null,
   "metadata": {},
   "outputs": [
    {
     "ename": "",
     "evalue": "",
     "output_type": "error",
     "traceback": [
      "\u001b[1;31mRunning cells with 'Python 3.12.2' requires the ipykernel package.\n",
      "\u001b[1;31mRun the following command to install 'ipykernel' into the Python environment. \n",
      "\u001b[1;31mCommand: '\"c:/Program Files/Python312/python.exe\" -m pip install ipykernel -U --user --force-reinstall'"
     ]
    }
   ],
   "source": [
    "A = V_ini@Weak.M\n",
    "A_new = V_ini/(A@one)"
   ]
  },
  {
   "cell_type": "code",
   "execution_count": null,
   "metadata": {},
   "outputs": [
    {
     "ename": "",
     "evalue": "",
     "output_type": "error",
     "traceback": [
      "\u001b[1;31mRunning cells with 'Python 3.12.2' requires the ipykernel package.\n",
      "\u001b[1;31mRun the following command to install 'ipykernel' into the Python environment. \n",
      "\u001b[1;31mCommand: '\"c:/Program Files/Python312/python.exe\" -m pip install ipykernel -U --user --force-reinstall'"
     ]
    }
   ],
   "source": [
    "A_new@Weak.M@one"
   ]
  },
  {
   "cell_type": "code",
   "execution_count": null,
   "metadata": {},
   "outputs": [
    {
     "ename": "",
     "evalue": "",
     "output_type": "error",
     "traceback": [
      "\u001b[1;31mRunning cells with 'Python 3.12.2' requires the ipykernel package.\n",
      "\u001b[1;31mRun the following command to install 'ipykernel' into the Python environment. \n",
      "\u001b[1;31mCommand: '\"c:/Program Files/Python312/python.exe\" -m pip install ipykernel -U --user --force-reinstall'"
     ]
    }
   ],
   "source": [
    "A_new"
   ]
  },
  {
   "cell_type": "code",
   "execution_count": null,
   "metadata": {},
   "outputs": [
    {
     "ename": "",
     "evalue": "",
     "output_type": "error",
     "traceback": [
      "\u001b[1;31mRunning cells with 'Python 3.12.2' requires the ipykernel package.\n",
      "\u001b[1;31mRun the following command to install 'ipykernel' into the Python environment. \n",
      "\u001b[1;31mCommand: '\"c:/Program Files/Python312/python.exe\" -m pip install ipykernel -U --user --force-reinstall'"
     ]
    }
   ],
   "source": [
    "np.min(A_new)"
   ]
  },
  {
   "cell_type": "code",
   "execution_count": null,
   "metadata": {},
   "outputs": [
    {
     "ename": "",
     "evalue": "",
     "output_type": "error",
     "traceback": [
      "\u001b[1;31mRunning cells with 'Python 3.12.2' requires the ipykernel package.\n",
      "\u001b[1;31mRun the following command to install 'ipykernel' into the Python environment. \n",
      "\u001b[1;31mCommand: '\"c:/Program Files/Python312/python.exe\" -m pip install ipykernel -U --user --force-reinstall'"
     ]
    }
   ],
   "source": []
  }
 ],
 "metadata": {
  "kernelspec": {
   "display_name": ".venv",
   "language": "python",
   "name": "python3"
  },
  "language_info": {
   "codemirror_mode": {
    "name": "ipython",
    "version": 3
   },
   "file_extension": ".py",
   "mimetype": "text/x-python",
   "name": "python",
   "nbconvert_exporter": "python",
   "pygments_lexer": "ipython3",
   "version": "3.12.2"
  }
 },
 "nbformat": 4,
 "nbformat_minor": 2
}
