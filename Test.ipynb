{
 "cells": [
  {
   "cell_type": "code",
   "execution_count": 1,
   "metadata": {},
   "outputs": [],
   "source": [
    "import torch\n",
    "import torch.nn as nn\n",
    "import numpy as np\n",
    "\n",
    "import datasets.datasets as dtset\n",
    "import utils.losses as losses\n",
    "\n",
    "from utils.weakener import Weakener\n",
    "from models.model import MLP\n",
    "\n",
    "from utils.trainig_testing import train_and_evaluate"
   ]
  },
  {
   "cell_type": "code",
   "execution_count": 2,
   "metadata": {},
   "outputs": [],
   "source": [
    "import pickle\n",
    "f = open(\"Experimental_results/Datasets.pkl\",\"rb\")\n",
    "Data,Weak = pickle.load(f)\n",
    "f.close()\n"
   ]
  },
  {
   "cell_type": "code",
   "execution_count": 3,
   "metadata": {},
   "outputs": [
    {
     "ename": "ValueError",
     "evalue": "Cannot broadcast dimensions  (1020,) (1023,)",
     "output_type": "error",
     "traceback": [
      "\u001b[1;31m---------------------------------------------------------------------------\u001b[0m",
      "\u001b[1;31mValueError\u001b[0m                                Traceback (most recent call last)",
      "Cell \u001b[1;32mIn[3], line 1\u001b[0m\n\u001b[1;32m----> 1\u001b[0m \u001b[43mWeak\u001b[49m\u001b[38;5;241;43m.\u001b[39;49m\u001b[43mvirtual_labels\u001b[49m\u001b[43m(\u001b[49m\u001b[43mp\u001b[49m\u001b[38;5;241;43m=\u001b[39;49m\u001b[38;5;28;43;01mNone\u001b[39;49;00m\u001b[43m,\u001b[49m\u001b[43m \u001b[49m\u001b[43moptimize\u001b[49m\u001b[43m \u001b[49m\u001b[38;5;241;43m=\u001b[39;49m\u001b[43m \u001b[49m\u001b[38;5;28;43;01mTrue\u001b[39;49;00m\u001b[43m,\u001b[49m\u001b[43m \u001b[49m\u001b[43mconvex\u001b[49m\u001b[43m \u001b[49m\u001b[38;5;241;43m=\u001b[39;49m\u001b[43m \u001b[49m\u001b[38;5;28;43;01mFalse\u001b[39;49;00m\u001b[43m)\u001b[49m \u001b[38;5;66;03m#This is to create Virtual Labels\u001b[39;00m\n\u001b[0;32m      2\u001b[0m Data\u001b[38;5;241m.\u001b[39minclude_weak(Weak\u001b[38;5;241m.\u001b[39mz)\n\u001b[0;32m      3\u001b[0m Data\u001b[38;5;241m.\u001b[39minclude_virtual(Weak\u001b[38;5;241m.\u001b[39mv)\n",
      "File \u001b[1;32mc:\\Users\\danibacaicoa\\Desktop\\VS projects\\Learning_from_weak_labels\\utils\\weakener.py:233\u001b[0m, in \u001b[0;36mWeakener.virtual_labels\u001b[1;34m(self, y, p, optimize, convex)\u001b[0m\n\u001b[0;32m    231\u001b[0m     _,_ \u001b[38;5;241m=\u001b[39m \u001b[38;5;28mself\u001b[39m\u001b[38;5;241m.\u001b[39mgenerate_weak(y)\n\u001b[0;32m    232\u001b[0m \u001b[38;5;28;01mif\u001b[39;00m \u001b[38;5;28mself\u001b[39m\u001b[38;5;241m.\u001b[39mY \u001b[38;5;129;01mis\u001b[39;00m \u001b[38;5;28;01mNone\u001b[39;00m:\n\u001b[1;32m--> 233\u001b[0m     \u001b[38;5;28;43mself\u001b[39;49m\u001b[38;5;241;43m.\u001b[39;49m\u001b[43mvirtual_matrix\u001b[49m\u001b[43m(\u001b[49m\u001b[43mp\u001b[49m\u001b[43m,\u001b[49m\u001b[43m \u001b[49m\u001b[43moptimize\u001b[49m\u001b[43m,\u001b[49m\u001b[43m \u001b[49m\u001b[43mconvex\u001b[49m\u001b[43m)\u001b[49m\n\u001b[0;32m    234\u001b[0m \u001b[38;5;28mself\u001b[39m\u001b[38;5;241m.\u001b[39mv \u001b[38;5;241m=\u001b[39m \u001b[38;5;28mself\u001b[39m\u001b[38;5;241m.\u001b[39mY\u001b[38;5;241m.\u001b[39mT[\u001b[38;5;28mself\u001b[39m\u001b[38;5;241m.\u001b[39mz]\n\u001b[0;32m    235\u001b[0m \u001b[38;5;28;01mreturn\u001b[39;00m\n",
      "File \u001b[1;32mc:\\Users\\danibacaicoa\\Desktop\\VS projects\\Learning_from_weak_labels\\utils\\weakener.py:184\u001b[0m, in \u001b[0;36mWeakener.virtual_matrix\u001b[1;34m(self, p, optimize, convex)\u001b[0m\n\u001b[0;32m    182\u001b[0m \u001b[38;5;28;01mif\u001b[39;00m p \u001b[38;5;241m==\u001b[39m \u001b[38;5;28;01mNone\u001b[39;00m:\n\u001b[0;32m    183\u001b[0m     \u001b[38;5;28;01mif\u001b[39;00m optimize:\n\u001b[1;32m--> 184\u001b[0m         p \u001b[38;5;241m=\u001b[39m \u001b[38;5;28;43mself\u001b[39;49m\u001b[38;5;241;43m.\u001b[39;49m\u001b[43mgenerate_wl_priors\u001b[49m\u001b[43m(\u001b[49m\u001b[38;5;28;43mself\u001b[39;49m\u001b[38;5;241;43m.\u001b[39;49m\u001b[43mz\u001b[49m\u001b[43m)\u001b[49m\n\u001b[0;32m    185\u001b[0m     \u001b[38;5;28;01melse\u001b[39;00m:\n\u001b[0;32m    186\u001b[0m         p \u001b[38;5;241m=\u001b[39m np\u001b[38;5;241m.\u001b[39mones(d)\u001b[38;5;241m/\u001b[39md\n",
      "File \u001b[1;32mc:\\Users\\danibacaicoa\\Desktop\\VS projects\\Learning_from_weak_labels\\utils\\weakener.py:247\u001b[0m, in \u001b[0;36mWeakener.generate_wl_priors\u001b[1;34m(self, loss)\u001b[0m\n\u001b[0;32m    245\u001b[0m \u001b[38;5;28;01melse\u001b[39;00m:\n\u001b[0;32m    246\u001b[0m     p_est \u001b[38;5;241m=\u001b[39m p_est \u001b[38;5;241m/\u001b[39m np\u001b[38;5;241m.\u001b[39msum(p_est)\n\u001b[1;32m--> 247\u001b[0m     lossf \u001b[38;5;241m=\u001b[39m cvxpy\u001b[38;5;241m.\u001b[39msum_squares(\u001b[43mp_est\u001b[49m\u001b[43m \u001b[49m\u001b[38;5;241;43m-\u001b[39;49m\u001b[43m \u001b[49m\u001b[38;5;28;43mself\u001b[39;49m\u001b[38;5;241;43m.\u001b[39;49m\u001b[43mM\u001b[49m\u001b[43m \u001b[49m\u001b[38;5;241;43m@\u001b[39;49m\u001b[43m \u001b[49m\u001b[43mv_eta\u001b[49m)\n\u001b[0;32m    249\u001b[0m problem \u001b[38;5;241m=\u001b[39m cvxpy\u001b[38;5;241m.\u001b[39mProblem(cvxpy\u001b[38;5;241m.\u001b[39mMinimize(lossf),\n\u001b[0;32m    250\u001b[0m                         [v_eta \u001b[38;5;241m>\u001b[39m\u001b[38;5;241m=\u001b[39m \u001b[38;5;241m0\u001b[39m, np\u001b[38;5;241m.\u001b[39mones(\u001b[38;5;28mself\u001b[39m\u001b[38;5;241m.\u001b[39mc) \u001b[38;5;241m@\u001b[39m v_eta \u001b[38;5;241m==\u001b[39m \u001b[38;5;241m1\u001b[39m])\n\u001b[0;32m    251\u001b[0m problem\u001b[38;5;241m.\u001b[39msolve()\n",
      "File \u001b[1;32m~\\AppData\\Roaming\\Python\\Python311\\site-packages\\cvxpy\\expressions\\expression.py:748\u001b[0m, in \u001b[0;36mExpression.__array_ufunc__\u001b[1;34m(self, ufunc, method, *args, **kwargs)\u001b[0m\n\u001b[0;32m    744\u001b[0m     ufunc_handler \u001b[38;5;241m=\u001b[39m __BINARY_EXPRESSION_UFUNCS__[ufunc]\n\u001b[0;32m    745\u001b[0m     \u001b[38;5;28;01mif\u001b[39;00m kwargs \u001b[38;5;241m==\u001b[39m {} \u001b[38;5;129;01mand\u001b[39;00m \\\n\u001b[0;32m    746\u001b[0m             \u001b[38;5;28mlen\u001b[39m(args) \u001b[38;5;241m==\u001b[39m \u001b[38;5;241m2\u001b[39m \u001b[38;5;129;01mand\u001b[39;00m \\\n\u001b[0;32m    747\u001b[0m             args[\u001b[38;5;241m1\u001b[39m] \u001b[38;5;129;01mis\u001b[39;00m \u001b[38;5;28mself\u001b[39m:\n\u001b[1;32m--> 748\u001b[0m         \u001b[38;5;28;01mreturn\u001b[39;00m \u001b[43mufunc_handler\u001b[49m\u001b[43m(\u001b[49m\u001b[38;5;28;43mself\u001b[39;49m\u001b[43m,\u001b[49m\u001b[43m \u001b[49m\u001b[43margs\u001b[49m\u001b[43m[\u001b[49m\u001b[38;5;241;43m0\u001b[39;49m\u001b[43m]\u001b[49m\u001b[43m)\u001b[49m\n\u001b[0;32m    749\u001b[0m \u001b[38;5;28;01mexcept\u001b[39;00m \u001b[38;5;167;01mKeyError\u001b[39;00m:\n\u001b[0;32m    750\u001b[0m     \u001b[38;5;28;01mpass\u001b[39;00m\n",
      "File \u001b[1;32m~\\AppData\\Roaming\\Python\\Python311\\site-packages\\cvxpy\\expressions\\expression.py:78\u001b[0m, in \u001b[0;36m<lambda>\u001b[1;34m(self, a)\u001b[0m\n\u001b[0;32m     65\u001b[0m __NUMPY_UFUNC_ERROR__ \u001b[38;5;241m=\u001b[39m \u001b[38;5;124m\"\"\"\u001b[39m\n\u001b[0;32m     66\u001b[0m \u001b[38;5;124mYou\u001b[39m\u001b[38;5;124m'\u001b[39m\u001b[38;5;124mre calling a NumPy function on a CVXPY expression. This is prone to causing\u001b[39m\n\u001b[0;32m     67\u001b[0m \u001b[38;5;124merrors or code that doesn\u001b[39m\u001b[38;5;124m'\u001b[39m\u001b[38;5;124mt behave as expected. Consider using one of the\u001b[39m\n\u001b[0;32m     68\u001b[0m \u001b[38;5;124mfunctions documented here: https://www.cvxpy.org/tutorial/functions/index.html\u001b[39m\n\u001b[0;32m     69\u001b[0m \u001b[38;5;124m\"\"\"\u001b[39m\n\u001b[0;32m     71\u001b[0m __ABS_ERROR__ \u001b[38;5;241m=\u001b[39m \u001b[38;5;124m\"\"\"\u001b[39m\n\u001b[0;32m     72\u001b[0m \u001b[38;5;124mYou\u001b[39m\u001b[38;5;124m'\u001b[39m\u001b[38;5;124mre calling the built-in abs function on a CVXPY expression. This is not\u001b[39m\n\u001b[0;32m     73\u001b[0m \u001b[38;5;124msupported. Consider using the abs function provided by CVXPY.\u001b[39m\n\u001b[0;32m     74\u001b[0m \u001b[38;5;124m\"\"\"\u001b[39m\n\u001b[0;32m     76\u001b[0m __BINARY_EXPRESSION_UFUNCS__ \u001b[38;5;241m=\u001b[39m {\n\u001b[0;32m     77\u001b[0m         np\u001b[38;5;241m.\u001b[39madd: \u001b[38;5;28;01mlambda\u001b[39;00m \u001b[38;5;28mself\u001b[39m, a: \u001b[38;5;28mself\u001b[39m\u001b[38;5;241m.\u001b[39m\u001b[38;5;21m__radd__\u001b[39m(a),\n\u001b[1;32m---> 78\u001b[0m         np\u001b[38;5;241m.\u001b[39msubtract: \u001b[38;5;28;01mlambda\u001b[39;00m \u001b[38;5;28mself\u001b[39m, a: \u001b[38;5;28;43mself\u001b[39;49m\u001b[38;5;241;43m.\u001b[39;49m\u001b[38;5;21;43m__rsub__\u001b[39;49m\u001b[43m(\u001b[49m\u001b[43ma\u001b[49m\u001b[43m)\u001b[49m,\n\u001b[0;32m     79\u001b[0m         np\u001b[38;5;241m.\u001b[39mmultiply: \u001b[38;5;28;01mlambda\u001b[39;00m \u001b[38;5;28mself\u001b[39m, a: \u001b[38;5;28mself\u001b[39m\u001b[38;5;241m.\u001b[39m\u001b[38;5;21m__rmul__\u001b[39m(a),\n\u001b[0;32m     80\u001b[0m         np\u001b[38;5;241m.\u001b[39mdivide: \u001b[38;5;28;01mlambda\u001b[39;00m \u001b[38;5;28mself\u001b[39m, a: \u001b[38;5;28mself\u001b[39m\u001b[38;5;241m.\u001b[39m__rdiv__(a),\n\u001b[0;32m     81\u001b[0m         np\u001b[38;5;241m.\u001b[39mmatmul: \u001b[38;5;28;01mlambda\u001b[39;00m \u001b[38;5;28mself\u001b[39m, a: \u001b[38;5;28mself\u001b[39m\u001b[38;5;241m.\u001b[39m\u001b[38;5;21m__rmatmul__\u001b[39m(a),\n\u001b[0;32m     82\u001b[0m         np\u001b[38;5;241m.\u001b[39mpower: \u001b[38;5;28;01mlambda\u001b[39;00m \u001b[38;5;28mself\u001b[39m, a: \u001b[38;5;28mself\u001b[39m\u001b[38;5;241m.\u001b[39m\u001b[38;5;21m__rpow__\u001b[39m(a),\n\u001b[0;32m     83\u001b[0m         np\u001b[38;5;241m.\u001b[39mleft_shift: \u001b[38;5;28;01mlambda\u001b[39;00m \u001b[38;5;28mself\u001b[39m, a: \u001b[38;5;28mself\u001b[39m\u001b[38;5;241m.\u001b[39m\u001b[38;5;21m__rlshift__\u001b[39m(a),\n\u001b[0;32m     84\u001b[0m         np\u001b[38;5;241m.\u001b[39mright_shift: \u001b[38;5;28;01mlambda\u001b[39;00m \u001b[38;5;28mself\u001b[39m, a: \u001b[38;5;28mself\u001b[39m\u001b[38;5;241m.\u001b[39m\u001b[38;5;21m__rrshift__\u001b[39m(a),\n\u001b[0;32m     85\u001b[0m         np\u001b[38;5;241m.\u001b[39mequal: \u001b[38;5;28;01mlambda\u001b[39;00m \u001b[38;5;28mself\u001b[39m, a: \u001b[38;5;28mself\u001b[39m\u001b[38;5;241m.\u001b[39m\u001b[38;5;21m__eq__\u001b[39m(a),\n\u001b[0;32m     86\u001b[0m         \u001b[38;5;66;03m# <= and >= are backwards because this is only called for code of the\u001b[39;00m\n\u001b[0;32m     87\u001b[0m         \u001b[38;5;66;03m# form ndarray <= Expression\u001b[39;00m\n\u001b[0;32m     88\u001b[0m         np\u001b[38;5;241m.\u001b[39mless_equal: \u001b[38;5;28;01mlambda\u001b[39;00m \u001b[38;5;28mself\u001b[39m, a: \u001b[38;5;28mself\u001b[39m\u001b[38;5;241m.\u001b[39m\u001b[38;5;21m__ge__\u001b[39m(a),\n\u001b[0;32m     89\u001b[0m         np\u001b[38;5;241m.\u001b[39mgreater_equal: \u001b[38;5;28;01mlambda\u001b[39;00m \u001b[38;5;28mself\u001b[39m, a: \u001b[38;5;28mself\u001b[39m\u001b[38;5;241m.\u001b[39m\u001b[38;5;21m__le__\u001b[39m(a),\n\u001b[0;32m     90\u001b[0m         np\u001b[38;5;241m.\u001b[39mless: \u001b[38;5;28;01mlambda\u001b[39;00m \u001b[38;5;28mself\u001b[39m, a: \u001b[38;5;28mself\u001b[39m\u001b[38;5;241m.\u001b[39m\u001b[38;5;21m__gt__\u001b[39m(a),\n\u001b[0;32m     91\u001b[0m         np\u001b[38;5;241m.\u001b[39mgreater: \u001b[38;5;28;01mlambda\u001b[39;00m \u001b[38;5;28mself\u001b[39m, a: \u001b[38;5;28mself\u001b[39m\u001b[38;5;241m.\u001b[39m\u001b[38;5;21m__lt__\u001b[39m(a),\n\u001b[0;32m     92\u001b[0m }\n\u001b[0;32m     95\u001b[0m ExpressionLike \u001b[38;5;241m=\u001b[39m \u001b[38;5;124m\"\u001b[39m\u001b[38;5;124mExpression | np.typing.ArrayLike\u001b[39m\u001b[38;5;124m\"\u001b[39m\n\u001b[0;32m     98\u001b[0m \u001b[38;5;28;01mclass\u001b[39;00m \u001b[38;5;21;01mExpression\u001b[39;00m(u\u001b[38;5;241m.\u001b[39mCanonical):\n",
      "File \u001b[1;32m~\\AppData\\Roaming\\Python\\Python311\\site-packages\\cvxpy\\expressions\\expression.py:50\u001b[0m, in \u001b[0;36m_cast_other.<locals>.cast_op\u001b[1;34m(self, other)\u001b[0m\n\u001b[0;32m     47\u001b[0m \u001b[38;5;250m\u001b[39m\u001b[38;5;124;03m\"\"\"A wrapped binary operator that can handle non-Expression arguments.\u001b[39;00m\n\u001b[0;32m     48\u001b[0m \u001b[38;5;124;03m\"\"\"\u001b[39;00m\n\u001b[0;32m     49\u001b[0m other \u001b[38;5;241m=\u001b[39m \u001b[38;5;28mself\u001b[39m\u001b[38;5;241m.\u001b[39mcast_to_const(other)\n\u001b[1;32m---> 50\u001b[0m \u001b[38;5;28;01mreturn\u001b[39;00m \u001b[43mbinary_op\u001b[49m\u001b[43m(\u001b[49m\u001b[38;5;28;43mself\u001b[39;49m\u001b[43m,\u001b[49m\u001b[43m \u001b[49m\u001b[43mother\u001b[49m\u001b[43m)\u001b[49m\n",
      "File \u001b[1;32m~\\AppData\\Roaming\\Python\\Python311\\site-packages\\cvxpy\\expressions\\expression.py:590\u001b[0m, in \u001b[0;36mExpression.__rsub__\u001b[1;34m(self, other)\u001b[0m\n\u001b[0;32m    586\u001b[0m \u001b[38;5;129m@_cast_other\u001b[39m\n\u001b[0;32m    587\u001b[0m \u001b[38;5;28;01mdef\u001b[39;00m \u001b[38;5;21m__rsub__\u001b[39m(\u001b[38;5;28mself\u001b[39m, other: ExpressionLike) \u001b[38;5;241m-\u001b[39m\u001b[38;5;241m>\u001b[39m \u001b[38;5;124m\"\u001b[39m\u001b[38;5;124mExpression\u001b[39m\u001b[38;5;124m\"\u001b[39m:\n\u001b[0;32m    588\u001b[0m \u001b[38;5;250m    \u001b[39m\u001b[38;5;124;03m\"\"\"Expression : The difference of two expressions.\u001b[39;00m\n\u001b[0;32m    589\u001b[0m \u001b[38;5;124;03m    \"\"\"\u001b[39;00m\n\u001b[1;32m--> 590\u001b[0m     \u001b[38;5;28;01mreturn\u001b[39;00m \u001b[43mother\u001b[49m\u001b[43m \u001b[49m\u001b[38;5;241;43m-\u001b[39;49m\u001b[43m \u001b[49m\u001b[38;5;28;43mself\u001b[39;49m\n",
      "File \u001b[1;32m~\\AppData\\Roaming\\Python\\Python311\\site-packages\\cvxpy\\expressions\\expression.py:50\u001b[0m, in \u001b[0;36m_cast_other.<locals>.cast_op\u001b[1;34m(self, other)\u001b[0m\n\u001b[0;32m     47\u001b[0m \u001b[38;5;250m\u001b[39m\u001b[38;5;124;03m\"\"\"A wrapped binary operator that can handle non-Expression arguments.\u001b[39;00m\n\u001b[0;32m     48\u001b[0m \u001b[38;5;124;03m\"\"\"\u001b[39;00m\n\u001b[0;32m     49\u001b[0m other \u001b[38;5;241m=\u001b[39m \u001b[38;5;28mself\u001b[39m\u001b[38;5;241m.\u001b[39mcast_to_const(other)\n\u001b[1;32m---> 50\u001b[0m \u001b[38;5;28;01mreturn\u001b[39;00m \u001b[43mbinary_op\u001b[49m\u001b[43m(\u001b[49m\u001b[38;5;28;43mself\u001b[39;49m\u001b[43m,\u001b[49m\u001b[43m \u001b[49m\u001b[43mother\u001b[49m\u001b[43m)\u001b[49m\n",
      "File \u001b[1;32m~\\AppData\\Roaming\\Python\\Python311\\site-packages\\cvxpy\\expressions\\expression.py:584\u001b[0m, in \u001b[0;36mExpression.__sub__\u001b[1;34m(self, other)\u001b[0m\n\u001b[0;32m    580\u001b[0m \u001b[38;5;129m@_cast_other\u001b[39m\n\u001b[0;32m    581\u001b[0m \u001b[38;5;28;01mdef\u001b[39;00m \u001b[38;5;21m__sub__\u001b[39m(\u001b[38;5;28mself\u001b[39m, other: ExpressionLike) \u001b[38;5;241m-\u001b[39m\u001b[38;5;241m>\u001b[39m \u001b[38;5;124m\"\u001b[39m\u001b[38;5;124mExpression\u001b[39m\u001b[38;5;124m\"\u001b[39m:\n\u001b[0;32m    582\u001b[0m \u001b[38;5;250m    \u001b[39m\u001b[38;5;124;03m\"\"\"Expression : The difference of two expressions.\u001b[39;00m\n\u001b[0;32m    583\u001b[0m \u001b[38;5;124;03m    \"\"\"\u001b[39;00m\n\u001b[1;32m--> 584\u001b[0m     \u001b[38;5;28;01mreturn\u001b[39;00m \u001b[38;5;28;43mself\u001b[39;49m\u001b[43m \u001b[49m\u001b[38;5;241;43m+\u001b[39;49m\u001b[43m \u001b[49m\u001b[38;5;241;43m-\u001b[39;49m\u001b[43mother\u001b[49m\n",
      "File \u001b[1;32m~\\AppData\\Roaming\\Python\\Python311\\site-packages\\cvxpy\\expressions\\expression.py:50\u001b[0m, in \u001b[0;36m_cast_other.<locals>.cast_op\u001b[1;34m(self, other)\u001b[0m\n\u001b[0;32m     47\u001b[0m \u001b[38;5;250m\u001b[39m\u001b[38;5;124;03m\"\"\"A wrapped binary operator that can handle non-Expression arguments.\u001b[39;00m\n\u001b[0;32m     48\u001b[0m \u001b[38;5;124;03m\"\"\"\u001b[39;00m\n\u001b[0;32m     49\u001b[0m other \u001b[38;5;241m=\u001b[39m \u001b[38;5;28mself\u001b[39m\u001b[38;5;241m.\u001b[39mcast_to_const(other)\n\u001b[1;32m---> 50\u001b[0m \u001b[38;5;28;01mreturn\u001b[39;00m \u001b[43mbinary_op\u001b[49m\u001b[43m(\u001b[49m\u001b[38;5;28;43mself\u001b[39;49m\u001b[43m,\u001b[49m\u001b[43m \u001b[49m\u001b[43mother\u001b[49m\u001b[43m)\u001b[49m\n",
      "File \u001b[1;32m~\\AppData\\Roaming\\Python\\Python311\\site-packages\\cvxpy\\expressions\\expression.py:570\u001b[0m, in \u001b[0;36mExpression.__add__\u001b[1;34m(self, other)\u001b[0m\n\u001b[0;32m    568\u001b[0m     \u001b[38;5;28;01mreturn\u001b[39;00m \u001b[38;5;28mself\u001b[39m\n\u001b[0;32m    569\u001b[0m \u001b[38;5;28mself\u001b[39m, other \u001b[38;5;241m=\u001b[39m \u001b[38;5;28mself\u001b[39m\u001b[38;5;241m.\u001b[39mbroadcast(\u001b[38;5;28mself\u001b[39m, other)\n\u001b[1;32m--> 570\u001b[0m \u001b[38;5;28;01mreturn\u001b[39;00m \u001b[43mcvxtypes\u001b[49m\u001b[38;5;241;43m.\u001b[39;49m\u001b[43madd_expr\u001b[49m\u001b[43m(\u001b[49m\u001b[43m)\u001b[49m\u001b[43m(\u001b[49m\u001b[43m[\u001b[49m\u001b[38;5;28;43mself\u001b[39;49m\u001b[43m,\u001b[49m\u001b[43m \u001b[49m\u001b[43mother\u001b[49m\u001b[43m]\u001b[49m\u001b[43m)\u001b[49m\n",
      "File \u001b[1;32m~\\AppData\\Roaming\\Python\\Python311\\site-packages\\cvxpy\\atoms\\affine\\add_expr.py:34\u001b[0m, in \u001b[0;36mAddExpression.__init__\u001b[1;34m(self, arg_groups)\u001b[0m\n\u001b[0;32m     31\u001b[0m \u001b[38;5;28;01mdef\u001b[39;00m \u001b[38;5;21m__init__\u001b[39m(\u001b[38;5;28mself\u001b[39m, arg_groups) \u001b[38;5;241m-\u001b[39m\u001b[38;5;241m>\u001b[39m \u001b[38;5;28;01mNone\u001b[39;00m:\n\u001b[0;32m     32\u001b[0m     \u001b[38;5;66;03m# For efficiency group args as sums.\u001b[39;00m\n\u001b[0;32m     33\u001b[0m     \u001b[38;5;28mself\u001b[39m\u001b[38;5;241m.\u001b[39m_arg_groups \u001b[38;5;241m=\u001b[39m arg_groups\n\u001b[1;32m---> 34\u001b[0m     \u001b[38;5;28;43msuper\u001b[39;49m\u001b[43m(\u001b[49m\u001b[43mAddExpression\u001b[49m\u001b[43m,\u001b[49m\u001b[43m \u001b[49m\u001b[38;5;28;43mself\u001b[39;49m\u001b[43m)\u001b[49m\u001b[38;5;241;43m.\u001b[39;49m\u001b[38;5;21;43m__init__\u001b[39;49m\u001b[43m(\u001b[49m\u001b[38;5;241;43m*\u001b[39;49m\u001b[43marg_groups\u001b[49m\u001b[43m)\u001b[49m\n\u001b[0;32m     35\u001b[0m     \u001b[38;5;28mself\u001b[39m\u001b[38;5;241m.\u001b[39margs \u001b[38;5;241m=\u001b[39m []\n\u001b[0;32m     36\u001b[0m     \u001b[38;5;28;01mfor\u001b[39;00m group \u001b[38;5;129;01min\u001b[39;00m arg_groups:\n",
      "File \u001b[1;32m~\\AppData\\Roaming\\Python\\Python311\\site-packages\\cvxpy\\atoms\\atom.py:51\u001b[0m, in \u001b[0;36mAtom.__init__\u001b[1;34m(self, *args)\u001b[0m\n\u001b[0;32m     49\u001b[0m \u001b[38;5;28mself\u001b[39m\u001b[38;5;241m.\u001b[39margs \u001b[38;5;241m=\u001b[39m [Atom\u001b[38;5;241m.\u001b[39mcast_to_const(arg) \u001b[38;5;28;01mfor\u001b[39;00m arg \u001b[38;5;129;01min\u001b[39;00m args]\n\u001b[0;32m     50\u001b[0m \u001b[38;5;28mself\u001b[39m\u001b[38;5;241m.\u001b[39mvalidate_arguments()\n\u001b[1;32m---> 51\u001b[0m \u001b[38;5;28mself\u001b[39m\u001b[38;5;241m.\u001b[39m_shape \u001b[38;5;241m=\u001b[39m \u001b[38;5;28;43mself\u001b[39;49m\u001b[38;5;241;43m.\u001b[39;49m\u001b[43mshape_from_args\u001b[49m\u001b[43m(\u001b[49m\u001b[43m)\u001b[49m\n\u001b[0;32m     52\u001b[0m \u001b[38;5;28;01mif\u001b[39;00m \u001b[38;5;28mlen\u001b[39m(\u001b[38;5;28mself\u001b[39m\u001b[38;5;241m.\u001b[39m_shape) \u001b[38;5;241m>\u001b[39m \u001b[38;5;241m2\u001b[39m:\n\u001b[0;32m     53\u001b[0m     \u001b[38;5;28;01mraise\u001b[39;00m \u001b[38;5;167;01mValueError\u001b[39;00m(\u001b[38;5;124m\"\u001b[39m\u001b[38;5;124mAtoms must be at most 2D.\u001b[39m\u001b[38;5;124m\"\u001b[39m)\n",
      "File \u001b[1;32m~\\AppData\\Roaming\\Python\\Python311\\site-packages\\cvxpy\\atoms\\affine\\add_expr.py:42\u001b[0m, in \u001b[0;36mAddExpression.shape_from_args\u001b[1;34m(self)\u001b[0m\n\u001b[0;32m     39\u001b[0m \u001b[38;5;28;01mdef\u001b[39;00m \u001b[38;5;21mshape_from_args\u001b[39m(\u001b[38;5;28mself\u001b[39m) \u001b[38;5;241m-\u001b[39m\u001b[38;5;241m>\u001b[39m Tuple[\u001b[38;5;28mint\u001b[39m, \u001b[38;5;241m.\u001b[39m\u001b[38;5;241m.\u001b[39m\u001b[38;5;241m.\u001b[39m]:\n\u001b[0;32m     40\u001b[0m \u001b[38;5;250m    \u001b[39m\u001b[38;5;124;03m\"\"\"Returns the (row, col) shape of the expression.\u001b[39;00m\n\u001b[0;32m     41\u001b[0m \u001b[38;5;124;03m    \"\"\"\u001b[39;00m\n\u001b[1;32m---> 42\u001b[0m     \u001b[38;5;28;01mreturn\u001b[39;00m \u001b[43mu\u001b[49m\u001b[38;5;241;43m.\u001b[39;49m\u001b[43mshape\u001b[49m\u001b[38;5;241;43m.\u001b[39;49m\u001b[43msum_shapes\u001b[49m\u001b[43m(\u001b[49m\u001b[43m[\u001b[49m\u001b[43marg\u001b[49m\u001b[38;5;241;43m.\u001b[39;49m\u001b[43mshape\u001b[49m\u001b[43m \u001b[49m\u001b[38;5;28;43;01mfor\u001b[39;49;00m\u001b[43m \u001b[49m\u001b[43marg\u001b[49m\u001b[43m \u001b[49m\u001b[38;5;129;43;01min\u001b[39;49;00m\u001b[43m \u001b[49m\u001b[38;5;28;43mself\u001b[39;49m\u001b[38;5;241;43m.\u001b[39;49m\u001b[43margs\u001b[49m\u001b[43m]\u001b[49m\u001b[43m)\u001b[49m\n",
      "File \u001b[1;32m~\\AppData\\Roaming\\Python\\Python311\\site-packages\\cvxpy\\utilities\\shape.py:50\u001b[0m, in \u001b[0;36msum_shapes\u001b[1;34m(shapes)\u001b[0m\n\u001b[0;32m     47\u001b[0m \u001b[38;5;28;01mfor\u001b[39;00m t \u001b[38;5;129;01min\u001b[39;00m shapes[\u001b[38;5;241m1\u001b[39m:]:\n\u001b[0;32m     48\u001b[0m     \u001b[38;5;66;03m# Only allow broadcasting for 0D arrays or summation of scalars.\u001b[39;00m\n\u001b[0;32m     49\u001b[0m     \u001b[38;5;28;01mif\u001b[39;00m shape \u001b[38;5;241m!=\u001b[39m t \u001b[38;5;129;01mand\u001b[39;00m \u001b[38;5;28mlen\u001b[39m(squeezed(shape)) \u001b[38;5;241m!=\u001b[39m \u001b[38;5;241m0\u001b[39m \u001b[38;5;129;01mand\u001b[39;00m \u001b[38;5;28mlen\u001b[39m(squeezed(t)) \u001b[38;5;241m!=\u001b[39m \u001b[38;5;241m0\u001b[39m:\n\u001b[1;32m---> 50\u001b[0m         \u001b[38;5;28;01mraise\u001b[39;00m \u001b[38;5;167;01mValueError\u001b[39;00m(\n\u001b[0;32m     51\u001b[0m             \u001b[38;5;124m\"\u001b[39m\u001b[38;5;124mCannot broadcast dimensions \u001b[39m\u001b[38;5;124m\"\u001b[39m \u001b[38;5;241m+\u001b[39m\n\u001b[0;32m     52\u001b[0m             \u001b[38;5;28mlen\u001b[39m(shapes)\u001b[38;5;241m*\u001b[39m\u001b[38;5;124m\"\u001b[39m\u001b[38;5;124m \u001b[39m\u001b[38;5;132;01m%s\u001b[39;00m\u001b[38;5;124m\"\u001b[39m \u001b[38;5;241m%\u001b[39m \u001b[38;5;28mtuple\u001b[39m(shapes))\n\u001b[0;32m     54\u001b[0m     longer \u001b[38;5;241m=\u001b[39m shape \u001b[38;5;28;01mif\u001b[39;00m \u001b[38;5;28mlen\u001b[39m(shape) \u001b[38;5;241m>\u001b[39m\u001b[38;5;241m=\u001b[39m \u001b[38;5;28mlen\u001b[39m(t) \u001b[38;5;28;01melse\u001b[39;00m t\n\u001b[0;32m     55\u001b[0m     shorter \u001b[38;5;241m=\u001b[39m shape \u001b[38;5;28;01mif\u001b[39;00m \u001b[38;5;28mlen\u001b[39m(shape) \u001b[38;5;241m<\u001b[39m \u001b[38;5;28mlen\u001b[39m(t) \u001b[38;5;28;01melse\u001b[39;00m t\n",
      "\u001b[1;31mValueError\u001b[0m: Cannot broadcast dimensions  (1020,) (1023,)"
     ]
    }
   ],
   "source": [
    "Weak.virtual_labels(p=None, optimize = True, convex = False) #This is to create Virtual Labels\n",
    "Data.include_weak(Weak.z)\n",
    "Data.include_virtual(Weak.v)\n",
    "trainloader,testloader = Data.get_dataloader(weak_labels='virtual')"
   ]
  },
  {
   "cell_type": "code",
   "execution_count": 15,
   "metadata": {},
   "outputs": [
    {
     "name": "stdout",
     "output_type": "stream",
     "text": [
      "1023\n"
     ]
    }
   ],
   "source": [
    "torch.bincount(Weak.z).shape\n",
    "print(Weak.Z.shape[0])\n",
    "#weights = torch.linspace(0, 1, steps=5)"
   ]
  },
  {
   "cell_type": "code",
   "execution_count": 17,
   "metadata": {},
   "outputs": [
    {
     "data": {
      "text/plain": [
       "torch.Size([1023])"
      ]
     },
     "execution_count": 17,
     "metadata": {},
     "output_type": "execute_result"
    }
   ],
   "source": [
    "Weak.z.bincount(minlength=Weak.Z.shape[0])"
   ]
  },
  {
   "cell_type": "code",
   "execution_count": 17,
   "metadata": {},
   "outputs": [
    {
     "name": "stdout",
     "output_type": "stream",
     "text": [
      "Epoch 1/5: Train Loss: 1.9661, Train Acc: 0.7518, Test Acc: 0.8881\n",
      "Epoch 2/5: Train Loss: 1.8595, Train Acc: 0.7876, Test Acc: 0.9076\n",
      "Epoch 3/5: Train Loss: 1.7820, Train Acc: 0.8196, Test Acc: 0.9134\n",
      "Epoch 4/5: Train Loss: 1.7495, Train Acc: 0.8291, Test Acc: 0.9060\n",
      "Epoch 5/5: Train Loss: 1.7264, Train Acc: 0.8402, Test Acc: 0.8968\n",
      "Epoch 1/5: Train Loss: 1.9756, Train Acc: 0.7501, Test Acc: 0.8791\n",
      "Epoch 2/5: Train Loss: 1.8427, Train Acc: 0.7903, Test Acc: 0.9171\n",
      "Epoch 3/5: Train Loss: 1.7857, Train Acc: 0.8123, Test Acc: 0.9261\n",
      "Epoch 4/5: Train Loss: 1.7543, Train Acc: 0.8292, Test Acc: 0.9256\n",
      "Epoch 5/5: Train Loss: 1.7245, Train Acc: 0.8392, Test Acc: 0.9367\n"
     ]
    }
   ],
   "source": [
    "loss = losses.LBLoss()\n",
    "overall_results = {}\n",
    "overall_models = {}\n",
    "epochs = 5\n",
    "for i in range(2):\n",
    "    mlp = MLP(Data.num_features,[Data.num_features],Data.num_classes, dropout_p=0.5, bn=True, activation =  'gelu')\n",
    "    optim = torch.optim.Adam(mlp.parameters(),lr=1e-2)\n",
    "    mlp, results = train_and_evaluate(mlp,trainloader,testloader,optimizer=optim,loss_fn=loss,num_epochs=epochs,sound=1)\n",
    "    overall_results[i] = results\n",
    "    overall_models[i] = mlp  "
   ]
  },
  {
   "cell_type": "code",
   "execution_count": null,
   "metadata": {},
   "outputs": [],
   "source": []
  }
 ],
 "metadata": {
  "kernelspec": {
   "display_name": ".venv",
   "language": "python",
   "name": "python3"
  },
  "language_info": {
   "codemirror_mode": {
    "name": "ipython",
    "version": 3
   },
   "file_extension": ".py",
   "mimetype": "text/x-python",
   "name": "python",
   "nbconvert_exporter": "python",
   "pygments_lexer": "ipython3",
   "version": "3.11.7"
  }
 },
 "nbformat": 4,
 "nbformat_minor": 2
}
