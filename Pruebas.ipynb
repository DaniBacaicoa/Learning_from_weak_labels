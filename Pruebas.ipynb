{
 "cells": [
  {
   "cell_type": "code",
   "execution_count": 35,
   "outputs": [],
   "source": [
    "import torch\n",
    "import torch.nn as nn\n",
    "import numpy as np\n",
    "from datasets.openml_datasets import OpenML_Dataset\n",
    "\n",
    "from utils.weakener import Weakener\n",
    "from models.model import MLP\n",
    "from utils.losses import PartialLoss,LBLoss,EMLoss,OSLCELoss,OSLBrierLoss\n",
    "from utils.trainig_testing import train_model,evaluate_model,train_and_evaluate\n"
   ],
   "metadata": {
    "collapsed": false
   }
  },
  {
   "cell_type": "code",
   "execution_count": 36,
   "outputs": [],
   "source": [
    "Data = OpenML_Dataset('iris')\n",
    "train_x, train_y, test_x, test_y = Data.get_data()"
   ],
   "metadata": {
    "collapsed": false
   }
  },
  {
   "cell_type": "code",
   "execution_count": 37,
   "outputs": [],
   "source": [
    "Weak = Weakener(Data.num_classes)\n",
    "Weak.generate_M(model_class='pll')"
   ],
   "metadata": {
    "collapsed": false
   }
  },
  {
   "cell_type": "code",
   "execution_count": 38,
   "outputs": [
    {
     "data": {
      "text/plain": "(array([[0.   , 0.375, 0.375],\n        [0.375, 0.   , 0.375],\n        [0.375, 0.375, 0.   ],\n        [0.25 , 0.25 , 0.25 ]]),\n array([[0, 1, 1],\n        [1, 0, 1],\n        [1, 1, 0],\n        [1, 1, 1]]))"
     },
     "execution_count": 38,
     "metadata": {},
     "output_type": "execute_result"
    }
   ],
   "source": [
    "Weak.M,Weak.Z"
   ],
   "metadata": {
    "collapsed": false
   }
  },
  {
   "cell_type": "code",
   "execution_count": 39,
   "outputs": [],
   "source": [
    "z,w = Weak.generate_weak(train_y)"
   ],
   "metadata": {
    "collapsed": false
   }
  },
  {
   "cell_type": "code",
   "execution_count": 40,
   "outputs": [
    {
     "data": {
      "text/plain": "(tensor([[0., 0., 1.],\n         [0., 1., 0.],\n         [0., 0., 1.],\n         [0., 1., 0.],\n         [1., 0., 0.]]),\n tensor([0, 0, 3, 0, 3], dtype=torch.int32),\n tensor([[0., 1., 1.],\n         [0., 1., 1.],\n         [1., 1., 1.],\n         [0., 1., 1.],\n         [1., 1., 1.]], dtype=torch.float64))"
     },
     "execution_count": 40,
     "metadata": {},
     "output_type": "execute_result"
    }
   ],
   "source": [
    "train_y[:5,:],z[:5],w[:5,:]"
   ],
   "metadata": {
    "collapsed": false
   }
  },
  {
   "cell_type": "code",
   "execution_count": 41,
   "outputs": [
    {
     "data": {
      "text/plain": "array([0.24074055, 0.24999949, 0.25925996, 0.25      ])"
     },
     "execution_count": 41,
     "metadata": {},
     "output_type": "execute_result"
    }
   ],
   "source": [
    "Weak.generate_wl_priors()"
   ],
   "metadata": {
    "collapsed": false
   }
  },
  {
   "cell_type": "code",
   "execution_count": 42,
   "outputs": [],
   "source": [
    "mlp = MLP(Data.num_features,[],Data.num_classes)"
   ],
   "metadata": {
    "collapsed": false
   }
  },
  {
   "cell_type": "code",
   "execution_count": 43,
   "outputs": [
    {
     "data": {
      "text/plain": "MLP(\n  (layers): ModuleList(\n    (0): Linear(in_features=4, out_features=3, bias=True)\n  )\n  (batch_norms): ModuleList()\n  (dropout): Dropout(p=0.0, inplace=False)\n)"
     },
     "execution_count": 43,
     "metadata": {},
     "output_type": "execute_result"
    }
   ],
   "source": [
    "mlp"
   ],
   "metadata": {
    "collapsed": false
   }
  },
  {
   "cell_type": "code",
   "execution_count": 44,
   "outputs": [
    {
     "name": "stdout",
     "output_type": "stream",
     "text": [
      "tensor([[ -2.2520,  -0.1112, -10.1291],\n",
      "        [ -1.4973,  -0.2536,  -8.2817],\n",
      "        [ -2.3534,  -0.0999, -11.2415],\n",
      "        [ -2.0329,  -0.1404, -10.4888],\n",
      "        [ -0.6985,  -0.7010,  -5.0197]], grad_fn=<SliceBackward0>) \n",
      "\n",
      " tensor([[1.0518e-01, 8.9478e-01, 3.9900e-05],\n",
      "        [2.2374e-01, 7.7600e-01, 2.5311e-04],\n",
      "        [9.5047e-02, 9.0494e-01, 1.3119e-05],\n",
      "        [1.3096e-01, 8.6901e-01, 2.7845e-05],\n",
      "        [4.9732e-01, 4.9607e-01, 6.6066e-03]], grad_fn=<SliceBackward0>) \n",
      "\n",
      " tensor([[1.0518e-01, 8.9478e-01, 3.9900e-05],\n",
      "        [2.2374e-01, 7.7600e-01, 2.5311e-04],\n",
      "        [9.5047e-02, 9.0494e-01, 1.3119e-05],\n",
      "        [1.3096e-01, 8.6901e-01, 2.7845e-05],\n",
      "        [4.9732e-01, 4.9607e-01, 6.6066e-03]], grad_fn=<SliceBackward0>)\n"
     ]
    }
   ],
   "source": [
    "logsoftmax = torch.nn.LogSoftmax(dim=1)\n",
    "softmax = torch.nn.Softmax(dim=1)\n",
    "\n",
    "logit  = mlp(train_x)\n",
    "logp = logsoftmax(logit)\n",
    "p = softmax(logit)\n",
    "print(logp[:5],'\\n\\n',p[:5],'\\n\\n',torch.exp(logp)[:5])\n"
   ],
   "metadata": {
    "collapsed": false
   }
  },
  {
   "cell_type": "code",
   "execution_count": 45,
   "outputs": [
    {
     "name": "stdout",
     "output_type": "stream",
     "text": [
      "[[0.    0.375 0.375]\n",
      " [0.375 0.    0.375]\n",
      " [0.375 0.375 0.   ]\n",
      " [0.25  0.25  0.25 ]] \n",
      "\n",
      " tensor([0, 0, 3, 0, 3], dtype=torch.int32) \n",
      "\n",
      " [[0.    0.375 0.375]\n",
      " [0.    0.375 0.375]\n",
      " [0.25  0.25  0.25 ]\n",
      " [0.    0.375 0.375]\n",
      " [0.25  0.25  0.25 ]]\n"
     ]
    }
   ],
   "source": [
    "print(Weak.M,'\\n\\n',Weak.z[:5],'\\n\\n',Weak.M[Weak.z][:5,:])"
   ],
   "metadata": {
    "collapsed": false
   }
  },
  {
   "cell_type": "code",
   "execution_count": 46,
   "outputs": [],
   "source": [
    "Q = p[:5,:] * torch.tensor(Weak.M[Weak.z][:5,:])\n",
    "Q /= torch.sum(Q,dim=1,keepdim=True)"
   ],
   "metadata": {
    "collapsed": false
   }
  },
  {
   "cell_type": "code",
   "execution_count": 47,
   "outputs": [
    {
     "data": {
      "text/plain": "tensor([[0.0000e+00, 9.9996e-01, 4.4590e-05],\n        [0.0000e+00, 9.9967e-01, 3.2607e-04],\n        [9.5047e-02, 9.0494e-01, 1.3119e-05],\n        [0.0000e+00, 9.9997e-01, 3.2041e-05],\n        [4.9732e-01, 4.9607e-01, 6.6066e-03]], dtype=torch.float64,\n       grad_fn=<DivBackward0>)"
     },
     "execution_count": 47,
     "metadata": {},
     "output_type": "execute_result"
    }
   ],
   "source": [
    "Q"
   ],
   "metadata": {
    "collapsed": false
   }
  },
  {
   "cell_type": "code",
   "execution_count": 48,
   "outputs": [],
   "source": [
    "class EMLoss(nn.Module):\n",
    "    def __init__(self,M):\n",
    "        super(EMLoss, self).__init__()\n",
    "        self.logsoftmax = torch.nn.LogSoftmax(dim=1)\n",
    "        self.M = M\n",
    "    def forward(self,out,z):\n",
    "        logp = logsoftmax(out)\n",
    "        p = torch.exp(logp)\n",
    "        Q = p * torch.tensor(self.M[z])\n",
    "        Q /= torch.sum(Q,dim=1,keepdim=True)\n",
    "        L = -torch.sum(Q*logp)\n",
    "        return L\n"
   ],
   "metadata": {
    "collapsed": false
   }
  },
  {
   "cell_type": "code",
   "execution_count": 49,
   "outputs": [],
   "source": [
    "loss = EMLoss(Weak.M)"
   ],
   "metadata": {
    "collapsed": false
   }
  },
  {
   "cell_type": "code",
   "execution_count": 50,
   "outputs": [
    {
     "data": {
      "text/plain": "tensor(1.5511, dtype=torch.float64, grad_fn=<NegBackward0>)"
     },
     "execution_count": 50,
     "metadata": {},
     "output_type": "execute_result"
    }
   ],
   "source": [
    "loss(logit[:5,:],z[:5])"
   ],
   "metadata": {
    "collapsed": false
   }
  },
  {
   "cell_type": "code",
   "execution_count": 51,
   "outputs": [
    {
     "data": {
      "text/plain": "[Parameter containing:\n tensor([[ 0.4396,  0.3113,  0.1702,  0.0982],\n         [ 0.2022,  0.5303,  0.7224,  0.3857],\n         [-0.0492, -0.0053, -0.5295, -0.2086]], requires_grad=True),\n Parameter containing:\n tensor([-0.0263, -0.4498, -0.2378], requires_grad=True)]"
     },
     "execution_count": 51,
     "metadata": {},
     "output_type": "execute_result"
    }
   ],
   "source": [
    "[param for param in mlp.parameters()]"
   ],
   "metadata": {
    "collapsed": false
   }
  },
  {
   "cell_type": "code",
   "execution_count": null,
   "outputs": [],
   "source": [],
   "metadata": {
    "collapsed": false
   }
  }
 ],
 "metadata": {
  "kernelspec": {
   "display_name": "Python 3",
   "language": "python",
   "name": "python3"
  },
  "language_info": {
   "codemirror_mode": {
    "name": "ipython",
    "version": 2
   },
   "file_extension": ".py",
   "mimetype": "text/x-python",
   "name": "python",
   "nbconvert_exporter": "python",
   "pygments_lexer": "ipython2",
   "version": "2.7.6"
  }
 },
 "nbformat": 4,
 "nbformat_minor": 0
}
