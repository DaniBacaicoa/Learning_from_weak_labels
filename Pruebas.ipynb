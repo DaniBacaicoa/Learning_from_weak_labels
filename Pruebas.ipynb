{
 "cells": [
  {
   "cell_type": "code",
   "execution_count": 1,
   "outputs": [],
   "source": [
    "import torch\n",
    "import numpy as np\n",
    "from datasets.openml_datasets import OpenML_Dataset\n",
    "\n",
    "from utils.weakener import Weakener\n",
    "from models.model import MLP\n",
    "from utils.losses import PartialLoss,LBLoss,EMLoss,OSLCELoss,OSLBrierLoss\n",
    "from utils.trainig_testing import train_model,evaluate_model,train_and_evaluate\n"
   ],
   "metadata": {
    "collapsed": false
   }
  },
  {
   "cell_type": "code",
   "execution_count": 2,
   "outputs": [],
   "source": [
    "Data = OpenML_Dataset('iris')\n",
    "train_x, train_y, test_x, test_y = Data.get_data()"
   ],
   "metadata": {
    "collapsed": false
   }
  },
  {
   "cell_type": "code",
   "execution_count": 3,
   "outputs": [],
   "source": [
    "Weak = Weakener(Data.num_classes)\n",
    "Weak.generate_M(model_class='pll')"
   ],
   "metadata": {
    "collapsed": false
   }
  },
  {
   "cell_type": "code",
   "execution_count": 4,
   "outputs": [
    {
     "data": {
      "text/plain": "(array([[0.   , 0.375, 0.375],\n        [0.375, 0.   , 0.375],\n        [0.375, 0.375, 0.   ],\n        [0.25 , 0.25 , 0.25 ]]),\n array([[0, 1, 1],\n        [1, 0, 1],\n        [1, 1, 0],\n        [1, 1, 1]]))"
     },
     "execution_count": 4,
     "metadata": {},
     "output_type": "execute_result"
    }
   ],
   "source": [
    "Weak.M,Weak.Z"
   ],
   "metadata": {
    "collapsed": false
   }
  },
  {
   "cell_type": "code",
   "execution_count": null,
   "outputs": [],
   "source": [],
   "metadata": {
    "collapsed": false
   }
  },
  {
   "cell_type": "code",
   "execution_count": 25,
   "outputs": [],
   "source": [
    "z,w = Weak.generate_weak(train_y)"
   ],
   "metadata": {
    "collapsed": false
   }
  },
  {
   "cell_type": "code",
   "execution_count": 26,
   "outputs": [
    {
     "data": {
      "text/plain": "(tensor([[0., 0., 1.],\n         [0., 1., 0.],\n         [0., 0., 1.],\n         [0., 1., 0.],\n         [1., 0., 0.]]),\n tensor([3, 0, 0, 2, 2], dtype=torch.int32),\n tensor([[1., 1., 1.],\n         [0., 1., 1.],\n         [0., 1., 1.],\n         [1., 1., 0.],\n         [1., 1., 0.]], dtype=torch.float64))"
     },
     "execution_count": 26,
     "metadata": {},
     "output_type": "execute_result"
    }
   ],
   "source": [
    "train_y[:5,:],z[:5],w[:5,:]"
   ],
   "metadata": {
    "collapsed": false
   }
  },
  {
   "cell_type": "code",
   "execution_count": 27,
   "outputs": [
    {
     "data": {
      "text/plain": "array([0.29220765, 0.21428552, 0.24350683, 0.25      ])"
     },
     "execution_count": 27,
     "metadata": {},
     "output_type": "execute_result"
    }
   ],
   "source": [
    "Weak.generate_wl_priors()"
   ],
   "metadata": {
    "collapsed": false
   }
  },
  {
   "cell_type": "code",
   "execution_count": 28,
   "outputs": [],
   "source": [
    "mlp = MLP(Data.num_features,[],Data.num_classes)"
   ],
   "metadata": {
    "collapsed": false
   }
  },
  {
   "cell_type": "code",
   "execution_count": 28,
   "outputs": [],
   "source": [],
   "metadata": {
    "collapsed": false
   }
  },
  {
   "cell_type": "code",
   "execution_count": 29,
   "outputs": [
    {
     "name": "stdout",
     "output_type": "stream",
     "text": [
      "tensor([[-4.1027, -1.6893, -0.2246],\n",
      "        [-3.2781, -1.5813, -0.2789],\n",
      "        [-4.3520, -2.5918, -0.0919],\n",
      "        [-4.0323, -2.1490, -0.1443],\n",
      "        [-1.7862, -1.0807, -0.7071]], grad_fn=<SliceBackward0>) tensor([[0.0165, 0.1847, 0.7988],\n",
      "        [0.0377, 0.2057, 0.7566],\n",
      "        [0.0129, 0.0749, 0.9122],\n",
      "        [0.0177, 0.1166, 0.8657],\n",
      "        [0.1676, 0.3394, 0.4931]], grad_fn=<SliceBackward0>) tensor([[0.0165, 0.1847, 0.7988],\n",
      "        [0.0377, 0.2057, 0.7566],\n",
      "        [0.0129, 0.0749, 0.9122],\n",
      "        [0.0177, 0.1166, 0.8657],\n",
      "        [0.1676, 0.3394, 0.4931]], grad_fn=<SliceBackward0>)\n"
     ]
    }
   ],
   "source": [
    "logsoftmax = torch.nn.LogSoftmax(dim=1)\n",
    "softmax = torch.nn.Softmax(dim=1)\n",
    "\n",
    "logit  = mlp(train_x)\n",
    "logp = logsoftmax(logit)\n",
    "p = softmax(logit)\n",
    "print(logp[:5],p[:5],torch.exp(logp)[:5])\n"
   ],
   "metadata": {
    "collapsed": false
   }
  },
  {
   "cell_type": "code",
   "execution_count": 31,
   "outputs": [
    {
     "name": "stdout",
     "output_type": "stream",
     "text": [
      "[[0.    0.375 0.375]\n",
      " [0.375 0.    0.375]\n",
      " [0.375 0.375 0.   ]\n",
      " [0.25  0.25  0.25 ]] \n",
      "\n",
      " tensor([3, 0, 0, 2, 2], dtype=torch.int32) \n",
      "\n",
      " [[0.25  0.25  0.25 ]\n",
      " [0.    0.375 0.375]\n",
      " [0.    0.375 0.375]\n",
      " [0.375 0.375 0.   ]\n",
      " [0.375 0.375 0.   ]]\n"
     ]
    }
   ],
   "source": [
    "print(Weak.M,'\\n\\n',Weak.z[:5],'\\n\\n',Weak.M[Weak.z][:5,:])"
   ],
   "metadata": {
    "collapsed": false
   }
  },
  {
   "cell_type": "code",
   "execution_count": 38,
   "outputs": [],
   "source": [
    "Q = p[:5,:] * torch.tensor(Weak.M[Weak.z][:5,:])\n",
    "Q /= torch.sum(Q,dim=1,keepdim=True)"
   ],
   "metadata": {
    "collapsed": false
   }
  },
  {
   "cell_type": "code",
   "execution_count": 41,
   "outputs": [
    {
     "data": {
      "text/plain": "tensor([[0.0165, 0.1847, 0.7988],\n        [0.0000, 0.2138, 0.7862],\n        [0.0000, 0.0759, 0.9241],\n        [0.1320, 0.8680, 0.0000],\n        [0.3306, 0.6694, 0.0000]], dtype=torch.float64, grad_fn=<DivBackward0>)"
     },
     "execution_count": 41,
     "metadata": {},
     "output_type": "execute_result"
    }
   ],
   "source": [
    "Q"
   ],
   "metadata": {
    "collapsed": false
   }
  },
  {
   "cell_type": "code",
   "execution_count": null,
   "outputs": [],
   "source": [
    "class EMLoss(torch.nn.module):\n",
    "    def __init__(self,M):\n",
    "        super(EMLoss, self).__init__()\n",
    "        self.logsoftmax = torch.nn.LogSoftmax(dim=1)\n",
    "        self.M = M\n",
    "    def forward(self,out,z):\n",
    "        logp = logsoftmax(out)\n",
    "        p = torch.exp(logp)\n",
    "        Q = p * torch.tensor(self.M[z])\n",
    "        Q /= torch.sum(Q,dim=1,keepdim=True)\n",
    "        L = -torch.sum(Q*logp)\n",
    "        return L\n",
    "\n",
    "\n",
    "\n",
    "\n",
    "\n"
   ],
   "metadata": {
    "collapsed": false
   }
  }
 ],
 "metadata": {
  "kernelspec": {
   "display_name": "Python 3",
   "language": "python",
   "name": "python3"
  },
  "language_info": {
   "codemirror_mode": {
    "name": "ipython",
    "version": 2
   },
   "file_extension": ".py",
   "mimetype": "text/x-python",
   "name": "python",
   "nbconvert_exporter": "python",
   "pygments_lexer": "ipython2",
   "version": "2.7.6"
  }
 },
 "nbformat": 4,
 "nbformat_minor": 0
}
