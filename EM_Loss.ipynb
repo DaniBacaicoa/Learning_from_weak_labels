{
 "cells": [
  {
   "cell_type": "code",
   "execution_count": 1,
   "metadata": {
    "collapsed": true
   },
   "outputs": [],
   "source": [
    "import torch\n",
    "import torch.nn as nn\n",
    "import numpy as np\n",
    "\n",
    "from datasets.openml_datasets import OpenML_Dataset\n",
    "from datasets.torch_datasets import Torch_Dataset\n",
    "from utils.weakener import Weakener\n",
    "from models.model import MLP\n",
    "from utils.losses import PartialLoss,EMLoss\n",
    "from utils.trainig_testing import train_and_evaluate,warm_up"
   ]
  },
  {
   "cell_type": "code",
   "execution_count": 2,
   "outputs": [
    {
     "name": "stdout",
     "output_type": "stream",
     "text": [
      "Downloading http://codh.rois.ac.jp/kmnist/dataset/kmnist/train-images-idx3-ubyte.gz\n",
      "Downloading http://codh.rois.ac.jp/kmnist/dataset/kmnist/train-images-idx3-ubyte.gz to ./data\\KMNIST\\raw\\train-images-idx3-ubyte.gz\n"
     ]
    },
    {
     "name": "stderr",
     "output_type": "stream",
     "text": [
      "100.0%\n"
     ]
    },
    {
     "name": "stdout",
     "output_type": "stream",
     "text": [
      "Extracting ./data\\KMNIST\\raw\\train-images-idx3-ubyte.gz to ./data\\KMNIST\\raw\n",
      "\n",
      "Downloading http://codh.rois.ac.jp/kmnist/dataset/kmnist/train-labels-idx1-ubyte.gz\n",
      "Downloading http://codh.rois.ac.jp/kmnist/dataset/kmnist/train-labels-idx1-ubyte.gz to ./data\\KMNIST\\raw\\train-labels-idx1-ubyte.gz\n"
     ]
    },
    {
     "name": "stderr",
     "output_type": "stream",
     "text": [
      "100.0%\n"
     ]
    },
    {
     "name": "stdout",
     "output_type": "stream",
     "text": [
      "Extracting ./data\\KMNIST\\raw\\train-labels-idx1-ubyte.gz to ./data\\KMNIST\\raw\n",
      "\n",
      "Downloading http://codh.rois.ac.jp/kmnist/dataset/kmnist/t10k-images-idx3-ubyte.gz\n",
      "Downloading http://codh.rois.ac.jp/kmnist/dataset/kmnist/t10k-images-idx3-ubyte.gz to ./data\\KMNIST\\raw\\t10k-images-idx3-ubyte.gz\n"
     ]
    },
    {
     "name": "stderr",
     "output_type": "stream",
     "text": [
      "100.0%\n"
     ]
    },
    {
     "name": "stdout",
     "output_type": "stream",
     "text": [
      "Extracting ./data\\KMNIST\\raw\\t10k-images-idx3-ubyte.gz to ./data\\KMNIST\\raw\n",
      "\n",
      "Downloading http://codh.rois.ac.jp/kmnist/dataset/kmnist/t10k-labels-idx1-ubyte.gz\n",
      "Downloading http://codh.rois.ac.jp/kmnist/dataset/kmnist/t10k-labels-idx1-ubyte.gz to ./data\\KMNIST\\raw\\t10k-labels-idx1-ubyte.gz\n"
     ]
    },
    {
     "name": "stderr",
     "output_type": "stream",
     "text": [
      "100.0%"
     ]
    },
    {
     "name": "stdout",
     "output_type": "stream",
     "text": [
      "Extracting ./data\\KMNIST\\raw\\t10k-labels-idx1-ubyte.gz to ./data\\KMNIST\\raw\n",
      "\n"
     ]
    },
    {
     "name": "stderr",
     "output_type": "stream",
     "text": [
      "\n"
     ]
    }
   ],
   "source": [
    "Data = Torch_Dataset('kmnist', batch_size=64)\n",
    "Weak = Weakener(Data.num_classes)\n",
    "#Weak.generate_M(model_class='pll')"
   ],
   "metadata": {
    "collapsed": false
   }
  },
  {
   "cell_type": "code",
   "execution_count": 3,
   "outputs": [
    {
     "name": "stdout",
     "output_type": "stream",
     "text": [
      "Methods for Data Class \n",
      " ['get_data', 'get_dataloader', 'include_weak', 'transform'] \n",
      "Instances for Data Class \n",
      " ['batch_size', 'dataset', 'num_classes', 'num_features', 'shuffle', 'test_dataset', 'test_num_samples', 'train_dataset', 'train_num_samples', 'weak_labels'] \n",
      "\n",
      "Methods for Weak Class \n",
      " ['generate_M', 'generate_weak', 'generate_wl_priors', 'label_matrix', 'pll_weights', 'virtual_labels', 'virtual_matrix'] \n",
      "Instances for Weak Class \n",
      " ['M', 'c', 'd', 'w', 'z']\n"
     ]
    }
   ],
   "source": [
    "print('Methods for Data Class','\\n',[method for method in dir(Data) if (method[0] != '_') & callable(getattr(Data, method)) ],'\\n'\n",
    "      'Instances for Data Class','\\n',[method for method in dir(Data) if (method[0] != '_') & (method not in [method for method in dir(Data) if (method[0] != '_') & callable(getattr(Data, method)) ]) ],'\\n\\n'\n",
    "      'Methods for Weak Class','\\n',[method for method in dir(Weak) if (method[0] != '_') & callable(getattr(Weak, method)) ],'\\n'\n",
    "      'Instances for Weak Class','\\n',[method for method in dir(Weak) if (method[0] != '_') & (method not in [method for method in dir(Weak) if (method[0] != '_') & callable(getattr(Weak, method)) ]) ])"
   ],
   "metadata": {
    "collapsed": false
   }
  },
  {
   "cell_type": "code",
   "execution_count": 4,
   "outputs": [
    {
     "data": {
      "text/plain": "(array([[0.        , 0.        , 0.        , 0.        , 0.        ,\n         0.        , 0.        , 0.        , 0.00217014, 0.00217014],\n        [0.        , 0.        , 0.        , 0.        , 0.        ,\n         0.        , 0.        , 0.00217014, 0.        , 0.00217014],\n        [0.        , 0.        , 0.        , 0.        , 0.        ,\n         0.        , 0.        , 0.00217014, 0.00217014, 0.        ],\n        [0.        , 0.        , 0.        , 0.        , 0.        ,\n         0.        , 0.        , 0.00195312, 0.00195312, 0.00195312],\n        [0.        , 0.        , 0.        , 0.        , 0.        ,\n         0.        , 0.00217014, 0.        , 0.        , 0.00217014]]),\n array([[0, 0, 0, 0, 0, 0, 0, 0, 1, 1],\n        [0, 0, 0, 0, 0, 0, 0, 1, 0, 1],\n        [0, 0, 0, 0, 0, 0, 0, 1, 1, 0],\n        [0, 0, 0, 0, 0, 0, 0, 1, 1, 1],\n        [0, 0, 0, 0, 0, 0, 1, 0, 0, 1]]))"
     },
     "execution_count": 4,
     "metadata": {},
     "output_type": "execute_result"
    }
   ],
   "source": [
    "Weak.generate_M('pll',pll_p=0.5)\n",
    "Weak.M[:5,:],Weak.Z[:5,:]"
   ],
   "metadata": {
    "collapsed": false
   }
  },
  {
   "cell_type": "code",
   "execution_count": 5,
   "outputs": [
    {
     "name": "stdout",
     "output_type": "stream",
     "text": [
      "torch.Size([60000, 784])\n"
     ]
    }
   ],
   "source": [
    "train_X,train_y,test_X,test_y =  Data.get_data()\n",
    "print(train_X.shape)"
   ],
   "metadata": {
    "collapsed": false
   }
  },
  {
   "cell_type": "code",
   "execution_count": 6,
   "outputs": [
    {
     "data": {
      "text/plain": "(tensor([321, 437, 636,  ..., 892, 112, 393], dtype=torch.int32),\n tensor([[0., 1., 0.,  ..., 0., 1., 1.],\n         [0., 1., 1.,  ..., 1., 1., 1.],\n         [1., 0., 1.,  ..., 1., 1., 1.],\n         ...,\n         [1., 1., 1.,  ..., 1., 1., 1.],\n         [0., 0., 0.,  ..., 0., 0., 0.],\n         [0., 1., 1.,  ..., 0., 1., 1.]], dtype=torch.float64))"
     },
     "execution_count": 6,
     "metadata": {},
     "output_type": "execute_result"
    }
   ],
   "source": [
    "Weak.generate_weak(train_y)"
   ],
   "metadata": {
    "collapsed": false
   }
  },
  {
   "cell_type": "code",
   "execution_count": 7,
   "outputs": [
    {
     "data": {
      "text/plain": "(tensor([[0., 0., 0., 0., 0., 0., 0., 0., 1., 0.],\n         [0., 0., 0., 0., 0., 0., 0., 1., 0., 0.],\n         [1., 0., 0., 0., 0., 0., 0., 0., 0., 0.],\n         [0., 1., 0., 0., 0., 0., 0., 0., 0., 0.],\n         [0., 0., 0., 0., 1., 0., 0., 0., 0., 0.]]),\n tensor([321, 437, 636, 338, 240], dtype=torch.int32),\n tensor([[0., 1., 0., 1., 0., 0., 1., 0., 1., 1.],\n         [0., 1., 1., 0., 1., 1., 1., 1., 1., 1.],\n         [1., 0., 1., 0., 0., 0., 0., 1., 1., 1.],\n         [0., 1., 0., 1., 0., 1., 1., 1., 0., 0.],\n         [0., 0., 1., 1., 1., 1., 1., 0., 0., 1.]], dtype=torch.float64))"
     },
     "execution_count": 7,
     "metadata": {},
     "output_type": "execute_result"
    }
   ],
   "source": [
    "train_y[:5,:],Weak.z[:5],Weak.w[:5,:]"
   ],
   "metadata": {
    "collapsed": false
   }
  },
  {
   "cell_type": "code",
   "execution_count": 8,
   "outputs": [],
   "source": [
    "Data.include_weak(Weak.z)"
   ],
   "metadata": {
    "collapsed": false
   }
  },
  {
   "cell_type": "code",
   "execution_count": 9,
   "outputs": [],
   "source": [
    "trainloader,testloader = Data.get_dataloader()"
   ],
   "metadata": {
    "collapsed": false
   }
  },
  {
   "cell_type": "code",
   "execution_count": 10,
   "outputs": [
    {
     "name": "stdout",
     "output_type": "stream",
     "text": [
      "Methods for MLP Class \n",
      " ['add_module', 'apply', 'bfloat16', 'buffers', 'children', 'cpu', 'cuda', 'double', 'eval', 'extra_repr', 'float', 'forward', 'get_buffer', 'get_extra_state', 'get_parameter', 'get_submodule', 'half', 'ipu', 'load_state_dict', 'modules', 'named_buffers', 'named_children', 'named_modules', 'named_parameters', 'parameters', 'register_backward_hook', 'register_buffer', 'register_forward_hook', 'register_forward_pre_hook', 'register_full_backward_hook', 'register_load_state_dict_post_hook', 'register_module', 'register_parameter', 'requires_grad_', 'set_extra_state', 'share_memory', 'state_dict', 'to', 'to_empty', 'train', 'type', 'xpu', 'zero_grad'] \n",
      "Instances for MLP Class \n",
      " ['T_destination', 'dump_patches']\n"
     ]
    }
   ],
   "source": [
    "print('Methods for MLP Class','\\n',[method for method in dir(MLP) if (method[0] != '_') & callable(getattr(MLP, method)) ],'\\n'\n",
    "      'Instances for MLP Class','\\n',[method for method in dir(MLP) if (method[0] != '_') & (method not in [method for method in dir(MLP) if (method[0] != '_') & callable(getattr(MLP, method))])])"
   ],
   "metadata": {
    "collapsed": false
   }
  },
  {
   "cell_type": "markdown",
   "source": [],
   "metadata": {
    "collapsed": false
   }
  },
  {
   "cell_type": "markdown",
   "source": [],
   "metadata": {
    "collapsed": false
   }
  },
  {
   "cell_type": "code",
   "execution_count": 11,
   "outputs": [],
   "source": [
    "mlp = MLP(Data.num_features,[Data.num_features],Data.num_classes, dropout_p=0.5, bn=True, activation =  'gelu')"
   ],
   "metadata": {
    "collapsed": false
   }
  },
  {
   "cell_type": "code",
   "execution_count": 12,
   "outputs": [
    {
     "data": {
      "text/plain": "MLP(\n  (layers): ModuleList(\n    (0): Linear(in_features=784, out_features=784, bias=True)\n    (1): Linear(in_features=784, out_features=10, bias=True)\n  )\n  (batch_norms): ModuleList(\n    (0): BatchNorm1d(784, eps=1e-05, momentum=0.1, affine=True, track_running_stats=True)\n  )\n  (dropout): Dropout(p=0.5, inplace=False)\n)"
     },
     "execution_count": 12,
     "metadata": {},
     "output_type": "execute_result"
    }
   ],
   "source": [
    "mlp"
   ],
   "metadata": {
    "collapsed": false
   }
  },
  {
   "cell_type": "code",
   "execution_count": 13,
   "outputs": [],
   "source": [
    "optim = torch.optim.Adam(mlp.parameters(),lr=1e-2)\n",
    "loss = EMLoss(Weak.M)"
   ],
   "metadata": {
    "collapsed": false
   }
  },
  {
   "cell_type": "code",
   "execution_count": 14,
   "outputs": [
    {
     "name": "stdout",
     "output_type": "stream",
     "text": [
      "Epoch 1/50: Train Loss: 0.4863, Train Acc: 0.8087, Test Acc: 0.7986\n",
      "Epoch 2/50: Train Loss: 0.3040, Train Acc: 0.8848, Test Acc: 0.8132\n",
      "Epoch 3/50: Train Loss: 0.2554, Train Acc: 0.8941, Test Acc: 0.8381\n",
      "Epoch 4/50: Train Loss: 0.2289, Train Acc: 0.8995, Test Acc: 0.8520\n",
      "Epoch 5/50: Train Loss: 0.2085, Train Acc: 0.9063, Test Acc: 0.8450\n",
      "Epoch 6/50: Train Loss: 0.1907, Train Acc: 0.9089, Test Acc: 0.8448\n",
      "Epoch 7/50: Train Loss: 0.1838, Train Acc: 0.9115, Test Acc: 0.8626\n",
      "Epoch 8/50: Train Loss: 0.1696, Train Acc: 0.9163, Test Acc: 0.8780\n",
      "Epoch 9/50: Train Loss: 0.1612, Train Acc: 0.9177, Test Acc: 0.8679\n",
      "Epoch 10/50: Train Loss: 0.1496, Train Acc: 0.9216, Test Acc: 0.8711\n",
      "Epoch 11/50: Train Loss: 0.1385, Train Acc: 0.9251, Test Acc: 0.8753\n",
      "Epoch 12/50: Train Loss: 0.1386, Train Acc: 0.9265, Test Acc: 0.8804\n",
      "Epoch 13/50: Train Loss: 0.1326, Train Acc: 0.9274, Test Acc: 0.8741\n",
      "Epoch 14/50: Train Loss: 0.1333, Train Acc: 0.9270, Test Acc: 0.8728\n",
      "Epoch 15/50: Train Loss: 0.1269, Train Acc: 0.9303, Test Acc: 0.8820\n",
      "Epoch 16/50: Train Loss: 0.1230, Train Acc: 0.9302, Test Acc: 0.8814\n",
      "Epoch 17/50: Train Loss: 0.1166, Train Acc: 0.9317, Test Acc: 0.8855\n",
      "Epoch 18/50: Train Loss: 0.1184, Train Acc: 0.9339, Test Acc: 0.8865\n",
      "Epoch 19/50: Train Loss: 0.1071, Train Acc: 0.9354, Test Acc: 0.8831\n",
      "Epoch 20/50: Train Loss: 0.1136, Train Acc: 0.9343, Test Acc: 0.8894\n",
      "Epoch 21/50: Train Loss: 0.1105, Train Acc: 0.9368, Test Acc: 0.8845\n",
      "Epoch 22/50: Train Loss: 0.1077, Train Acc: 0.9362, Test Acc: 0.8862\n",
      "Epoch 23/50: Train Loss: 0.1089, Train Acc: 0.9355, Test Acc: 0.8882\n",
      "Epoch 24/50: Train Loss: 0.0991, Train Acc: 0.9399, Test Acc: 0.8893\n",
      "Epoch 25/50: Train Loss: 0.1009, Train Acc: 0.9395, Test Acc: 0.8878\n",
      "Epoch 26/50: Train Loss: 0.1012, Train Acc: 0.9404, Test Acc: 0.8901\n",
      "Epoch 27/50: Train Loss: 0.0990, Train Acc: 0.9405, Test Acc: 0.8878\n",
      "Epoch 28/50: Train Loss: 0.0967, Train Acc: 0.9404, Test Acc: 0.8940\n",
      "Epoch 29/50: Train Loss: 0.0988, Train Acc: 0.9404, Test Acc: 0.8905\n",
      "Epoch 30/50: Train Loss: 0.1013, Train Acc: 0.9397, Test Acc: 0.8892\n",
      "Epoch 31/50: Train Loss: 0.0940, Train Acc: 0.9422, Test Acc: 0.8889\n",
      "Epoch 32/50: Train Loss: 0.0978, Train Acc: 0.9427, Test Acc: 0.8847\n",
      "Epoch 33/50: Train Loss: 0.0923, Train Acc: 0.9422, Test Acc: 0.8970\n",
      "Epoch 34/50: Train Loss: 0.0874, Train Acc: 0.9414, Test Acc: 0.8983\n",
      "Epoch 35/50: Train Loss: 0.0906, Train Acc: 0.9451, Test Acc: 0.8915\n",
      "Epoch 36/50: Train Loss: 0.0934, Train Acc: 0.9430, Test Acc: 0.9009\n",
      "Epoch 37/50: Train Loss: 0.0869, Train Acc: 0.9444, Test Acc: 0.8917\n",
      "Epoch 38/50: Train Loss: 0.0923, Train Acc: 0.9435, Test Acc: 0.8928\n",
      "Epoch 39/50: Train Loss: 0.0933, Train Acc: 0.9427, Test Acc: 0.8893\n",
      "Epoch 40/50: Train Loss: 0.0943, Train Acc: 0.9433, Test Acc: 0.8919\n",
      "Epoch 41/50: Train Loss: 0.0861, Train Acc: 0.9452, Test Acc: 0.8954\n",
      "Epoch 42/50: Train Loss: 0.0865, Train Acc: 0.9457, Test Acc: 0.8870\n",
      "Epoch 43/50: Train Loss: 0.0910, Train Acc: 0.9455, Test Acc: 0.8916\n",
      "Epoch 44/50: Train Loss: 0.0838, Train Acc: 0.9469, Test Acc: 0.8903\n",
      "Epoch 45/50: Train Loss: 0.0909, Train Acc: 0.9459, Test Acc: 0.8941\n",
      "Epoch 46/50: Train Loss: 0.0881, Train Acc: 0.9464, Test Acc: 0.8908\n",
      "Epoch 47/50: Train Loss: 0.0822, Train Acc: 0.9475, Test Acc: 0.8884\n",
      "Epoch 48/50: Train Loss: 0.0879, Train Acc: 0.9460, Test Acc: 0.8947\n",
      "Epoch 49/50: Train Loss: 0.0848, Train Acc: 0.9475, Test Acc: 0.8961\n",
      "Epoch 50/50: Train Loss: 0.0835, Train Acc: 0.9471, Test Acc: 0.8939\n"
     ]
    }
   ],
   "source": [
    "mlp, results = train_and_evaluate(mlp,trainloader,testloader,optimizer=optim,loss_fn=loss,num_epochs=50,sound = 1)"
   ],
   "metadata": {
    "collapsed": false
   }
  },
  {
   "cell_type": "code",
   "execution_count": 15,
   "outputs": [
    {
     "data": {
      "text/plain": "<Figure size 1000x500 with 2 Axes>",
      "image/png": "[encoded data removed]"
     },
     "metadata": {},
     "output_type": "display_data"
    }
   ],
   "source": [
    "import matplotlib.pyplot as plt\n",
    "fig, (ax1, ax2) = plt.subplots(1, 2, figsize=(10, 5))\n",
    "\n",
    "# Plot the first subplot (Train Loss)\n",
    "ax1.plot(results['train_loss'])\n",
    "ax1.set_xlabel('Epoch')\n",
    "ax1.set_ylabel('Loss')\n",
    "ax1.set_title('Train Loss')\n",
    "\n",
    "# Plot the second subplot (Accuracies)\n",
    "ax2.plot(results['train_acc'], label='Train Accuracy')\n",
    "ax2.plot(results['test_acc'], label='Test Accuracy')\n",
    "ax2.set_xlabel('Epoch')\n",
    "ax2.set_ylabel('Accuracy')\n",
    "ax2.set_title('Accuracies')\n",
    "ax2.legend()\n",
    "\n",
    "fig.suptitle('EM Learning Results', fontsize=18, fontweight='bold', y=1.05)\n",
    "# Show the plot\n",
    "plt.show()"
   ],
   "metadata": {
    "collapsed": false
   }
  },
  {
   "cell_type": "code",
   "execution_count": 17,
   "outputs": [
    {
     "data": {
      "text/plain": "tensor(0.8928)"
     },
     "execution_count": 17,
     "metadata": {},
     "output_type": "execute_result"
    }
   ],
   "source": [
    "torch.mean(results['test_acc'][45:])"
   ],
   "metadata": {
    "collapsed": false
   }
  },
  {
   "cell_type": "code",
   "execution_count": 16,
   "outputs": [],
   "source": [],
   "metadata": {
    "collapsed": false
   }
  }
 ],
 "metadata": {
  "kernelspec": {
   "display_name": "Python 3",
   "language": "python",
   "name": "python3"
  },
  "language_info": {
   "codemirror_mode": {
    "name": "ipython",
    "version": 2
   },
   "file_extension": ".py",
   "mimetype": "text/x-python",
   "name": "python",
   "nbconvert_exporter": "python",
   "pygments_lexer": "ipython2",
   "version": "2.7.6"
  }
 },
 "nbformat": 4,
 "nbformat_minor": 0
}
